{
 "cells": [
  {
   "cell_type": "markdown",
   "metadata": {
    "_uuid": "9027e4b0f8ddc737e1b9560eba4a4d97ef9ffcc6"
   },
   "source": [
    "<h1><center><font size=\"6\">Credit Card Fraud Detection Predictive Models</font></center></h1>\n",
    "\n",
    "\n",
    "\n",
    "# <a id='0'>Content</a>\n",
    "\n",
    "- <a href='#1'>Introduction</a>  \n",
    "- <a href='#2'>Load packages</a>  \n",
    "- <a href='#3'>Read the data</a>  \n",
    "- <a href='#4'>Check the data</a>  \n",
    "    - <a href='#41'>Glimpse the data</a>  \n",
    "    - <a href='#42'>Check missing data</a>\n",
    "    - <a href='#43'>Check data unbalance</a>\n",
    "- <a href='#5'>Data exploration</a>\n",
    "- <a href='#6'>Predictive models</a>  \n",
    "    - <a href='#61'>RandomForrestClassifier</a> \n",
    "    - <a href='#62'>AdaBoostClassifier</a>     \n",
    "    - <a href='#63'>CatBoostClassifier</a> \n",
    "    - <a href='#64'>XGBoost</a> \n",
    "    - <a href='#65'>LightGBM</a> \n",
    "- <a href='#7'>Conclusions</a>\n",
    "- <a href='#8'>References</a>\n"
   ]
  },
  {
   "cell_type": "markdown",
   "metadata": {
    "_uuid": "0b64f006df02ccee229320fef8063dc5a2933c1a"
   },
   "source": [
    "# <a id=\"1\">Introduction</a>  \n",
    "\n",
    "The datasets contains transactions made by credit cards in **September 2013** by european cardholders. This dataset presents transactions that occurred in two days, where we have **492 frauds** out of **284,807 transactions**. The dataset is **highly unbalanced**, the **positive class (frauds)** account for **0.172%** of all transactions.  \n",
    "\n",
    "It contains only numerical input variables which are the result of a **PCA transformation**.   \n",
    "\n",
    "Due to confidentiality issues, there are not provided the original features and more background information about the data.  \n",
    "\n",
    "* Features **V1**, **V2**, ... **V28** are the **principal components** obtained with **PCA**;  \n",
    "* The only features which have not been transformed with PCA are **Time** and **Amount**. Feature **Time** contains the seconds elapsed between each transaction and the first transaction in the dataset. The feature **Amount** is the transaction Amount, this feature can be used for example-dependant cost-senstive learning.   \n",
    "* Feature **Class** is the response variable and it takes value **1** in case of fraud and **0** otherwise.  \n",
    "\n"
   ]
  },
  {
   "cell_type": "code",
   "execution_count": 1,
   "metadata": {},
   "outputs": [],
   "source": [
    "#!pip install plotly"
   ]
  },
  {
   "cell_type": "markdown",
   "metadata": {
    "_uuid": "e94b258fe0c91fd5bb76107c509fc896db021f2b"
   },
   "source": [
    "# <a id=\"2\">Load packages</a>"
   ]
  },
  {
   "cell_type": "code",
   "execution_count": 2,
   "metadata": {
    "_uuid": "0f34e1e378b762166698b0136c57048a45e7858c"
   },
   "outputs": [
    {
     "data": {
      "text/html": [
       "        <script type=\"text/javascript\">\n",
       "        window.PlotlyConfig = {MathJaxConfig: 'local'};\n",
       "        if (window.MathJax) {MathJax.Hub.Config({SVG: {font: \"STIX-Web\"}});}\n",
       "        if (typeof require !== 'undefined') {\n",
       "        require.undef(\"plotly\");\n",
       "        requirejs.config({\n",
       "            paths: {\n",
       "                'plotly': ['https://cdn.plot.ly/plotly-latest.min']\n",
       "            }\n",
       "        });\n",
       "        require(['plotly'], function(Plotly) {\n",
       "            window._Plotly = Plotly;\n",
       "        });\n",
       "        }\n",
       "        </script>\n",
       "        "
      ]
     },
     "metadata": {},
     "output_type": "display_data"
    }
   ],
   "source": [
    "import pandas as pd \n",
    "import numpy as np\n",
    "import matplotlib\n",
    "import matplotlib.pyplot as plt\n",
    "import seaborn as sns\n",
    "%matplotlib inline \n",
    "import plotly.graph_objs as go\n",
    "import plotly.figure_factory as ff\n",
    "from plotly import tools\n",
    "from plotly.offline import download_plotlyjs, init_notebook_mode, plot, iplot\n",
    "init_notebook_mode(connected=True)\n",
    "\n",
    "\n",
    "import gc\n",
    "from datetime import datetime \n",
    "from sklearn.model_selection import train_test_split\n",
    "from sklearn.model_selection import KFold\n",
    "from sklearn.metrics import roc_auc_score\n",
    "from sklearn.ensemble import RandomForestClassifier\n",
    "from sklearn.ensemble import AdaBoostClassifier\n",
    "from sklearn.ensemble import GradientBoostingClassifier\n",
    "from sklearn import svm\n",
    "\n",
    "pd.set_option('display.max_columns', 100)\n",
    "\n",
    "\n",
    "RFC_METRIC = 'gini'  #metric used for RandomForrestClassifier\n",
    "NUM_ESTIMATORS = 100 #number of estimators used for RandomForrestClassifier\n",
    "NO_JOBS = 4 #number of parallel jobs used for RandomForrestClassifier\n",
    "\n",
    "\n",
    "#TRAIN/VALIDATION/TEST SPLIT\n",
    "#VALIDATION\n",
    "VALID_SIZE = 0.20 # simple validation using train_test_split\n",
    "TEST_SIZE = 0.20 # test size using_train_test_split\n",
    "\n",
    "#CROSS-VALIDATION\n",
    "NUMBER_KFOLDS = 5 #number of KFolds for cross-validation\n",
    "\n",
    "RANDOM_STATE = 42\n",
    "\n",
    "import os"
   ]
  },
  {
   "cell_type": "markdown",
   "metadata": {
    "_uuid": "9eb142be459775c38046265e3b27ccbfd63ed0f6"
   },
   "source": [
    "# <a id=\"3\">Read the data</a>"
   ]
  },
  {
   "cell_type": "code",
   "execution_count": 3,
   "metadata": {
    "_uuid": "42e4a9f9b53f6d46cabd00b64a0e9f52b7abcd82"
   },
   "outputs": [],
   "source": [
    "data_df = pd.read_csv(\"creditcard.csv\")"
   ]
  },
  {
   "cell_type": "markdown",
   "metadata": {
    "_uuid": "0148d5c242773fbe8a10ae54873b6e59b083398e"
   },
   "source": [
    "# <a id=\"4\">Check the data</a>"
   ]
  },
  {
   "cell_type": "code",
   "execution_count": 4,
   "metadata": {
    "_uuid": "ed93a290bcf10bcf817dc9489a308d489c0cfd40"
   },
   "outputs": [
    {
     "name": "stdout",
     "output_type": "stream",
     "text": [
      "Credit Card Fraud Detection data -  rows: 284807  columns: 31\n"
     ]
    }
   ],
   "source": [
    "print(\"Credit Card Fraud Detection data -  rows:\",data_df.shape[0],\" columns:\", data_df.shape[1])"
   ]
  },
  {
   "cell_type": "markdown",
   "metadata": {
    "_uuid": "91c1d7ca1b2e1a15d2dd83c3478df667d6ba6ace"
   },
   "source": [
    "## <a id=\"41\">Glimpse the data</a>\n",
    "\n",
    "We start by looking to the data features (first 5 rows)."
   ]
  },
  {
   "cell_type": "code",
   "execution_count": 5,
   "metadata": {
    "_uuid": "c426639fdeb77bea60513724c6c438a5e8a02f8a"
   },
   "outputs": [
    {
     "data": {
      "text/html": [
       "<div>\n",
       "<style scoped>\n",
       "    .dataframe tbody tr th:only-of-type {\n",
       "        vertical-align: middle;\n",
       "    }\n",
       "\n",
       "    .dataframe tbody tr th {\n",
       "        vertical-align: top;\n",
       "    }\n",
       "\n",
       "    .dataframe thead th {\n",
       "        text-align: right;\n",
       "    }\n",
       "</style>\n",
       "<table border=\"1\" class=\"dataframe\">\n",
       "  <thead>\n",
       "    <tr style=\"text-align: right;\">\n",
       "      <th></th>\n",
       "      <th>Time</th>\n",
       "      <th>V1</th>\n",
       "      <th>V2</th>\n",
       "      <th>V3</th>\n",
       "      <th>V4</th>\n",
       "      <th>V5</th>\n",
       "      <th>V6</th>\n",
       "      <th>V7</th>\n",
       "      <th>V8</th>\n",
       "      <th>V9</th>\n",
       "      <th>V10</th>\n",
       "      <th>V11</th>\n",
       "      <th>V12</th>\n",
       "      <th>V13</th>\n",
       "      <th>V14</th>\n",
       "      <th>V15</th>\n",
       "      <th>V16</th>\n",
       "      <th>V17</th>\n",
       "      <th>V18</th>\n",
       "      <th>V19</th>\n",
       "      <th>V20</th>\n",
       "      <th>V21</th>\n",
       "      <th>V22</th>\n",
       "      <th>V23</th>\n",
       "      <th>V24</th>\n",
       "      <th>V25</th>\n",
       "      <th>V26</th>\n",
       "      <th>V27</th>\n",
       "      <th>V28</th>\n",
       "      <th>Amount</th>\n",
       "      <th>Class</th>\n",
       "    </tr>\n",
       "  </thead>\n",
       "  <tbody>\n",
       "    <tr>\n",
       "      <td>0</td>\n",
       "      <td>0.0</td>\n",
       "      <td>-1.359807</td>\n",
       "      <td>-0.072781</td>\n",
       "      <td>2.536347</td>\n",
       "      <td>1.378155</td>\n",
       "      <td>-0.338321</td>\n",
       "      <td>0.462388</td>\n",
       "      <td>0.239599</td>\n",
       "      <td>0.098698</td>\n",
       "      <td>0.363787</td>\n",
       "      <td>0.090794</td>\n",
       "      <td>-0.551600</td>\n",
       "      <td>-0.617801</td>\n",
       "      <td>-0.991390</td>\n",
       "      <td>-0.311169</td>\n",
       "      <td>1.468177</td>\n",
       "      <td>-0.470401</td>\n",
       "      <td>0.207971</td>\n",
       "      <td>0.025791</td>\n",
       "      <td>0.403993</td>\n",
       "      <td>0.251412</td>\n",
       "      <td>-0.018307</td>\n",
       "      <td>0.277838</td>\n",
       "      <td>-0.110474</td>\n",
       "      <td>0.066928</td>\n",
       "      <td>0.128539</td>\n",
       "      <td>-0.189115</td>\n",
       "      <td>0.133558</td>\n",
       "      <td>-0.021053</td>\n",
       "      <td>149.62</td>\n",
       "      <td>0</td>\n",
       "    </tr>\n",
       "    <tr>\n",
       "      <td>1</td>\n",
       "      <td>0.0</td>\n",
       "      <td>1.191857</td>\n",
       "      <td>0.266151</td>\n",
       "      <td>0.166480</td>\n",
       "      <td>0.448154</td>\n",
       "      <td>0.060018</td>\n",
       "      <td>-0.082361</td>\n",
       "      <td>-0.078803</td>\n",
       "      <td>0.085102</td>\n",
       "      <td>-0.255425</td>\n",
       "      <td>-0.166974</td>\n",
       "      <td>1.612727</td>\n",
       "      <td>1.065235</td>\n",
       "      <td>0.489095</td>\n",
       "      <td>-0.143772</td>\n",
       "      <td>0.635558</td>\n",
       "      <td>0.463917</td>\n",
       "      <td>-0.114805</td>\n",
       "      <td>-0.183361</td>\n",
       "      <td>-0.145783</td>\n",
       "      <td>-0.069083</td>\n",
       "      <td>-0.225775</td>\n",
       "      <td>-0.638672</td>\n",
       "      <td>0.101288</td>\n",
       "      <td>-0.339846</td>\n",
       "      <td>0.167170</td>\n",
       "      <td>0.125895</td>\n",
       "      <td>-0.008983</td>\n",
       "      <td>0.014724</td>\n",
       "      <td>2.69</td>\n",
       "      <td>0</td>\n",
       "    </tr>\n",
       "    <tr>\n",
       "      <td>2</td>\n",
       "      <td>1.0</td>\n",
       "      <td>-1.358354</td>\n",
       "      <td>-1.340163</td>\n",
       "      <td>1.773209</td>\n",
       "      <td>0.379780</td>\n",
       "      <td>-0.503198</td>\n",
       "      <td>1.800499</td>\n",
       "      <td>0.791461</td>\n",
       "      <td>0.247676</td>\n",
       "      <td>-1.514654</td>\n",
       "      <td>0.207643</td>\n",
       "      <td>0.624501</td>\n",
       "      <td>0.066084</td>\n",
       "      <td>0.717293</td>\n",
       "      <td>-0.165946</td>\n",
       "      <td>2.345865</td>\n",
       "      <td>-2.890083</td>\n",
       "      <td>1.109969</td>\n",
       "      <td>-0.121359</td>\n",
       "      <td>-2.261857</td>\n",
       "      <td>0.524980</td>\n",
       "      <td>0.247998</td>\n",
       "      <td>0.771679</td>\n",
       "      <td>0.909412</td>\n",
       "      <td>-0.689281</td>\n",
       "      <td>-0.327642</td>\n",
       "      <td>-0.139097</td>\n",
       "      <td>-0.055353</td>\n",
       "      <td>-0.059752</td>\n",
       "      <td>378.66</td>\n",
       "      <td>0</td>\n",
       "    </tr>\n",
       "    <tr>\n",
       "      <td>3</td>\n",
       "      <td>1.0</td>\n",
       "      <td>-0.966272</td>\n",
       "      <td>-0.185226</td>\n",
       "      <td>1.792993</td>\n",
       "      <td>-0.863291</td>\n",
       "      <td>-0.010309</td>\n",
       "      <td>1.247203</td>\n",
       "      <td>0.237609</td>\n",
       "      <td>0.377436</td>\n",
       "      <td>-1.387024</td>\n",
       "      <td>-0.054952</td>\n",
       "      <td>-0.226487</td>\n",
       "      <td>0.178228</td>\n",
       "      <td>0.507757</td>\n",
       "      <td>-0.287924</td>\n",
       "      <td>-0.631418</td>\n",
       "      <td>-1.059647</td>\n",
       "      <td>-0.684093</td>\n",
       "      <td>1.965775</td>\n",
       "      <td>-1.232622</td>\n",
       "      <td>-0.208038</td>\n",
       "      <td>-0.108300</td>\n",
       "      <td>0.005274</td>\n",
       "      <td>-0.190321</td>\n",
       "      <td>-1.175575</td>\n",
       "      <td>0.647376</td>\n",
       "      <td>-0.221929</td>\n",
       "      <td>0.062723</td>\n",
       "      <td>0.061458</td>\n",
       "      <td>123.50</td>\n",
       "      <td>0</td>\n",
       "    </tr>\n",
       "    <tr>\n",
       "      <td>4</td>\n",
       "      <td>2.0</td>\n",
       "      <td>-1.158233</td>\n",
       "      <td>0.877737</td>\n",
       "      <td>1.548718</td>\n",
       "      <td>0.403034</td>\n",
       "      <td>-0.407193</td>\n",
       "      <td>0.095921</td>\n",
       "      <td>0.592941</td>\n",
       "      <td>-0.270533</td>\n",
       "      <td>0.817739</td>\n",
       "      <td>0.753074</td>\n",
       "      <td>-0.822843</td>\n",
       "      <td>0.538196</td>\n",
       "      <td>1.345852</td>\n",
       "      <td>-1.119670</td>\n",
       "      <td>0.175121</td>\n",
       "      <td>-0.451449</td>\n",
       "      <td>-0.237033</td>\n",
       "      <td>-0.038195</td>\n",
       "      <td>0.803487</td>\n",
       "      <td>0.408542</td>\n",
       "      <td>-0.009431</td>\n",
       "      <td>0.798278</td>\n",
       "      <td>-0.137458</td>\n",
       "      <td>0.141267</td>\n",
       "      <td>-0.206010</td>\n",
       "      <td>0.502292</td>\n",
       "      <td>0.219422</td>\n",
       "      <td>0.215153</td>\n",
       "      <td>69.99</td>\n",
       "      <td>0</td>\n",
       "    </tr>\n",
       "  </tbody>\n",
       "</table>\n",
       "</div>"
      ],
      "text/plain": [
       "   Time        V1        V2        V3        V4        V5        V6        V7  \\\n",
       "0   0.0 -1.359807 -0.072781  2.536347  1.378155 -0.338321  0.462388  0.239599   \n",
       "1   0.0  1.191857  0.266151  0.166480  0.448154  0.060018 -0.082361 -0.078803   \n",
       "2   1.0 -1.358354 -1.340163  1.773209  0.379780 -0.503198  1.800499  0.791461   \n",
       "3   1.0 -0.966272 -0.185226  1.792993 -0.863291 -0.010309  1.247203  0.237609   \n",
       "4   2.0 -1.158233  0.877737  1.548718  0.403034 -0.407193  0.095921  0.592941   \n",
       "\n",
       "         V8        V9       V10       V11       V12       V13       V14  \\\n",
       "0  0.098698  0.363787  0.090794 -0.551600 -0.617801 -0.991390 -0.311169   \n",
       "1  0.085102 -0.255425 -0.166974  1.612727  1.065235  0.489095 -0.143772   \n",
       "2  0.247676 -1.514654  0.207643  0.624501  0.066084  0.717293 -0.165946   \n",
       "3  0.377436 -1.387024 -0.054952 -0.226487  0.178228  0.507757 -0.287924   \n",
       "4 -0.270533  0.817739  0.753074 -0.822843  0.538196  1.345852 -1.119670   \n",
       "\n",
       "        V15       V16       V17       V18       V19       V20       V21  \\\n",
       "0  1.468177 -0.470401  0.207971  0.025791  0.403993  0.251412 -0.018307   \n",
       "1  0.635558  0.463917 -0.114805 -0.183361 -0.145783 -0.069083 -0.225775   \n",
       "2  2.345865 -2.890083  1.109969 -0.121359 -2.261857  0.524980  0.247998   \n",
       "3 -0.631418 -1.059647 -0.684093  1.965775 -1.232622 -0.208038 -0.108300   \n",
       "4  0.175121 -0.451449 -0.237033 -0.038195  0.803487  0.408542 -0.009431   \n",
       "\n",
       "        V22       V23       V24       V25       V26       V27       V28  \\\n",
       "0  0.277838 -0.110474  0.066928  0.128539 -0.189115  0.133558 -0.021053   \n",
       "1 -0.638672  0.101288 -0.339846  0.167170  0.125895 -0.008983  0.014724   \n",
       "2  0.771679  0.909412 -0.689281 -0.327642 -0.139097 -0.055353 -0.059752   \n",
       "3  0.005274 -0.190321 -1.175575  0.647376 -0.221929  0.062723  0.061458   \n",
       "4  0.798278 -0.137458  0.141267 -0.206010  0.502292  0.219422  0.215153   \n",
       "\n",
       "   Amount  Class  \n",
       "0  149.62      0  \n",
       "1    2.69      0  \n",
       "2  378.66      0  \n",
       "3  123.50      0  \n",
       "4   69.99      0  "
      ]
     },
     "execution_count": 5,
     "metadata": {},
     "output_type": "execute_result"
    }
   ],
   "source": [
    "data_df.head()"
   ]
  },
  {
   "cell_type": "markdown",
   "metadata": {
    "_uuid": "df10bc43389fb9e8159150a566bd52abd0dd2839"
   },
   "source": [
    "Let's look into more details to the data."
   ]
  },
  {
   "cell_type": "code",
   "execution_count": 6,
   "metadata": {
    "_uuid": "8705f721907820bfc8c720f2f5ac5e0f9f28fa42"
   },
   "outputs": [
    {
     "data": {
      "text/html": [
       "<div>\n",
       "<style scoped>\n",
       "    .dataframe tbody tr th:only-of-type {\n",
       "        vertical-align: middle;\n",
       "    }\n",
       "\n",
       "    .dataframe tbody tr th {\n",
       "        vertical-align: top;\n",
       "    }\n",
       "\n",
       "    .dataframe thead th {\n",
       "        text-align: right;\n",
       "    }\n",
       "</style>\n",
       "<table border=\"1\" class=\"dataframe\">\n",
       "  <thead>\n",
       "    <tr style=\"text-align: right;\">\n",
       "      <th></th>\n",
       "      <th>Time</th>\n",
       "      <th>V1</th>\n",
       "      <th>V2</th>\n",
       "      <th>V3</th>\n",
       "      <th>V4</th>\n",
       "      <th>V5</th>\n",
       "      <th>V6</th>\n",
       "      <th>V7</th>\n",
       "      <th>V8</th>\n",
       "      <th>V9</th>\n",
       "      <th>V10</th>\n",
       "      <th>V11</th>\n",
       "      <th>V12</th>\n",
       "      <th>V13</th>\n",
       "      <th>V14</th>\n",
       "      <th>V15</th>\n",
       "      <th>V16</th>\n",
       "      <th>V17</th>\n",
       "      <th>V18</th>\n",
       "      <th>V19</th>\n",
       "      <th>V20</th>\n",
       "      <th>V21</th>\n",
       "      <th>V22</th>\n",
       "      <th>V23</th>\n",
       "      <th>V24</th>\n",
       "      <th>V25</th>\n",
       "      <th>V26</th>\n",
       "      <th>V27</th>\n",
       "      <th>V28</th>\n",
       "      <th>Amount</th>\n",
       "      <th>Class</th>\n",
       "    </tr>\n",
       "  </thead>\n",
       "  <tbody>\n",
       "    <tr>\n",
       "      <td>count</td>\n",
       "      <td>284807.000000</td>\n",
       "      <td>2.848070e+05</td>\n",
       "      <td>2.848070e+05</td>\n",
       "      <td>2.848070e+05</td>\n",
       "      <td>2.848070e+05</td>\n",
       "      <td>2.848070e+05</td>\n",
       "      <td>2.848070e+05</td>\n",
       "      <td>2.848070e+05</td>\n",
       "      <td>2.848070e+05</td>\n",
       "      <td>2.848070e+05</td>\n",
       "      <td>2.848070e+05</td>\n",
       "      <td>2.848070e+05</td>\n",
       "      <td>2.848070e+05</td>\n",
       "      <td>2.848070e+05</td>\n",
       "      <td>2.848070e+05</td>\n",
       "      <td>2.848070e+05</td>\n",
       "      <td>2.848070e+05</td>\n",
       "      <td>2.848070e+05</td>\n",
       "      <td>2.848070e+05</td>\n",
       "      <td>2.848070e+05</td>\n",
       "      <td>2.848070e+05</td>\n",
       "      <td>2.848070e+05</td>\n",
       "      <td>2.848070e+05</td>\n",
       "      <td>2.848070e+05</td>\n",
       "      <td>2.848070e+05</td>\n",
       "      <td>2.848070e+05</td>\n",
       "      <td>2.848070e+05</td>\n",
       "      <td>2.848070e+05</td>\n",
       "      <td>2.848070e+05</td>\n",
       "      <td>284807.000000</td>\n",
       "      <td>284807.000000</td>\n",
       "    </tr>\n",
       "    <tr>\n",
       "      <td>mean</td>\n",
       "      <td>94813.859575</td>\n",
       "      <td>3.919560e-15</td>\n",
       "      <td>5.688174e-16</td>\n",
       "      <td>-8.769071e-15</td>\n",
       "      <td>2.782312e-15</td>\n",
       "      <td>-1.552563e-15</td>\n",
       "      <td>2.010663e-15</td>\n",
       "      <td>-1.694249e-15</td>\n",
       "      <td>-1.927028e-16</td>\n",
       "      <td>-3.137024e-15</td>\n",
       "      <td>1.768627e-15</td>\n",
       "      <td>9.170318e-16</td>\n",
       "      <td>-1.810658e-15</td>\n",
       "      <td>1.693438e-15</td>\n",
       "      <td>1.479045e-15</td>\n",
       "      <td>3.482336e-15</td>\n",
       "      <td>1.392007e-15</td>\n",
       "      <td>-7.528491e-16</td>\n",
       "      <td>4.328772e-16</td>\n",
       "      <td>9.049732e-16</td>\n",
       "      <td>5.085503e-16</td>\n",
       "      <td>1.537294e-16</td>\n",
       "      <td>7.959909e-16</td>\n",
       "      <td>5.367590e-16</td>\n",
       "      <td>4.458112e-15</td>\n",
       "      <td>1.453003e-15</td>\n",
       "      <td>1.699104e-15</td>\n",
       "      <td>-3.660161e-16</td>\n",
       "      <td>-1.206049e-16</td>\n",
       "      <td>88.349619</td>\n",
       "      <td>0.001727</td>\n",
       "    </tr>\n",
       "    <tr>\n",
       "      <td>std</td>\n",
       "      <td>47488.145955</td>\n",
       "      <td>1.958696e+00</td>\n",
       "      <td>1.651309e+00</td>\n",
       "      <td>1.516255e+00</td>\n",
       "      <td>1.415869e+00</td>\n",
       "      <td>1.380247e+00</td>\n",
       "      <td>1.332271e+00</td>\n",
       "      <td>1.237094e+00</td>\n",
       "      <td>1.194353e+00</td>\n",
       "      <td>1.098632e+00</td>\n",
       "      <td>1.088850e+00</td>\n",
       "      <td>1.020713e+00</td>\n",
       "      <td>9.992014e-01</td>\n",
       "      <td>9.952742e-01</td>\n",
       "      <td>9.585956e-01</td>\n",
       "      <td>9.153160e-01</td>\n",
       "      <td>8.762529e-01</td>\n",
       "      <td>8.493371e-01</td>\n",
       "      <td>8.381762e-01</td>\n",
       "      <td>8.140405e-01</td>\n",
       "      <td>7.709250e-01</td>\n",
       "      <td>7.345240e-01</td>\n",
       "      <td>7.257016e-01</td>\n",
       "      <td>6.244603e-01</td>\n",
       "      <td>6.056471e-01</td>\n",
       "      <td>5.212781e-01</td>\n",
       "      <td>4.822270e-01</td>\n",
       "      <td>4.036325e-01</td>\n",
       "      <td>3.300833e-01</td>\n",
       "      <td>250.120109</td>\n",
       "      <td>0.041527</td>\n",
       "    </tr>\n",
       "    <tr>\n",
       "      <td>min</td>\n",
       "      <td>0.000000</td>\n",
       "      <td>-5.640751e+01</td>\n",
       "      <td>-7.271573e+01</td>\n",
       "      <td>-4.832559e+01</td>\n",
       "      <td>-5.683171e+00</td>\n",
       "      <td>-1.137433e+02</td>\n",
       "      <td>-2.616051e+01</td>\n",
       "      <td>-4.355724e+01</td>\n",
       "      <td>-7.321672e+01</td>\n",
       "      <td>-1.343407e+01</td>\n",
       "      <td>-2.458826e+01</td>\n",
       "      <td>-4.797473e+00</td>\n",
       "      <td>-1.868371e+01</td>\n",
       "      <td>-5.791881e+00</td>\n",
       "      <td>-1.921433e+01</td>\n",
       "      <td>-4.498945e+00</td>\n",
       "      <td>-1.412985e+01</td>\n",
       "      <td>-2.516280e+01</td>\n",
       "      <td>-9.498746e+00</td>\n",
       "      <td>-7.213527e+00</td>\n",
       "      <td>-5.449772e+01</td>\n",
       "      <td>-3.483038e+01</td>\n",
       "      <td>-1.093314e+01</td>\n",
       "      <td>-4.480774e+01</td>\n",
       "      <td>-2.836627e+00</td>\n",
       "      <td>-1.029540e+01</td>\n",
       "      <td>-2.604551e+00</td>\n",
       "      <td>-2.256568e+01</td>\n",
       "      <td>-1.543008e+01</td>\n",
       "      <td>0.000000</td>\n",
       "      <td>0.000000</td>\n",
       "    </tr>\n",
       "    <tr>\n",
       "      <td>25%</td>\n",
       "      <td>54201.500000</td>\n",
       "      <td>-9.203734e-01</td>\n",
       "      <td>-5.985499e-01</td>\n",
       "      <td>-8.903648e-01</td>\n",
       "      <td>-8.486401e-01</td>\n",
       "      <td>-6.915971e-01</td>\n",
       "      <td>-7.682956e-01</td>\n",
       "      <td>-5.540759e-01</td>\n",
       "      <td>-2.086297e-01</td>\n",
       "      <td>-6.430976e-01</td>\n",
       "      <td>-5.354257e-01</td>\n",
       "      <td>-7.624942e-01</td>\n",
       "      <td>-4.055715e-01</td>\n",
       "      <td>-6.485393e-01</td>\n",
       "      <td>-4.255740e-01</td>\n",
       "      <td>-5.828843e-01</td>\n",
       "      <td>-4.680368e-01</td>\n",
       "      <td>-4.837483e-01</td>\n",
       "      <td>-4.988498e-01</td>\n",
       "      <td>-4.562989e-01</td>\n",
       "      <td>-2.117214e-01</td>\n",
       "      <td>-2.283949e-01</td>\n",
       "      <td>-5.423504e-01</td>\n",
       "      <td>-1.618463e-01</td>\n",
       "      <td>-3.545861e-01</td>\n",
       "      <td>-3.171451e-01</td>\n",
       "      <td>-3.269839e-01</td>\n",
       "      <td>-7.083953e-02</td>\n",
       "      <td>-5.295979e-02</td>\n",
       "      <td>5.600000</td>\n",
       "      <td>0.000000</td>\n",
       "    </tr>\n",
       "    <tr>\n",
       "      <td>50%</td>\n",
       "      <td>84692.000000</td>\n",
       "      <td>1.810880e-02</td>\n",
       "      <td>6.548556e-02</td>\n",
       "      <td>1.798463e-01</td>\n",
       "      <td>-1.984653e-02</td>\n",
       "      <td>-5.433583e-02</td>\n",
       "      <td>-2.741871e-01</td>\n",
       "      <td>4.010308e-02</td>\n",
       "      <td>2.235804e-02</td>\n",
       "      <td>-5.142873e-02</td>\n",
       "      <td>-9.291738e-02</td>\n",
       "      <td>-3.275735e-02</td>\n",
       "      <td>1.400326e-01</td>\n",
       "      <td>-1.356806e-02</td>\n",
       "      <td>5.060132e-02</td>\n",
       "      <td>4.807155e-02</td>\n",
       "      <td>6.641332e-02</td>\n",
       "      <td>-6.567575e-02</td>\n",
       "      <td>-3.636312e-03</td>\n",
       "      <td>3.734823e-03</td>\n",
       "      <td>-6.248109e-02</td>\n",
       "      <td>-2.945017e-02</td>\n",
       "      <td>6.781943e-03</td>\n",
       "      <td>-1.119293e-02</td>\n",
       "      <td>4.097606e-02</td>\n",
       "      <td>1.659350e-02</td>\n",
       "      <td>-5.213911e-02</td>\n",
       "      <td>1.342146e-03</td>\n",
       "      <td>1.124383e-02</td>\n",
       "      <td>22.000000</td>\n",
       "      <td>0.000000</td>\n",
       "    </tr>\n",
       "    <tr>\n",
       "      <td>75%</td>\n",
       "      <td>139320.500000</td>\n",
       "      <td>1.315642e+00</td>\n",
       "      <td>8.037239e-01</td>\n",
       "      <td>1.027196e+00</td>\n",
       "      <td>7.433413e-01</td>\n",
       "      <td>6.119264e-01</td>\n",
       "      <td>3.985649e-01</td>\n",
       "      <td>5.704361e-01</td>\n",
       "      <td>3.273459e-01</td>\n",
       "      <td>5.971390e-01</td>\n",
       "      <td>4.539234e-01</td>\n",
       "      <td>7.395934e-01</td>\n",
       "      <td>6.182380e-01</td>\n",
       "      <td>6.625050e-01</td>\n",
       "      <td>4.931498e-01</td>\n",
       "      <td>6.488208e-01</td>\n",
       "      <td>5.232963e-01</td>\n",
       "      <td>3.996750e-01</td>\n",
       "      <td>5.008067e-01</td>\n",
       "      <td>4.589494e-01</td>\n",
       "      <td>1.330408e-01</td>\n",
       "      <td>1.863772e-01</td>\n",
       "      <td>5.285536e-01</td>\n",
       "      <td>1.476421e-01</td>\n",
       "      <td>4.395266e-01</td>\n",
       "      <td>3.507156e-01</td>\n",
       "      <td>2.409522e-01</td>\n",
       "      <td>9.104512e-02</td>\n",
       "      <td>7.827995e-02</td>\n",
       "      <td>77.165000</td>\n",
       "      <td>0.000000</td>\n",
       "    </tr>\n",
       "    <tr>\n",
       "      <td>max</td>\n",
       "      <td>172792.000000</td>\n",
       "      <td>2.454930e+00</td>\n",
       "      <td>2.205773e+01</td>\n",
       "      <td>9.382558e+00</td>\n",
       "      <td>1.687534e+01</td>\n",
       "      <td>3.480167e+01</td>\n",
       "      <td>7.330163e+01</td>\n",
       "      <td>1.205895e+02</td>\n",
       "      <td>2.000721e+01</td>\n",
       "      <td>1.559499e+01</td>\n",
       "      <td>2.374514e+01</td>\n",
       "      <td>1.201891e+01</td>\n",
       "      <td>7.848392e+00</td>\n",
       "      <td>7.126883e+00</td>\n",
       "      <td>1.052677e+01</td>\n",
       "      <td>8.877742e+00</td>\n",
       "      <td>1.731511e+01</td>\n",
       "      <td>9.253526e+00</td>\n",
       "      <td>5.041069e+00</td>\n",
       "      <td>5.591971e+00</td>\n",
       "      <td>3.942090e+01</td>\n",
       "      <td>2.720284e+01</td>\n",
       "      <td>1.050309e+01</td>\n",
       "      <td>2.252841e+01</td>\n",
       "      <td>4.584549e+00</td>\n",
       "      <td>7.519589e+00</td>\n",
       "      <td>3.517346e+00</td>\n",
       "      <td>3.161220e+01</td>\n",
       "      <td>3.384781e+01</td>\n",
       "      <td>25691.160000</td>\n",
       "      <td>1.000000</td>\n",
       "    </tr>\n",
       "  </tbody>\n",
       "</table>\n",
       "</div>"
      ],
      "text/plain": [
       "                Time            V1            V2            V3            V4  \\\n",
       "count  284807.000000  2.848070e+05  2.848070e+05  2.848070e+05  2.848070e+05   \n",
       "mean    94813.859575  3.919560e-15  5.688174e-16 -8.769071e-15  2.782312e-15   \n",
       "std     47488.145955  1.958696e+00  1.651309e+00  1.516255e+00  1.415869e+00   \n",
       "min         0.000000 -5.640751e+01 -7.271573e+01 -4.832559e+01 -5.683171e+00   \n",
       "25%     54201.500000 -9.203734e-01 -5.985499e-01 -8.903648e-01 -8.486401e-01   \n",
       "50%     84692.000000  1.810880e-02  6.548556e-02  1.798463e-01 -1.984653e-02   \n",
       "75%    139320.500000  1.315642e+00  8.037239e-01  1.027196e+00  7.433413e-01   \n",
       "max    172792.000000  2.454930e+00  2.205773e+01  9.382558e+00  1.687534e+01   \n",
       "\n",
       "                 V5            V6            V7            V8            V9  \\\n",
       "count  2.848070e+05  2.848070e+05  2.848070e+05  2.848070e+05  2.848070e+05   \n",
       "mean  -1.552563e-15  2.010663e-15 -1.694249e-15 -1.927028e-16 -3.137024e-15   \n",
       "std    1.380247e+00  1.332271e+00  1.237094e+00  1.194353e+00  1.098632e+00   \n",
       "min   -1.137433e+02 -2.616051e+01 -4.355724e+01 -7.321672e+01 -1.343407e+01   \n",
       "25%   -6.915971e-01 -7.682956e-01 -5.540759e-01 -2.086297e-01 -6.430976e-01   \n",
       "50%   -5.433583e-02 -2.741871e-01  4.010308e-02  2.235804e-02 -5.142873e-02   \n",
       "75%    6.119264e-01  3.985649e-01  5.704361e-01  3.273459e-01  5.971390e-01   \n",
       "max    3.480167e+01  7.330163e+01  1.205895e+02  2.000721e+01  1.559499e+01   \n",
       "\n",
       "                V10           V11           V12           V13           V14  \\\n",
       "count  2.848070e+05  2.848070e+05  2.848070e+05  2.848070e+05  2.848070e+05   \n",
       "mean   1.768627e-15  9.170318e-16 -1.810658e-15  1.693438e-15  1.479045e-15   \n",
       "std    1.088850e+00  1.020713e+00  9.992014e-01  9.952742e-01  9.585956e-01   \n",
       "min   -2.458826e+01 -4.797473e+00 -1.868371e+01 -5.791881e+00 -1.921433e+01   \n",
       "25%   -5.354257e-01 -7.624942e-01 -4.055715e-01 -6.485393e-01 -4.255740e-01   \n",
       "50%   -9.291738e-02 -3.275735e-02  1.400326e-01 -1.356806e-02  5.060132e-02   \n",
       "75%    4.539234e-01  7.395934e-01  6.182380e-01  6.625050e-01  4.931498e-01   \n",
       "max    2.374514e+01  1.201891e+01  7.848392e+00  7.126883e+00  1.052677e+01   \n",
       "\n",
       "                V15           V16           V17           V18           V19  \\\n",
       "count  2.848070e+05  2.848070e+05  2.848070e+05  2.848070e+05  2.848070e+05   \n",
       "mean   3.482336e-15  1.392007e-15 -7.528491e-16  4.328772e-16  9.049732e-16   \n",
       "std    9.153160e-01  8.762529e-01  8.493371e-01  8.381762e-01  8.140405e-01   \n",
       "min   -4.498945e+00 -1.412985e+01 -2.516280e+01 -9.498746e+00 -7.213527e+00   \n",
       "25%   -5.828843e-01 -4.680368e-01 -4.837483e-01 -4.988498e-01 -4.562989e-01   \n",
       "50%    4.807155e-02  6.641332e-02 -6.567575e-02 -3.636312e-03  3.734823e-03   \n",
       "75%    6.488208e-01  5.232963e-01  3.996750e-01  5.008067e-01  4.589494e-01   \n",
       "max    8.877742e+00  1.731511e+01  9.253526e+00  5.041069e+00  5.591971e+00   \n",
       "\n",
       "                V20           V21           V22           V23           V24  \\\n",
       "count  2.848070e+05  2.848070e+05  2.848070e+05  2.848070e+05  2.848070e+05   \n",
       "mean   5.085503e-16  1.537294e-16  7.959909e-16  5.367590e-16  4.458112e-15   \n",
       "std    7.709250e-01  7.345240e-01  7.257016e-01  6.244603e-01  6.056471e-01   \n",
       "min   -5.449772e+01 -3.483038e+01 -1.093314e+01 -4.480774e+01 -2.836627e+00   \n",
       "25%   -2.117214e-01 -2.283949e-01 -5.423504e-01 -1.618463e-01 -3.545861e-01   \n",
       "50%   -6.248109e-02 -2.945017e-02  6.781943e-03 -1.119293e-02  4.097606e-02   \n",
       "75%    1.330408e-01  1.863772e-01  5.285536e-01  1.476421e-01  4.395266e-01   \n",
       "max    3.942090e+01  2.720284e+01  1.050309e+01  2.252841e+01  4.584549e+00   \n",
       "\n",
       "                V25           V26           V27           V28         Amount  \\\n",
       "count  2.848070e+05  2.848070e+05  2.848070e+05  2.848070e+05  284807.000000   \n",
       "mean   1.453003e-15  1.699104e-15 -3.660161e-16 -1.206049e-16      88.349619   \n",
       "std    5.212781e-01  4.822270e-01  4.036325e-01  3.300833e-01     250.120109   \n",
       "min   -1.029540e+01 -2.604551e+00 -2.256568e+01 -1.543008e+01       0.000000   \n",
       "25%   -3.171451e-01 -3.269839e-01 -7.083953e-02 -5.295979e-02       5.600000   \n",
       "50%    1.659350e-02 -5.213911e-02  1.342146e-03  1.124383e-02      22.000000   \n",
       "75%    3.507156e-01  2.409522e-01  9.104512e-02  7.827995e-02      77.165000   \n",
       "max    7.519589e+00  3.517346e+00  3.161220e+01  3.384781e+01   25691.160000   \n",
       "\n",
       "               Class  \n",
       "count  284807.000000  \n",
       "mean        0.001727  \n",
       "std         0.041527  \n",
       "min         0.000000  \n",
       "25%         0.000000  \n",
       "50%         0.000000  \n",
       "75%         0.000000  \n",
       "max         1.000000  "
      ]
     },
     "execution_count": 6,
     "metadata": {},
     "output_type": "execute_result"
    }
   ],
   "source": [
    "data_df.describe()"
   ]
  },
  {
   "cell_type": "markdown",
   "metadata": {
    "_uuid": "bf88e4180834a1bf7e76a583328094926fade824"
   },
   "source": [
    "Looking to the **Time** feature, we can confirm that the data contains **284,807** transactions, during 2 consecutive days (or **172792** seconds)."
   ]
  },
  {
   "cell_type": "markdown",
   "metadata": {
    "_uuid": "39299ca7dc0324113fcd854530cbe7a945cc94bb"
   },
   "source": [
    "## <a id=\"42\">Check missing data</a>  \n",
    "\n",
    "Let's check if there is any missing data."
   ]
  },
  {
   "cell_type": "code",
   "execution_count": 7,
   "metadata": {
    "_uuid": "51940c5cfb59bb4720d70157c310a339ce483eb6"
   },
   "outputs": [
    {
     "data": {
      "text/html": [
       "<div>\n",
       "<style scoped>\n",
       "    .dataframe tbody tr th:only-of-type {\n",
       "        vertical-align: middle;\n",
       "    }\n",
       "\n",
       "    .dataframe tbody tr th {\n",
       "        vertical-align: top;\n",
       "    }\n",
       "\n",
       "    .dataframe thead th {\n",
       "        text-align: right;\n",
       "    }\n",
       "</style>\n",
       "<table border=\"1\" class=\"dataframe\">\n",
       "  <thead>\n",
       "    <tr style=\"text-align: right;\">\n",
       "      <th></th>\n",
       "      <th>Class</th>\n",
       "      <th>V14</th>\n",
       "      <th>V1</th>\n",
       "      <th>V2</th>\n",
       "      <th>V3</th>\n",
       "      <th>V4</th>\n",
       "      <th>V5</th>\n",
       "      <th>V6</th>\n",
       "      <th>V7</th>\n",
       "      <th>V8</th>\n",
       "      <th>V9</th>\n",
       "      <th>V10</th>\n",
       "      <th>V11</th>\n",
       "      <th>V12</th>\n",
       "      <th>V13</th>\n",
       "      <th>V15</th>\n",
       "      <th>Amount</th>\n",
       "      <th>V16</th>\n",
       "      <th>V17</th>\n",
       "      <th>V18</th>\n",
       "      <th>V19</th>\n",
       "      <th>V20</th>\n",
       "      <th>V21</th>\n",
       "      <th>V22</th>\n",
       "      <th>V23</th>\n",
       "      <th>V24</th>\n",
       "      <th>V25</th>\n",
       "      <th>V26</th>\n",
       "      <th>V27</th>\n",
       "      <th>V28</th>\n",
       "      <th>Time</th>\n",
       "    </tr>\n",
       "  </thead>\n",
       "  <tbody>\n",
       "    <tr>\n",
       "      <td>Total</td>\n",
       "      <td>0.0</td>\n",
       "      <td>0.0</td>\n",
       "      <td>0.0</td>\n",
       "      <td>0.0</td>\n",
       "      <td>0.0</td>\n",
       "      <td>0.0</td>\n",
       "      <td>0.0</td>\n",
       "      <td>0.0</td>\n",
       "      <td>0.0</td>\n",
       "      <td>0.0</td>\n",
       "      <td>0.0</td>\n",
       "      <td>0.0</td>\n",
       "      <td>0.0</td>\n",
       "      <td>0.0</td>\n",
       "      <td>0.0</td>\n",
       "      <td>0.0</td>\n",
       "      <td>0.0</td>\n",
       "      <td>0.0</td>\n",
       "      <td>0.0</td>\n",
       "      <td>0.0</td>\n",
       "      <td>0.0</td>\n",
       "      <td>0.0</td>\n",
       "      <td>0.0</td>\n",
       "      <td>0.0</td>\n",
       "      <td>0.0</td>\n",
       "      <td>0.0</td>\n",
       "      <td>0.0</td>\n",
       "      <td>0.0</td>\n",
       "      <td>0.0</td>\n",
       "      <td>0.0</td>\n",
       "      <td>0.0</td>\n",
       "    </tr>\n",
       "    <tr>\n",
       "      <td>Percent</td>\n",
       "      <td>0.0</td>\n",
       "      <td>0.0</td>\n",
       "      <td>0.0</td>\n",
       "      <td>0.0</td>\n",
       "      <td>0.0</td>\n",
       "      <td>0.0</td>\n",
       "      <td>0.0</td>\n",
       "      <td>0.0</td>\n",
       "      <td>0.0</td>\n",
       "      <td>0.0</td>\n",
       "      <td>0.0</td>\n",
       "      <td>0.0</td>\n",
       "      <td>0.0</td>\n",
       "      <td>0.0</td>\n",
       "      <td>0.0</td>\n",
       "      <td>0.0</td>\n",
       "      <td>0.0</td>\n",
       "      <td>0.0</td>\n",
       "      <td>0.0</td>\n",
       "      <td>0.0</td>\n",
       "      <td>0.0</td>\n",
       "      <td>0.0</td>\n",
       "      <td>0.0</td>\n",
       "      <td>0.0</td>\n",
       "      <td>0.0</td>\n",
       "      <td>0.0</td>\n",
       "      <td>0.0</td>\n",
       "      <td>0.0</td>\n",
       "      <td>0.0</td>\n",
       "      <td>0.0</td>\n",
       "      <td>0.0</td>\n",
       "    </tr>\n",
       "  </tbody>\n",
       "</table>\n",
       "</div>"
      ],
      "text/plain": [
       "         Class  V14   V1   V2   V3   V4   V5   V6   V7   V8   V9  V10  V11  \\\n",
       "Total      0.0  0.0  0.0  0.0  0.0  0.0  0.0  0.0  0.0  0.0  0.0  0.0  0.0   \n",
       "Percent    0.0  0.0  0.0  0.0  0.0  0.0  0.0  0.0  0.0  0.0  0.0  0.0  0.0   \n",
       "\n",
       "         V12  V13  V15  Amount  V16  V17  V18  V19  V20  V21  V22  V23  V24  \\\n",
       "Total    0.0  0.0  0.0     0.0  0.0  0.0  0.0  0.0  0.0  0.0  0.0  0.0  0.0   \n",
       "Percent  0.0  0.0  0.0     0.0  0.0  0.0  0.0  0.0  0.0  0.0  0.0  0.0  0.0   \n",
       "\n",
       "         V25  V26  V27  V28  Time  \n",
       "Total    0.0  0.0  0.0  0.0   0.0  \n",
       "Percent  0.0  0.0  0.0  0.0   0.0  "
      ]
     },
     "execution_count": 7,
     "metadata": {},
     "output_type": "execute_result"
    }
   ],
   "source": [
    "total = data_df.isnull().sum().sort_values(ascending = False)\n",
    "percent = (data_df.isnull().sum()/data_df.isnull().count()*100).sort_values(ascending = False)\n",
    "pd.concat([total, percent], axis=1, keys=['Total', 'Percent']).transpose()"
   ]
  },
  {
   "cell_type": "markdown",
   "metadata": {
    "_uuid": "aa67814319f2b87367a7a675d956f1aa8f806363"
   },
   "source": [
    "There is no missing data in the entire dataset."
   ]
  },
  {
   "cell_type": "markdown",
   "metadata": {
    "_uuid": "5c17d77aaa693057767dc2a0a23efbcae8f9f34e"
   },
   "source": [
    "## <a id=\"43\">Data unbalance</a>"
   ]
  },
  {
   "cell_type": "markdown",
   "metadata": {
    "_uuid": "dc1ecb4caa03723aa3e3153fe1311ed532464b54"
   },
   "source": [
    "Let's check data unbalance with respect with *target* value, i.e. **Class**."
   ]
  },
  {
   "cell_type": "code",
   "execution_count": 8,
   "metadata": {},
   "outputs": [
    {
     "data": {
      "text/plain": [
       "<matplotlib.axes._subplots.AxesSubplot at 0x7fb75d21b3d0>"
      ]
     },
     "execution_count": 8,
     "metadata": {},
     "output_type": "execute_result"
    },
    {
     "data": {
      "image/png": "[encoded data removed]",
      "text/plain": [
       "<Figure size 432x288 with 1 Axes>"
      ]
     },
     "metadata": {
      "needs_background": "light"
     },
     "output_type": "display_data"
    }
   ],
   "source": [
    "sns.countplot(data_df['Class'])"
   ]
  },
  {
   "cell_type": "code",
   "execution_count": 9,
   "metadata": {},
   "outputs": [
    {
     "data": {
      "text/plain": [
       "0    284315\n",
       "1       492\n",
       "Name: Class, dtype: int64"
      ]
     },
     "execution_count": 9,
     "metadata": {},
     "output_type": "execute_result"
    }
   ],
   "source": [
    "data_df.Class.value_counts()"
   ]
  },
  {
   "cell_type": "markdown",
   "metadata": {
    "_uuid": "77eddeb05f44c47ee4a1be98bb22bb3cb0345030"
   },
   "source": [
    "Only **492** (or **0.172%**) of transaction are fraudulent. That means the data is highly unbalanced with respect with target variable **Class**."
   ]
  },
  {
   "cell_type": "markdown",
   "metadata": {
    "_uuid": "88fc9ad3d2dde75457f3b8c5417e07cbd9564a30"
   },
   "source": [
    "# <a id=\"5\">Data exploration</a>"
   ]
  },
  {
   "cell_type": "markdown",
   "metadata": {
    "_uuid": "b3c42863cec8d34e87dc098b85b3c709ec2739c0"
   },
   "source": [
    "## Transactions in time"
   ]
  },
  {
   "cell_type": "code",
   "execution_count": 10,
   "metadata": {
    "_uuid": "b9521e8cc9f179887c5dc454ed84d0ba20e55946"
   },
   "outputs": [
    {
     "data": {
      "application/vnd.plotly.v1+json": {
       "config": {
        "linkText": "Export to plot.ly",
        "plotlyServerURL": "https://plot.ly",
        "showLink": false
       },
       "data": [
        {
         "legendgroup": "Not Fraud",
         "marker": {
          "color": "rgb(31, 119, 180)"
         },
         "mode": "lines",
         "name": "Not Fraud",
         "showlegend": true,
         "type": "scatter",
         "x": [
          0,
          0.09599555555555556,
          0.1919911111111111,
          0.28798666666666667,
          0.3839822222222222,
          0.4799777777777778,
          0.5759733333333333,
          0.6719688888888888,
          0.7679644444444444,
          0.8639600000000001,
          0.9599555555555556,
          1.055951111111111,
          1.1519466666666667,
          1.2479422222222223,
          1.3439377777777777,
          1.4399333333333333,
          1.535928888888889,
          1.6319244444444443,
          1.7279200000000001,
          1.8239155555555555,
          1.9199111111111111,
          2.015906666666667,
          2.111902222222222,
          2.2078977777777777,
          2.3038933333333333,
          2.3998888888888885,
          2.4958844444444446,
          2.59188,
          2.6878755555555554,
          2.783871111111111,
          2.8798666666666666,
          2.975862222222222,
          3.071857777777778,
          3.1678533333333334,
          3.2638488888888886,
          3.3598444444444446,
          3.4558400000000002,
          3.5518355555555554,
          3.647831111111111,
          3.7438266666666666,
          3.8398222222222222,
          3.935817777777778,
          4.031813333333334,
          4.127808888888889,
          4.223804444444444,
          4.3198,
          4.4157955555555555,
          4.511791111111111,
          4.607786666666667,
          4.703782222222222,
          4.799777777777777,
          4.8957733333333335,
          4.991768888888889,
          5.087764444444444,
          5.18376,
          5.279755555555555,
          5.375751111111111,
          5.471746666666667,
          5.567742222222222,
          5.6637377777777775,
          5.759733333333333,
          5.855728888888889,
          5.951724444444444,
          6.04772,
          6.143715555555556,
          6.239711111111111,
          6.335706666666667,
          6.431702222222222,
          6.527697777777777,
          6.623693333333334,
          6.719688888888889,
          6.815684444444444,
          6.9116800000000005,
          7.007675555555555,
          7.103671111111111,
          7.199666666666667,
          7.295662222222222,
          7.391657777777778,
          7.487653333333333,
          7.583648888888889,
          7.6796444444444445,
          7.77564,
          7.871635555555556,
          7.96763111111111,
          8.063626666666668,
          8.159622222222222,
          8.255617777777777,
          8.351613333333333,
          8.447608888888889,
          8.543604444444446,
          8.6396,
          8.735595555555555,
          8.831591111111111,
          8.927586666666667,
          9.023582222222222,
          9.119577777777778,
          9.215573333333333,
          9.311568888888889,
          9.407564444444445,
          9.50356,
          9.599555555555554,
          9.695551111111111,
          9.791546666666667,
          9.887542222222223,
          9.983537777777778,
          10.079533333333332,
          10.175528888888888,
          10.271524444444445,
          10.36752,
          10.463515555555556,
          10.55951111111111,
          10.655506666666666,
          10.751502222222221,
          10.847497777777779,
          10.943493333333334,
          11.039488888888888,
          11.135484444444444,
          11.23148,
          11.327475555555555,
          11.423471111111112,
          11.519466666666666,
          11.615462222222222,
          11.711457777777778,
          11.807453333333333,
          11.903448888888889,
          11.999444444444446,
          12.09544,
          12.191435555555556,
          12.287431111111111,
          12.383426666666667,
          12.479422222222222,
          12.575417777777776,
          12.671413333333334,
          12.76740888888889,
          12.863404444444445,
          12.9594,
          13.055395555555554,
          13.15139111111111,
          13.247386666666667,
          13.343382222222223,
          13.439377777777779,
          13.535373333333332,
          13.631368888888888,
          13.727364444444444,
          13.823360000000001,
          13.919355555555557,
          14.01535111111111,
          14.111346666666666,
          14.207342222222222,
          14.303337777777777,
          14.399333333333335,
          14.495328888888888,
          14.591324444444444,
          14.68732,
          14.783315555555555,
          14.879311111111111,
          14.975306666666667,
          15.071302222222222,
          15.167297777777778,
          15.263293333333333,
          15.359288888888889,
          15.455284444444443,
          15.55128,
          15.647275555555556,
          15.743271111111111,
          15.839266666666667,
          15.93526222222222,
          16.03125777777778,
          16.127253333333336,
          16.22324888888889,
          16.319244444444443,
          16.41524,
          16.511235555555555,
          16.607231111111112,
          16.703226666666666,
          16.799222222222223,
          16.895217777777777,
          16.991213333333334,
          17.087208888888892,
          17.183204444444442,
          17.2792,
          17.375195555555553,
          17.47119111111111,
          17.567186666666668,
          17.663182222222222,
          17.75917777777778,
          17.855173333333333,
          17.95116888888889,
          18.047164444444444,
          18.143159999999998,
          18.239155555555556,
          18.33515111111111,
          18.431146666666667,
          18.52714222222222,
          18.623137777777778,
          18.719133333333332,
          18.81512888888889,
          18.911124444444447,
          19.00712,
          19.103115555555554,
          19.199111111111108,
          19.295106666666666,
          19.391102222222223,
          19.487097777777777,
          19.583093333333334,
          19.679088888888888,
          19.775084444444445,
          19.87108,
          19.967075555555557,
          20.063071111111114,
          20.159066666666664,
          20.25506222222222,
          20.351057777777775,
          20.447053333333333,
          20.54304888888889,
          20.639044444444444,
          20.73504,
          20.831035555555555,
          20.927031111111113,
          21.023026666666667,
          21.11902222222222,
          21.215017777777778,
          21.31101333333333,
          21.40700888888889,
          21.503004444444443,
          21.599,
          21.694995555555558,
          21.79099111111111,
          21.88698666666667,
          21.982982222222223,
          22.078977777777776,
          22.17497333333333,
          22.270968888888888,
          22.366964444444445,
          22.46296,
          22.558955555555556,
          22.65495111111111,
          22.750946666666668,
          22.846942222222225,
          22.94293777777778,
          23.038933333333333,
          23.134928888888886,
          23.230924444444444,
          23.326919999999998,
          23.422915555555555,
          23.518911111111112,
          23.614906666666666,
          23.710902222222224,
          23.806897777777777,
          23.902893333333335,
          23.998888888888892,
          24.094884444444443,
          24.19088,
          24.286875555555554,
          24.38287111111111,
          24.478866666666665,
          24.574862222222222,
          24.67085777777778,
          24.766853333333334,
          24.86284888888889,
          24.958844444444445,
          25.05484,
          25.150835555555553,
          25.24683111111111,
          25.342826666666667,
          25.43882222222222,
          25.53481777777778,
          25.630813333333332,
          25.72680888888889,
          25.822804444444447,
          25.9188,
          26.014795555555555,
          26.11079111111111,
          26.206786666666666,
          26.30278222222222,
          26.398777777777777,
          26.494773333333335,
          26.59076888888889,
          26.686764444444446,
          26.78276,
          26.878755555555557,
          26.97475111111111,
          27.070746666666665,
          27.166742222222222,
          27.262737777777776,
          27.358733333333333,
          27.454728888888887,
          27.550724444444445,
          27.646720000000002,
          27.742715555555556,
          27.838711111111113,
          27.934706666666663,
          28.03070222222222,
          28.12669777777778,
          28.222693333333332,
          28.31868888888889,
          28.414684444444443,
          28.51068,
          28.606675555555555,
          28.702671111111112,
          28.79866666666667,
          28.89466222222222,
          28.990657777777777,
          29.08665333333333,
          29.182648888888888,
          29.278644444444446,
          29.37464,
          29.470635555555557,
          29.56663111111111,
          29.662626666666668,
          29.758622222222222,
          29.85461777777778,
          29.950613333333333,
          30.046608888888887,
          30.142604444444444,
          30.238599999999998,
          30.334595555555556,
          30.430591111111113,
          30.526586666666667,
          30.622582222222224,
          30.718577777777778,
          30.814573333333335,
          30.910568888888886,
          31.006564444444443,
          31.10256,
          31.198555555555554,
          31.29455111111111,
          31.390546666666665,
          31.486542222222223,
          31.582537777777777,
          31.678533333333334,
          31.77452888888889,
          31.87052444444444,
          31.96652,
          32.06251555555556,
          32.15851111111111,
          32.25450666666667,
          32.35050222222222,
          32.44649777777778,
          32.54249333333333,
          32.63848888888889,
          32.73448444444444,
          32.83048,
          32.926475555555555,
          33.02247111111111,
          33.11846666666667,
          33.214462222222224,
          33.31045777777777,
          33.40645333333333,
          33.502448888888885,
          33.598444444444446,
          33.69444,
          33.790435555555554,
          33.88643111111111,
          33.98242666666667,
          34.07842222222222,
          34.174417777777784,
          34.27041333333333,
          34.366408888888884,
          34.462404444444445,
          34.5584,
          34.65439555555556,
          34.75039111111111,
          34.84638666666667,
          34.94238222222222,
          35.03837777777778,
          35.134373333333336,
          35.23036888888889,
          35.326364444444444,
          35.42236,
          35.51835555555556,
          35.614351111111105,
          35.710346666666666,
          35.80634222222222,
          35.90233777777778,
          35.998333333333335,
          36.09432888888889,
          36.19032444444444,
          36.286319999999996,
          36.38231555555556,
          36.47831111111111,
          36.574306666666665,
          36.67030222222222,
          36.76629777777778,
          36.862293333333334,
          36.958288888888895,
          37.05428444444444,
          37.15028,
          37.246275555555556,
          37.34227111111111,
          37.438266666666664,
          37.53426222222222,
          37.63025777777778,
          37.72625333333333,
          37.82224888888889,
          37.91824444444444,
          38.01424,
          38.110235555555555,
          38.20623111111111,
          38.30222666666667,
          38.398222222222216,
          38.49421777777778,
          38.59021333333333,
          38.68620888888889,
          38.782204444444446,
          38.8782,
          38.97419555555555,
          39.070191111111114,
          39.16618666666667,
          39.26218222222222,
          39.358177777777776,
          39.45417333333333,
          39.55016888888889,
          39.646164444444445,
          39.74216,
          39.83815555555555,
          39.93415111111111,
          40.03014666666667,
          40.12614222222223,
          40.222137777777775,
          40.31813333333333,
          40.41412888888889,
          40.51012444444444,
          40.606120000000004,
          40.70211555555555,
          40.79811111111111,
          40.894106666666666,
          40.99010222222223,
          41.08609777777778,
          41.18209333333333,
          41.27808888888889,
          41.37408444444444,
          41.47008,
          41.56607555555556,
          41.66207111111111,
          41.758066666666664,
          41.854062222222225,
          41.95005777777778,
          42.04605333333333,
          42.14204888888889,
          42.23804444444444,
          42.33404,
          42.430035555555556,
          42.52603111111111,
          42.62202666666666,
          42.718022222222224,
          42.81401777777778,
          42.91001333333334,
          43.006008888888886,
          43.10200444444444,
          43.198,
          43.293995555555554,
          43.389991111111115,
          43.48598666666666,
          43.58198222222222,
          43.67797777777778,
          43.77397333333334,
          43.869968888888884,
          43.965964444444445,
          44.06196,
          44.15795555555555,
          44.253951111111114,
          44.34994666666666,
          44.44594222222222,
          44.541937777777775,
          44.637933333333336,
          44.73392888888889,
          44.829924444444444,
          44.92592,
          45.02191555555556,
          45.11791111111111,
          45.21390666666667,
          45.30990222222222,
          45.405897777777774,
          45.501893333333335,
          45.59788888888889,
          45.69388444444445,
          45.78988,
          45.88587555555556,
          45.98187111111111,
          46.077866666666665,
          46.17386222222222,
          46.26985777777777,
          46.365853333333334,
          46.46184888888889,
          46.55784444444445,
          46.653839999999995,
          46.749835555555556,
          46.84583111111111,
          46.94182666666667,
          47.037822222222225,
          47.13381777777777,
          47.22981333333333,
          47.325808888888886,
          47.42180444444445,
          47.5178,
          47.613795555555555,
          47.70979111111111,
          47.80578666666667,
          47.901782222222224
         ],
         "xaxis": "x",
         "y": [
          0.006110450841910545,
          0.006441266469901871,
          0.006750383984242379,
          0.007034126476074152,
          0.00728933323494352,
          0.0075134520006224816,
          0.0077046096683373476,
          0.007861658209710532,
          0.007984193772480292,
          0.008072548242341271,
          0.008127753910630519,
          0.00815148321054838,
          0.0081459666842589,
          0.008113893354599182,
          0.008058298442679539,
          0.007982443857529479,
          0.007889697065981787,
          0.007783413829276625,
          0.007666829884939788,
          0.007542965992296819,
          0.007414549894914911,
          0.007283957740459401,
          0.007153176400752626,
          0.0070237870166401165,
          0.006896969015653112,
          0.006773522871607173,
          0.00665390904166562,
          0.0065382998646245,
          0.006426640758628734,
          0.0063187168288370245,
          0.006214220984817442,
          0.00611281986115843,
          0.006014214210268514,
          0.005918190962750187,
          0.005824664791213774,
          0.005733707727460074,
          0.005645566128850805,
          0.005560665026612458,
          0.005479600578950575,
          0.005403121961997508,
          0.005332104534541538,
          0.005267516487832135,
          0.005210381426589009,
          0.00516173941632399,
          0.005122608977331571,
          0.005093952316354761,
          0.005076645778473247,
          0.005071457095133126,
          0.005079030524767502,
          0.0050998804586167385,
          0.005134393526386456,
          0.0051828387148009115,
          0.005245384536161684,
          0.0053221218801029705,
          0.005413090871893126,
          0.0055183098612264295,
          0.0056378045860698296,
          0.005771635598885973,
          0.005919922201815255,
          0.006082861400050349,
          0.006260740728876753,
          0.0064539442145139896,
          0.00666295116320373,
          0.0068883279066780925,
          0.007130713035688157,
          0.007390797000180743,
          0.007669297223542219,
          0.007966930054360395,
          0.008284380955485325,
          0.008622274308154263,
          0.008981144097925208,
          0.009361406565477253,
          0.009763335670711337,
          0.010187041958032555,
          0.010632455150106291,
          0.011099310561045073,
          0.011587139228277355,
          0.01209526152979941,
          0.012622783987458584,
          0.013168598956895757,
          0.013731386962706418,
          0.014309621538544265,
          0.01490157655661552,
          0.015505336156887713,
          0.016118807490757402,
          0.01673973655665637,
          0.01736572741062722,
          0.017994264974355193,
          0.018622741535355595,
          0.01924848684592427,
          0.019868801493553388,
          0.020480992956464383,
          0.021082413498496128,
          0.021670498824194653,
          0.0222428062328299,
          0.02279705090072851,
          0.02333113890026948,
          0.02384319563902845,
          0.024331588573268097,
          0.02479494330714294,
          0.025232152515816564,
          0.025642377504224146,
          0.02602504260643574,
          0.02637982301479979,
          0.026706626975379198,
          0.027005573571839078,
          0.027276967524122328,
          0.027521272537582516,
          0.027739084746566486,
          0.02793110770494274,
          0.028098130192904133,
          0.028241007848716283,
          0.028360649314888776,
          0.028458007232720923,
          0.028534074051173128,
          0.02858988225945786,
          0.028626508330129665,
          0.02864507939058219,
          0.028646781441757353,
          0.028632867824999072,
          0.028604666607696158,
          0.028563585616656593,
          0.028511113990707052,
          0.028448819341458962,
          0.028378339889713135,
          0.028301371267148916,
          0.028219648018744305,
          0.028134920189434136,
          0.028048925707451176,
          0.027963359566582385,
          0.027879841042819275,
          0.027799880343976496,
          0.027724846174811198,
          0.027655935701174285,
          0.027594148316226697,
          0.027540264456246757,
          0.02749483049389675,
          0.027458150467284902,
          0.027430285100263938,
          0.027411058250617352,
          0.02740007060527225,
          0.027396720141199142,
          0.027400228600684085,
          0.027409673000785884,
          0.027424021016498705,
          0.02744216894983786,
          0.027462980924392755,
          0.027485327926194826,
          0.02750812534462472,
          0.027530367747899125,
          0.027551159751986097,
          0.02756974200459212,
          0.027585511501659464,
          0.027598035676560558,
          0.027607059945081096,
          0.027612508644578603,
          0.027614479564492766,
          0.02761323251762704,
          0.027609172636322194,
          0.027602829283295573,
          0.02759483163218459,
          0.027585882087413215,
          0.027576728768632132,
          0.027568138276413835,
          0.02756086988172929,
          0.02755565214506721,
          0.027553162779647505,
          0.02755401233927714,
          0.027558732051070893,
          0.02756776584529418,
          0.027581466379019867,
          0.027600094626728015,
          0.027623822436802677,
          0.02765273734160171,
          0.027686848868604803,
          0.027726095633036057,
          0.027770352593558853,
          0.027819438010900185,
          0.027873119847626762,
          0.02793112156453087,
          0.027993127481536765,
          0.028058788054842142,
          0.028127725555392766,
          0.028199540699297324,
          0.028273820767176695,
          0.028350149653042445,
          0.028428120108726414,
          0.028507348209928993,
          0.028587489784703008,
          0.028668258240358353,
          0.028749442929441923,
          0.028830926939380098,
          0.028912703001170447,
          0.028994886112909225,
          0.029077721479510012,
          0.029161586487466737,
          0.02924698566009778,
          0.02933453786206399,
          0.029424955421369393,
          0.029519015285301004,
          0.029617522792598237,
          0.029721269095152707,
          0.029830983668019263,
          0.029947283680073468,
          0.030070622239238357,
          0.030201237663441415,
          0.030339105957062313,
          0.03048389859599292,
          0.030634947552484623,
          0.030791219238462647,
          0.0309512987305422,
          0.031113385280018002,
          0.031275299724144064,
          0.03143450401640927,
          0.03158813269572257,
          0.03173303572701741,
          0.03186583177595564,
          0.03198297063390628,
          0.032080803191640285,
          0.03215565707745432,
          0.032203915835544106,
          0.03222209933314631,
          0.03220694296167912,
          0.03215547315006413,
          0.03206507674925162,
          0.031933561985025484,
          0.031759208916603096,
          0.03154080768069976,
          0.03127768323686465,
          0.030969705844638647,
          0.030617287073669983,
          0.03022136174529939,
          0.029783356794858294,
          0.029305148592720997,
          0.028789010734770876,
          0.02823755467913379,
          0.02765366584225161,
          0.027040437858893245,
          0.026401107652982665,
          0.025738993765180664,
          0.02505744005502368,
          0.024359766464671723,
          0.023649228028890763,
          0.022928982776441818,
          0.022202068627068767,
          0.021471388879375195,
          0.020739705437351517,
          0.020009638560315613,
          0.01928367165840247,
          0.018564159501567756,
          0.01785333816492866,
          0.017153335091008488,
          0.016466177798457222,
          0.01579379999144783,
          0.015138044106062808,
          0.01450065965041366,
          0.013883297034959316,
          0.013287496930626705,
          0.012714675518750825,
          0.012166106294534887,
          0.011642899342911857,
          0.01114597921281962,
          0.010676062665558289,
          0.010233637659674123,
          0.009818944955298971,
          0.00943196367368881,
          0.009072402033654881,
          0.008739694308851971,
          0.008433004814267656,
          0.008151239445288424,
          0.007893064969736017,
          0.007656935926235986,
          0.007441128627389011,
          0.007243781421219813,
          0.007062940047688656,
          0.006896606656621098,
          0.006742790845518507,
          0.0065995609437149265,
          0.0064650937225691155,
          0.006337720754223039,
          0.006215969772848679,
          0.006098599605574377,
          0.005984627523486203,
          0.005873348199793599,
          0.00576434383263285,
          0.005657485372346884,
          0.005552925165390288,
          0.005451081668500368,
          0.005352617179412875,
          0.00525840976006261,
          0.005169520685517205,
          0.0050871588326216865,
          0.00501264342739815,
          0.004947366505300059,
          0.004892756313118802,
          0.0048502427083782435,
          0.004821225406069973,
          0.0048070456990323305,
          0.004808962052350609,
          0.004828129757827345,
          0.0048655846438072315,
          0.004922230677805901,
          0.004998831180852111,
          0.005096003296373335,
          0.005214215322780202,
          0.005353786524507198,
          0.0055148890752518545,
          0.005697551851309064,
          0.005901665872269706,
          0.006126991269947307,
          0.006373165742957529,
          0.006639714513236452,
          0.006926061832725126,
          0.007231544086523639,
          0.007555424499071074,
          0.007896909371926396,
          0.008255165668957586,
          0.008629339624533147,
          0.009018575893595025,
          0.00942203660319051,
          0.009838919519095955,
          0.010268474425332595,
          0.010710016744804098,
          0.011162937420036236,
          0.011626708134563117,
          0.012100881093539831,
          0.012585082796483642,
          0.013079001519089794,
          0.013582368561815661,
          0.014094933701417072,
          0.014616435674017674,
          0.015146568897436164,
          0.015684947977898565,
          0.016231071814306577,
          0.016784289287501693,
          0.017343768583394356,
          0.017908472135578012,
          0.018477138981833896,
          0.01904827601573973,
          0.019620159194619374,
          0.020190845261952535,
          0.020758193986620706,
          0.021319900348315185,
          0.021873535545557956,
          0.02241659520696323,
          0.022946552781013055,
          0.023460915792136303,
          0.023957282500496536,
          0.024433396499196652,
          0.02488719692480175,
          0.025316862234088508,
          0.025720845891293337,
          0.02609790278768675,
          0.02644710574537308,
          0.026767852003290217,
          0.027059860108891453,
          0.02732315811006557,
          0.0275580643297763,
          0.027765162289101104,
          0.027945271509715822,
          0.02809941597040428,
          0.028228791918840136,
          0.028334736562815717,
          0.028418698904113377,
          0.02848221365798421,
          0.02852687884902953,
          0.028554337317873015,
          0.028566262038334685,
          0.028564344854219898,
          0.028550288015628138,
          0.02852579773818538,
          0.02849257892977518,
          0.02845233022695106,
          0.02840673855048123,
          0.028357472515127304,
          0.028306174198331282,
          0.028254448969772774,
          0.02820385329224856,
          0.028155880608499943,
          0.028111945615006646,
          0.028073367381731315,
          0.028041351898912582,
          0.028016974714148053,
          0.028001164364135144,
          0.027994687307115976,
          0.02799813502786806,
          0.02801191392188256,
          0.028036238474738854,
          0.02807112814230503,
          0.028116408212683505,
          0.0281717147967088,
          0.028236503954677205,
          0.028310064826801682,
          0.028391536497344112,
          0.02847992819116809,
          0.028574142280440366,
          0.028672999472534905,
          0.028775265462278734,
          0.02887967826705282,
          0.028984975426267476,
          0.029089920241117555,
          0.029193326258977165,
          0.029294079270460745,
          0.029391156185278645,
          0.02948364028253778,
          0.029570732486780212,
          0.029651758495298195,
          0.029726171765769624,
          0.02979355255536896,
          0.029853603372030243,
          0.02990614134456242,
          0.02995108813114826,
          0.029988458057773813,
          0.030018345204547946,
          0.030040910137285853,
          0.03005636691643732,
          0.03006497091140235,
          0.030067007814775875,
          0.030062784100022173,
          0.030052619011096283,
          0.03003683802768864,
          0.030015767628337756,
          0.029989731086775922,
          0.02995904499238398,
          0.029924016187153374,
          0.029884938857942175,
          0.02984209160807189,
          0.02979573444601447,
          0.02974610575710322,
          0.029693419450714322,
          0.029637862583501373,
          0.02957959383356357,
          0.02951874322843007,
          0.029455413503509973,
          0.029389683384877942,
          0.029321612954792246,
          0.029251251080092768,
          0.02917864467780683,
          0.029103849378030115,
          0.029026940942652797,
          0.028948026630930167,
          0.028867255588195376,
          0.02878482728692025,
          0.028700997078797037,
          0.02861607802470307,
          0.028530438351375528,
          0.02844449412771821,
          0.028358697042607222,
          0.02827351747854589,
          0.028189423388171653,
          0.02810685577010433,
          0.02802620178567689,
          0.027947766741235315,
          0.02787174626956139,
          0.02779820007203909,
          0.02772702852997333,
          0.027657953364180598,
          0.027590503326703656,
          0.027524005661119153,
          0.027457583784766797,
          0.027390161344863224,
          0.027320472498385918,
          0.027247077979293904,
          0.027168386260767292,
          0.027082678907053563,
          0.02698813904895096,
          0.026882881815957785,
          0.0267649855209255,
          0.026632522421191615,
          0.026483587972402595,
          0.02631632764356298,
          0.026128960567412093,
          0.02591979954929347,
          0.025687267237613214,
          0.025429908554433826,
          0.02514639977800842,
          0.02483555494071251,
          0.02449633043570034,
          0.024127828894021063,
          0.023729303483183008,
          0.023300163774188146,
          0.022839984218086105,
          0.02234851606306959,
          0.021825703234881984,
          0.021271702311100846,
          0.020686906266335188,
          0.020071971180629918,
          0.01942784462331305,
          0.018755793988424016,
          0.018057432705347452,
          0.017334742015947337,
          0.016590085927460703,
          0.015826217039125456,
          0.015046271208213486,
          0.014253749462154429,
          0.013452486157771325,
          0.012646603102687556,
          0.011840450142661444,
          0.01103853352865312,
          0.010245434151476966
         ],
         "yaxis": "y"
        },
        {
         "legendgroup": "Fraud",
         "marker": {
          "color": "rgb(255, 127, 14)"
         },
         "mode": "lines",
         "name": "Fraud",
         "showlegend": true,
         "type": "scatter",
         "x": [
          0.11277777777777778,
          0.20718999999999999,
          0.3016022222222222,
          0.39601444444444445,
          0.4904266666666667,
          0.5848388888888889,
          0.679251111111111,
          0.7736633333333333,
          0.8680755555555555,
          0.9624877777777777,
          1.0569,
          1.151312222222222,
          1.2457244444444444,
          1.3401366666666665,
          1.4345488888888889,
          1.528961111111111,
          1.6233733333333333,
          1.7177855555555555,
          1.8121977777777778,
          1.90661,
          2.0010222222222223,
          2.0954344444444444,
          2.189846666666666,
          2.284258888888888,
          2.3786711111111107,
          2.473083333333333,
          2.567495555555555,
          2.661907777777777,
          2.7563199999999997,
          2.850732222222222,
          2.945144444444444,
          3.039556666666666,
          3.1339688888888886,
          3.2283811111111107,
          3.322793333333333,
          3.417205555555555,
          3.5116177777777775,
          3.6060299999999996,
          3.7004422222222217,
          3.794854444444444,
          3.8892666666666664,
          3.9836788888888885,
          4.078091111111111,
          4.172503333333333,
          4.2669155555555545,
          4.361327777777777,
          4.455739999999999,
          4.550152222222222,
          4.644564444444444,
          4.738976666666666,
          4.833388888888888,
          4.92780111111111,
          5.022213333333332,
          5.116625555555554,
          5.2110377777777765,
          5.3054499999999996,
          5.399862222222222,
          5.494274444444444,
          5.588686666666666,
          5.683098888888888,
          5.77751111111111,
          5.871923333333332,
          5.966335555555554,
          6.060747777777777,
          6.1551599999999995,
          6.249572222222222,
          6.343984444444444,
          6.438396666666666,
          6.532808888888888,
          6.62722111111111,
          6.721633333333332,
          6.816045555555554,
          6.910457777777777,
          7.0048699999999995,
          7.099282222222222,
          7.193694444444444,
          7.288106666666666,
          7.382518888888888,
          7.47693111111111,
          7.571343333333332,
          7.665755555555555,
          7.760167777777777,
          7.8545799999999995,
          7.948992222222222,
          8.043404444444445,
          8.137816666666666,
          8.232228888888889,
          8.32664111111111,
          8.421053333333331,
          8.515465555555554,
          8.609877777777776,
          8.704289999999999,
          8.79870222222222,
          8.893114444444445,
          8.987526666666666,
          9.081938888888889,
          9.17635111111111,
          9.270763333333333,
          9.365175555555554,
          9.459587777777777,
          9.553999999999998,
          9.648412222222222,
          9.742824444444443,
          9.837236666666666,
          9.931648888888887,
          10.02606111111111,
          10.120473333333331,
          10.214885555555554,
          10.309297777777775,
          10.40371,
          10.498122222222221,
          10.592534444444444,
          10.686946666666666,
          10.781358888888889,
          10.87577111111111,
          10.970183333333333,
          11.064595555555554,
          11.159007777777777,
          11.253419999999998,
          11.347832222222221,
          11.442244444444443,
          11.536656666666666,
          11.631068888888887,
          11.72548111111111,
          11.819893333333331,
          11.914305555555554,
          12.008717777777777,
          12.10313,
          12.197542222222221,
          12.291954444444443,
          12.386366666666666,
          12.480778888888887,
          12.57519111111111,
          12.669603333333331,
          12.764015555555554,
          12.858427777777775,
          12.952839999999998,
          13.04725222222222,
          13.141664444444443,
          13.236076666666664,
          13.330488888888887,
          13.424901111111108,
          13.519313333333331,
          13.613725555555554,
          13.708137777777777,
          13.802549999999998,
          13.896962222222221,
          13.991374444444443,
          14.085786666666666,
          14.180198888888887,
          14.27461111111111,
          14.369023333333331,
          14.463435555555554,
          14.557847777777775,
          14.652259999999998,
          14.74667222222222,
          14.841084444444443,
          14.935496666666664,
          15.029908888888887,
          15.12432111111111,
          15.218733333333333,
          15.313145555555554,
          15.407557777777777,
          15.501969999999998,
          15.596382222222221,
          15.690794444444442,
          15.785206666666665,
          15.879618888888887,
          15.97403111111111,
          16.06844333333333,
          16.162855555555556,
          16.257267777777777,
          16.35168,
          16.446092222222223,
          16.540504444444444,
          16.634916666666665,
          16.729328888888887,
          16.82374111111111,
          16.918153333333333,
          17.012565555555554,
          17.106977777777775,
          17.20139,
          17.29580222222222,
          17.390214444444442,
          17.484626666666664,
          17.579038888888892,
          17.673451111111113,
          17.767863333333334,
          17.862275555555556,
          17.95668777777778,
          18.0511,
          18.145512222222223,
          18.239924444444444,
          18.334336666666665,
          18.42874888888889,
          18.52316111111111,
          18.617573333333333,
          18.711985555555554,
          18.80639777777778,
          18.90081,
          18.99522222222222,
          19.089634444444442,
          19.184046666666667,
          19.27845888888889,
          19.37287111111111,
          19.46728333333333,
          19.561695555555556,
          19.656107777777777,
          19.750519999999998,
          19.84493222222222,
          19.939344444444444,
          20.033756666666665,
          20.128168888888887,
          20.222581111111108,
          20.316993333333333,
          20.411405555555554,
          20.505817777777775,
          20.600229999999996,
          20.694642222222225,
          20.789054444444446,
          20.883466666666667,
          20.97787888888889,
          21.072291111111113,
          21.166703333333334,
          21.261115555555556,
          21.355527777777777,
          21.44994,
          21.544352222222223,
          21.638764444444444,
          21.733176666666665,
          21.82758888888889,
          21.92200111111111,
          22.016413333333333,
          22.110825555555554,
          22.20523777777778,
          22.29965,
          22.39406222222222,
          22.488474444444442,
          22.582886666666667,
          22.67729888888889,
          22.77171111111111,
          22.86612333333333,
          22.960535555555555,
          23.054947777777777,
          23.149359999999998,
          23.24377222222222,
          23.338184444444444,
          23.432596666666665,
          23.527008888888886,
          23.621421111111108,
          23.715833333333332,
          23.810245555555557,
          23.90465777777778,
          23.99907,
          24.093482222222224,
          24.187894444444446,
          24.282306666666667,
          24.376718888888888,
          24.47113111111111,
          24.565543333333334,
          24.659955555555555,
          24.754367777777777,
          24.848779999999998,
          24.943192222222223,
          25.037604444444444,
          25.132016666666665,
          25.226428888888886,
          25.32084111111111,
          25.415253333333332,
          25.509665555555554,
          25.604077777777775,
          25.69849,
          25.79290222222222,
          25.887314444444442,
          25.981726666666663,
          26.076138888888888,
          26.17055111111111,
          26.26496333333333,
          26.359375555555552,
          26.453787777777777,
          26.548199999999998,
          26.64261222222222,
          26.73702444444444,
          26.831436666666665,
          26.925848888888886,
          27.02026111111111,
          27.114673333333332,
          27.209085555555557,
          27.30349777777778,
          27.39791,
          27.49232222222222,
          27.586734444444446,
          27.681146666666667,
          27.775558888888888,
          27.86997111111111,
          27.964383333333334,
          28.058795555555555,
          28.153207777777776,
          28.247619999999998,
          28.342032222222223,
          28.436444444444444,
          28.530856666666665,
          28.625268888888886,
          28.71968111111111,
          28.814093333333332,
          28.908505555555553,
          29.002917777777775,
          29.09733,
          29.19174222222222,
          29.286154444444442,
          29.380566666666663,
          29.474978888888888,
          29.56939111111111,
          29.66380333333333,
          29.75821555555555,
          29.852627777777776,
          29.947039999999998,
          30.04145222222222,
          30.135864444444444,
          30.23027666666667,
          30.32468888888889,
          30.41910111111111,
          30.513513333333332,
          30.607925555555553,
          30.702337777777778,
          30.79675,
          30.89116222222222,
          30.985574444444442,
          31.079986666666667,
          31.174398888888888,
          31.26881111111111,
          31.36322333333333,
          31.457635555555555,
          31.552047777777776,
          31.646459999999998,
          31.74087222222222,
          31.835284444444444,
          31.929696666666665,
          32.02410888888888,
          32.11852111111111,
          32.21293333333333,
          32.30734555555556,
          32.401757777777775,
          32.49617,
          32.590582222222224,
          32.68499444444444,
          32.77940666666667,
          32.873818888888884,
          32.96823111111111,
          33.062643333333334,
          33.15705555555555,
          33.251467777777776,
          33.345879999999994,
          33.44029222222222,
          33.53470444444444,
          33.62911666666667,
          33.723528888888886,
          33.81794111111111,
          33.91235333333333,
          34.00676555555555,
          34.10117777777777,
          34.195589999999996,
          34.29000222222222,
          34.384414444444445,
          34.47882666666666,
          34.57323888888889,
          34.667651111111105,
          34.76206333333333,
          34.85647555555555,
          34.95088777777777,
          35.045300000000005,
          35.13971222222222,
          35.23412444444445,
          35.328536666666665,
          35.42294888888889,
          35.51736111111111,
          35.61177333333333,
          35.70618555555555,
          35.80059777777778,
          35.89501,
          35.989422222222224,
          36.08383444444444,
          36.178246666666666,
          36.272658888888884,
          36.36707111111111,
          36.46148333333333,
          36.55589555555555,
          36.650307777777776,
          36.74472,
          36.83913222222222,
          36.93354444444444,
          37.02795666666666,
          37.122368888888886,
          37.2167811111111,
          37.31119333333333,
          37.40560555555555,
          37.50001777777778,
          37.594429999999996,
          37.68884222222222,
          37.78325444444444,
          37.87766666666666,
          37.97207888888888,
          38.066491111111105,
          38.16090333333334,
          38.255315555555555,
          38.34972777777778,
          38.44414,
          38.53855222222222,
          38.63296444444444,
          38.727376666666665,
          38.82178888888888,
          38.916201111111114,
          39.01061333333333,
          39.10502555555556,
          39.199437777777774,
          39.29385,
          39.38826222222222,
          39.48267444444444,
          39.57708666666666,
          39.67149888888889,
          39.76591111111111,
          39.86032333333333,
          39.95473555555555,
          40.049147777777776,
          40.143559999999994,
          40.23797222222222,
          40.332384444444436,
          40.42679666666667,
          40.521208888888886,
          40.61562111111111,
          40.71003333333333,
          40.80444555555555,
          40.89885777777777,
          40.993269999999995,
          41.08768222222221,
          41.182094444444445,
          41.27650666666667,
          41.37091888888889,
          41.46533111111111,
          41.55974333333333,
          41.654155555555555,
          41.74856777777777,
          41.84298,
          41.93739222222222,
          42.03180444444445,
          42.126216666666664,
          42.22062888888889,
          42.31504111111111,
          42.40945333333333,
          42.50386555555555,
          42.598277777777774,
          42.69268999999999,
          42.787102222222224,
          42.88151444444444,
          42.975926666666666,
          43.070338888888884,
          43.16475111111111,
          43.259163333333326,
          43.35357555555555,
          43.44798777777777,
          43.5424,
          43.63681222222222,
          43.73122444444444,
          43.82563666666666,
          43.920048888888886,
          44.0144611111111,
          44.10887333333333,
          44.203285555555546,
          44.29769777777778,
          44.39211,
          44.48652222222222,
          44.580934444444445,
          44.67534666666666,
          44.76975888888889,
          44.864171111111105,
          44.95858333333333,
          45.052995555555555,
          45.14740777777778,
          45.24182,
          45.33623222222222,
          45.43064444444444,
          45.525056666666664,
          45.61946888888888,
          45.71388111111111,
          45.80829333333333,
          45.902705555555556,
          45.997117777777774,
          46.09153,
          46.18594222222222,
          46.28035444444444,
          46.37476666666666,
          46.469178888888884,
          46.56359111111111,
          46.65800333333333,
          46.75241555555555,
          46.846827777777776,
          46.94123999999999,
          47.03565222222222,
          47.130064444444436,
          47.22447666666666
         ],
         "xaxis": "x",
         "y": [
          0.009261097271706308,
          0.009471620900926578,
          0.009683167069570718,
          0.009895631930507577,
          0.010108911574147028,
          0.010322902268793815,
          0.010537500700539477,
          0.01075260421176208,
          0.01096811103729771,
          0.011183920537347862,
          0.011399933426191658,
          0.011616051995779551,
          0.011832180333299105,
          0.012048224531820959,
          0.012264092893154816,
          0.01247969612207251,
          0.012694947511084789,
          0.012909763114994637,
          0.013124061914487764,
          0.013337765968063705,
          0.01355080055165866,
          0.013763094285358525,
          0.013974579246656262,
          0.014185191069761988,
          0.01439486903053374,
          0.014603556116657498,
          0.014811199082769169,
          0.015017748490275344,
          0.015223158731697533,
          0.0154273880394312,
          0.015630398478881036,
          0.015832155926001432,
          0.016032630029343447,
          0.016231794156774365,
          0.01642962532711064,
          0.016626104126966988,
          0.01682121461319572,
          0.017014944201353525,
          0.017207283540696363,
          0.01739822637626611,
          0.01758776939868832,
          0.017775912082360606,
          0.01796265651276064,
          0.01814800720365486,
          0.01833197090503394,
          0.018514556402644922,
          0.01869577431002702,
          0.0188756368539939,
          0.019054157654534262,
          0.01923135150012928,
          0.019407234119505595,
          0.019581821950859387,
          0.019755131909599523,
          0.01992718115566193,
          0.020097986861453806,
          0.020267565981478254,
          0.020435935024686776,
          0.0206031098305909,
          0.020769105350150346,
          0.02093393543242979,
          0.02109761261799287,
          0.021260147939969082,
          0.0214215507336952,
          0.02158182845579303,
          0.02174098651350244,
          0.0218990281050416,
          0.02205595407171542,
          0.02221176276244061,
          0.022366449911298075,
          0.022520008528664114,
          0.022672428806410804,
          0.022823698037600468,
          0.0229738005510347,
          0.0231227176609495,
          0.02327042763208056,
          0.02341690566025234,
          0.023562123868574505,
          0.023706051319258275,
          0.023848654040996464,
          0.023989895071778334,
          0.024129734516943273,
          0.024268129622208187,
          0.024405034861336595,
          0.024540402038051346,
          0.02467418040173274,
          0.02480631677637883,
          0.024936755702249166,
          0.025065439589557946,
          0.025192308883528212,
          0.025317302240072073,
          0.02544035671131594,
          0.025561407940147614,
          0.02568039036292627,
          0.02579723741946209,
          0.025911881769343913,
          0.026024255513669898,
          0.026134290421214738,
          0.026241918158054853,
          0.02634707051965998,
          0.02644967966445687,
          0.02654967834786952,
          0.026647000155843467,
          0.026741579736874153,
          0.02683335303157026,
          0.026922257498803018,
          0.02700823233751629,
          0.027091218703298343,
          0.02717115991884998,
          0.027248001677517484,
          0.027321692239101462,
          0.027392182617192964,
          0.027459426757337917,
          0.027523381705378956,
          0.02758400776537837,
          0.027641268646578187,
          0.02769513159891574,
          0.027745567536666044,
          0.027792551149850717,
          0.02783606100310896,
          0.027876079621791935,
          0.02791259356510658,
          0.027945593486195124,
          0.02797507417910263,
          0.028001034612647607,
          0.02802347795126941,
          0.02804241156299128,
          0.028057847014692147,
          0.028069800054940613,
          0.028078290584696734,
          0.028083342616240077,
          0.02808498422073147,
          0.028083247464861957,
          0.02807816833708355,
          0.028069786663957527,
          0.028058146017188788,
          0.028043293611946976,
          0.028025280197102324,
          0.02800415993802528,
          0.02797999029261937,
          0.027952831881268667,
          0.027922748351392027,
          0.027889806237301473,
          0.02785407481606053,
          0.02781562596003779,
          0.027774533986841154,
          0.02773087550730561,
          0.02768472927219186,
          0.027636176018234877,
          0.027585298314152754,
          0.027532180407205942,
          0.027476908070859597,
          0.027419568454073655,
          0.02736024993270681,
          0.02729904196348062,
          0.027236034940914023,
          0.027171320057590313,
          0.027104989168079033,
          0.02703713465678847,
          0.02696784930997725,
          0.02689722619211161,
          0.026825358526701558,
          0.026752339581709,
          0.02667826255957369,
          0.026603220491853003,
          0.026527306138436516,
          0.026450611891245875,
          0.026373229682295374,
          0.02629525089594797,
          0.026216766285165137,
          0.026137865891517315,
          0.026058638968689367,
          0.025979173909188392,
          0.02589955817393734,
          0.025819878224415723,
          0.02574021945699273,
          0.0256606661390828,
          0.02558130134674453,
          0.025502206903336343,
          0.025423463318841617,
          0.025345149729475647,
          0.02526734383719244,
          0.025190121848718765,
          0.02511355841375519,
          0.025037726562000224,
          0.02496269763867345,
          0.0248885412382372,
          0.02481532513604214,
          0.02474311521765278,
          0.02467197540563973,
          0.024601967583662215,
          0.02453315151770126,
          0.024465584774342918,
          0.024399322636053208,
          0.024334418013429705,
          0.02427092135445839,
          0.024208880550850524,
          0.024148340841580056,
          0.024089344713789432,
          0.024031931801276666,
          0.023976138780826037,
          0.0239219992666867,
          0.023869543703552192,
          0.02381879925843534,
          0.023769789711876585,
          0.023722535348963993,
          0.02367705285068093,
          0.023633355186135595,
          0.023591451506257136,
          0.02355134703957637,
          0.023513042990734593,
          0.023476536442388778,
          0.02344182026120232,
          0.023408883008625574,
          0.023377708857185216,
          0.02334827751300745,
          0.02332056414530737,
          0.023294539323573907,
          0.023270168963177015,
          0.02324741428011428,
          0.023226231755600405,
          0.023206573111185447,
          0.02318838529506453,
          0.023171610480214835,
          0.023156186074965057,
          0.02314204474656469,
          0.023129114458282272,
          0.023117318520517727,
          0.02310657565636375,
          0.02309680008200204,
          0.02308790160226352,
          0.02307978572162313,
          0.023072353770839455,
          0.02306550304938358,
          0.02305912698373638,
          0.023053115301563884,
          0.023047354221709622,
          0.02304172665987169,
          0.02303611244975828,
          0.023030388579441778,
          0.023024429442557885,
          0.023018107103921014,
          0.023011291579054786,
          0.023003851127061506,
          0.022995652556185298,
          0.02298656154135111,
          0.02297644295289438,
          0.02296516119563101,
          0.022952580557352824,
          0.02293856556577428,
          0.02292298135289966,
          0.02290569402572652,
          0.022886571042152883,
          0.022865481590910498,
          0.022842296974307553,
          0.022816890992528305,
          0.022789140328208467,
          0.02275892492997952,
          0.022726128393657213,
          0.022690638339736027,
          0.022652346785843894,
          0.02261115051280969,
          0.02256695142300195,
          0.022519656889605257,
          0.022469180095520607,
          0.022415440360594983,
          0.022358363455917,
          0.02229788190394791,
          0.02223393526329772,
          0.022166470397002272,
          0.022095441723206873,
          0.02202081144722027,
          0.021942549773960936,
          0.021860635099886564,
          0.021775054183564835,
          0.02168580229411989,
          0.021592883336865046,
          0.021496309955515453,
          0.021396103610456373,
          0.02129229463263122,
          0.021184922252702305,
          0.021074034605226936,
          0.020959688707684818,
          0.020841950414285583,
          0.020720894344577863,
          0.020596603786976274,
          0.020469170577414857,
          0.020338694953428157,
          0.020205285384052696,
          0.020069058376030426,
          0.019930138256883223,
          0.019788656935512794,
          0.019644753641061927,
          0.019498574640852025,
          0.019350272938286707,
          0.01920000795168316,
          0.019047945175059148,
          0.018894255821966893,
          0.01873911645352213,
          0.01858270859182981,
          0.018425218320054906,
          0.018266835870429692,
          0.018107755201524342,
          0.01794817356613952,
          0.017788291071203912,
          0.01762831023107905,
          0.017468435515687785,
          0.017308872894888666,
          0.01714982938052172,
          0.01699151256754516,
          0.016834130175674134,
          0.016677889592915277,
          0.016522997422370796,
          0.016369659033658432,
          0.016218078120262266,
          0.016068456264092416,
          0.01592099250848941,
          0.015775882940864572,
          0.015633320286114923,
          0.015493493511899095,
          0.015356587446801377,
          0.015222782412349327,
          0.015092253869786893,
          0.014965172082436754,
          0.01484170179441648,
          0.014722001926401088,
          0.014606225289050782,
          0.014494518314649131,
          0.014387020807419097,
          0.014283865712910255,
          0.01418517890677134,
          0.014091079003148004,
          0.014001677182867095,
          0.013917077041495095,
          0.01383737445728268,
          0.013762657478935045,
          0.013693006233075539,
          0.013628492851201388,
          0.013569181415863184,
          0.013515127925734526,
          0.01346638027917754,
          0.013422978275850556,
          0.013384953635849075,
          0.013352330035819196,
          0.013325123161434367,
          0.013303340775582017,
          0.013286982801565917,
          0.013276041420593538,
          0.013270501182786144,
          0.013270339130920721,
          0.013275524936089389,
          0.013286021044443133,
          0.013301782834171183,
          0.013322758781857518,
          0.013348890637349639,
          0.01338011360627277,
          0.013416356539325849,
          0.013457542127501361,
          0.013503587102382798,
          0.013554402440687357,
          0.013609893572240765,
          0.013669960590592441,
          0.01373449846550553,
          0.013803397256584549,
          0.013876542327335869,
          0.013953814558990757,
          0.014035090563457798,
          0.014120242894811874,
          0.014209140258768103,
          0.014301647719633378,
          0.014397626904272862,
          0.014496936202675528,
          0.01459943096475083,
          0.014704963693036003,
          0.014813384231042875,
          0.014924539947021679,
          0.015038275912967962,
          0.015154435078746961,
          0.015272858441257777,
          0.015393385208605191,
          0.015515852959293613,
          0.01564009779650033,
          0.015765954497527507,
          0.01589325665857297,
          0.016021836834996354,
          0.01615152667729382,
          0.01628215706302586,
          0.01641355822497402,
          0.016545559875827457,
          0.016677991329725448,
          0.016810681621001668,
          0.016943459620493158,
          0.017076154149790232,
          0.017208594093814762,
          0.017340608512119198,
          0.017472026749303073,
          0.01760267854494208,
          0.017732394143421454,
          0.01786100440405702,
          0.017988340911876535,
          0.018114236089419575,
          0.018238523309896264,
          0.01836103701202427,
          0.018481612816840527,
          0.01860008764675639,
          0.018716299847096805,
          0.0188300893103324,
          0.018941297603179096,
          0.019049768096705194,
          0.019155346099547693,
          0.019257878994301546,
          0.019357216377105132,
          0.01945321020040474,
          0.019545714918839198,
          0.019634587638144317,
          0.0197196882669345,
          0.019800879671177753,
          0.0198780278311391,
          0.019951002000526904,
          0.02001967486753764,
          0.02008392271745683,
          0.020143625596437276,
          0.020198667476041637,
          0.020248936418103654,
          0.020294324739433107,
          0.020334729175860575,
          0.020370051045095438,
          0.02040019640784604,
          0.02042507622663483,
          0.020444606521722926,
          0.02045870852354862,
          0.020467308821073078,
          0.02047033950542297,
          0.020467738308216125,
          0.02045944873395899,
          0.02044542018590904,
          0.02042560808480419,
          0.0203999739798735,
          0.02036848565155868,
          0.02033111720539527,
          0.02028784915652401,
          0.020238668504328913,
          0.02018356879672623,
          0.020122550183660142,
          0.020055619459394443,
          0.01998279009322634,
          0.01990408224828628,
          0.019819522788129314,
          0.01972914527086495,
          0.019632989930617427,
          0.019531103646153142,
          0.019423539896558536,
          0.019310358703899504,
          0.01919162656284036,
          0.019067416357250073,
          0.01893780726386994,
          0.018802884643166696,
          0.018662739917541384,
          0.01851747043711194,
          0.018367179333333303,
          0.018211975360763265,
          0.018051972727326254,
          0.017887290913468797,
          0.017718054480639924,
          0.017544392869568822,
          0.01736644018884656,
          0.017184334994353304,
          0.01699822006010245,
          0.016808242141102724,
          0.01661455172886323,
          0.016417302800191488,
          0.016216652559952312,
          0.016012761178474187,
          0.01580579152430316,
          0.01559590889301488,
          0.015383280732805085,
          0.015168076367581742,
          0.014950466718286615,
          0.014730624023171136,
          0.014508721557749163,
          0.01428493335514245,
          0.014059433927525214,
          0.013832397989362828,
          0.013604000183125216,
          0.013374414808139046,
          0.01314381555322386,
          0.012912375233736074,
          0.012680265533622592,
          0.012447656753059717,
          0.012214717562228194,
          0.011981614761745472,
          0.01174851305024896,
          0.01151557479959154,
          0.011282959838080918,
          0.011050825242160922,
          0.010819325136900062,
          0.01058861050561968,
          0.010358829008959274,
          0.01013012481364312,
          0.009902638431177824,
          0.009676506566676311
         ],
         "yaxis": "y"
        }
       ],
       "layout": {
        "barmode": "overlay",
        "hovermode": "closest",
        "legend": {
         "traceorder": "reversed"
        },
        "template": {
         "data": {
          "bar": [
           {
            "error_x": {
             "color": "#2a3f5f"
            },
            "error_y": {
             "color": "#2a3f5f"
            },
            "marker": {
             "line": {
              "color": "#E5ECF6",
              "width": 0.5
             }
            },
            "type": "bar"
           }
          ],
          "barpolar": [
           {
            "marker": {
             "line": {
              "color": "#E5ECF6",
              "width": 0.5
             }
            },
            "type": "barpolar"
           }
          ],
          "carpet": [
           {
            "aaxis": {
             "endlinecolor": "#2a3f5f",
             "gridcolor": "white",
             "linecolor": "white",
             "minorgridcolor": "white",
             "startlinecolor": "#2a3f5f"
            },
            "baxis": {
             "endlinecolor": "#2a3f5f",
             "gridcolor": "white",
             "linecolor": "white",
             "minorgridcolor": "white",
             "startlinecolor": "#2a3f5f"
            },
            "type": "carpet"
           }
          ],
          "choropleth": [
           {
            "colorbar": {
             "outlinewidth": 0,
             "ticks": ""
            },
            "type": "choropleth"
           }
          ],
          "contour": [
           {
            "colorbar": {
             "outlinewidth": 0,
             "ticks": ""
            },
            "colorscale": [
             [
              0,
              "#0d0887"
             ],
             [
              0.1111111111111111,
              "#46039f"
             ],
             [
              0.2222222222222222,
              "#7201a8"
             ],
             [
              0.3333333333333333,
              "#9c179e"
             ],
             [
              0.4444444444444444,
              "#bd3786"
             ],
             [
              0.5555555555555556,
              "#d8576b"
             ],
             [
              0.6666666666666666,
              "#ed7953"
             ],
             [
              0.7777777777777778,
              "#fb9f3a"
             ],
             [
              0.8888888888888888,
              "#fdca26"
             ],
             [
              1,
              "#f0f921"
             ]
            ],
            "type": "contour"
           }
          ],
          "contourcarpet": [
           {
            "colorbar": {
             "outlinewidth": 0,
             "ticks": ""
            },
            "type": "contourcarpet"
           }
          ],
          "heatmap": [
           {
            "colorbar": {
             "outlinewidth": 0,
             "ticks": ""
            },
            "colorscale": [
             [
              0,
              "#0d0887"
             ],
             [
              0.1111111111111111,
              "#46039f"
             ],
             [
              0.2222222222222222,
              "#7201a8"
             ],
             [
              0.3333333333333333,
              "#9c179e"
             ],
             [
              0.4444444444444444,
              "#bd3786"
             ],
             [
              0.5555555555555556,
              "#d8576b"
             ],
             [
              0.6666666666666666,
              "#ed7953"
             ],
             [
              0.7777777777777778,
              "#fb9f3a"
             ],
             [
              0.8888888888888888,
              "#fdca26"
             ],
             [
              1,
              "#f0f921"
             ]
            ],
            "type": "heatmap"
           }
          ],
          "heatmapgl": [
           {
            "colorbar": {
             "outlinewidth": 0,
             "ticks": ""
            },
            "colorscale": [
             [
              0,
              "#0d0887"
             ],
             [
              0.1111111111111111,
              "#46039f"
             ],
             [
              0.2222222222222222,
              "#7201a8"
             ],
             [
              0.3333333333333333,
              "#9c179e"
             ],
             [
              0.4444444444444444,
              "#bd3786"
             ],
             [
              0.5555555555555556,
              "#d8576b"
             ],
             [
              0.6666666666666666,
              "#ed7953"
             ],
             [
              0.7777777777777778,
              "#fb9f3a"
             ],
             [
              0.8888888888888888,
              "#fdca26"
             ],
             [
              1,
              "#f0f921"
             ]
            ],
            "type": "heatmapgl"
           }
          ],
          "histogram": [
           {
            "marker": {
             "colorbar": {
              "outlinewidth": 0,
              "ticks": ""
             }
            },
            "type": "histogram"
           }
          ],
          "histogram2d": [
           {
            "colorbar": {
             "outlinewidth": 0,
             "ticks": ""
            },
            "colorscale": [
             [
              0,
              "#0d0887"
             ],
             [
              0.1111111111111111,
              "#46039f"
             ],
             [
              0.2222222222222222,
              "#7201a8"
             ],
             [
              0.3333333333333333,
              "#9c179e"
             ],
             [
              0.4444444444444444,
              "#bd3786"
             ],
             [
              0.5555555555555556,
              "#d8576b"
             ],
             [
              0.6666666666666666,
              "#ed7953"
             ],
             [
              0.7777777777777778,
              "#fb9f3a"
             ],
             [
              0.8888888888888888,
              "#fdca26"
             ],
             [
              1,
              "#f0f921"
             ]
            ],
            "type": "histogram2d"
           }
          ],
          "histogram2dcontour": [
           {
            "colorbar": {
             "outlinewidth": 0,
             "ticks": ""
            },
            "colorscale": [
             [
              0,
              "#0d0887"
             ],
             [
              0.1111111111111111,
              "#46039f"
             ],
             [
              0.2222222222222222,
              "#7201a8"
             ],
             [
              0.3333333333333333,
              "#9c179e"
             ],
             [
              0.4444444444444444,
              "#bd3786"
             ],
             [
              0.5555555555555556,
              "#d8576b"
             ],
             [
              0.6666666666666666,
              "#ed7953"
             ],
             [
              0.7777777777777778,
              "#fb9f3a"
             ],
             [
              0.8888888888888888,
              "#fdca26"
             ],
             [
              1,
              "#f0f921"
             ]
            ],
            "type": "histogram2dcontour"
           }
          ],
          "mesh3d": [
           {
            "colorbar": {
             "outlinewidth": 0,
             "ticks": ""
            },
            "type": "mesh3d"
           }
          ],
          "parcoords": [
           {
            "line": {
             "colorbar": {
              "outlinewidth": 0,
              "ticks": ""
             }
            },
            "type": "parcoords"
           }
          ],
          "pie": [
           {
            "automargin": true,
            "type": "pie"
           }
          ],
          "scatter": [
           {
            "marker": {
             "colorbar": {
              "outlinewidth": 0,
              "ticks": ""
             }
            },
            "type": "scatter"
           }
          ],
          "scatter3d": [
           {
            "line": {
             "colorbar": {
              "outlinewidth": 0,
              "ticks": ""
             }
            },
            "marker": {
             "colorbar": {
              "outlinewidth": 0,
              "ticks": ""
             }
            },
            "type": "scatter3d"
           }
          ],
          "scattercarpet": [
           {
            "marker": {
             "colorbar": {
              "outlinewidth": 0,
              "ticks": ""
             }
            },
            "type": "scattercarpet"
           }
          ],
          "scattergeo": [
           {
            "marker": {
             "colorbar": {
              "outlinewidth": 0,
              "ticks": ""
             }
            },
            "type": "scattergeo"
           }
          ],
          "scattergl": [
           {
            "marker": {
             "colorbar": {
              "outlinewidth": 0,
              "ticks": ""
             }
            },
            "type": "scattergl"
           }
          ],
          "scattermapbox": [
           {
            "marker": {
             "colorbar": {
              "outlinewidth": 0,
              "ticks": ""
             }
            },
            "type": "scattermapbox"
           }
          ],
          "scatterpolar": [
           {
            "marker": {
             "colorbar": {
              "outlinewidth": 0,
              "ticks": ""
             }
            },
            "type": "scatterpolar"
           }
          ],
          "scatterpolargl": [
           {
            "marker": {
             "colorbar": {
              "outlinewidth": 0,
              "ticks": ""
             }
            },
            "type": "scatterpolargl"
           }
          ],
          "scatterternary": [
           {
            "marker": {
             "colorbar": {
              "outlinewidth": 0,
              "ticks": ""
             }
            },
            "type": "scatterternary"
           }
          ],
          "surface": [
           {
            "colorbar": {
             "outlinewidth": 0,
             "ticks": ""
            },
            "colorscale": [
             [
              0,
              "#0d0887"
             ],
             [
              0.1111111111111111,
              "#46039f"
             ],
             [
              0.2222222222222222,
              "#7201a8"
             ],
             [
              0.3333333333333333,
              "#9c179e"
             ],
             [
              0.4444444444444444,
              "#bd3786"
             ],
             [
              0.5555555555555556,
              "#d8576b"
             ],
             [
              0.6666666666666666,
              "#ed7953"
             ],
             [
              0.7777777777777778,
              "#fb9f3a"
             ],
             [
              0.8888888888888888,
              "#fdca26"
             ],
             [
              1,
              "#f0f921"
             ]
            ],
            "type": "surface"
           }
          ],
          "table": [
           {
            "cells": {
             "fill": {
              "color": "#EBF0F8"
             },
             "line": {
              "color": "white"
             }
            },
            "header": {
             "fill": {
              "color": "#C8D4E3"
             },
             "line": {
              "color": "white"
             }
            },
            "type": "table"
           }
          ]
         },
         "layout": {
          "annotationdefaults": {
           "arrowcolor": "#2a3f5f",
           "arrowhead": 0,
           "arrowwidth": 1
          },
          "coloraxis": {
           "colorbar": {
            "outlinewidth": 0,
            "ticks": ""
           }
          },
          "colorscale": {
           "diverging": [
            [
             0,
             "#8e0152"
            ],
            [
             0.1,
             "#c51b7d"
            ],
            [
             0.2,
             "#de77ae"
            ],
            [
             0.3,
             "#f1b6da"
            ],
            [
             0.4,
             "#fde0ef"
            ],
            [
             0.5,
             "#f7f7f7"
            ],
            [
             0.6,
             "#e6f5d0"
            ],
            [
             0.7,
             "#b8e186"
            ],
            [
             0.8,
             "#7fbc41"
            ],
            [
             0.9,
             "#4d9221"
            ],
            [
             1,
             "#276419"
            ]
           ],
           "sequential": [
            [
             0,
             "#0d0887"
            ],
            [
             0.1111111111111111,
             "#46039f"
            ],
            [
             0.2222222222222222,
             "#7201a8"
            ],
            [
             0.3333333333333333,
             "#9c179e"
            ],
            [
             0.4444444444444444,
             "#bd3786"
            ],
            [
             0.5555555555555556,
             "#d8576b"
            ],
            [
             0.6666666666666666,
             "#ed7953"
            ],
            [
             0.7777777777777778,
             "#fb9f3a"
            ],
            [
             0.8888888888888888,
             "#fdca26"
            ],
            [
             1,
             "#f0f921"
            ]
           ],
           "sequentialminus": [
            [
             0,
             "#0d0887"
            ],
            [
             0.1111111111111111,
             "#46039f"
            ],
            [
             0.2222222222222222,
             "#7201a8"
            ],
            [
             0.3333333333333333,
             "#9c179e"
            ],
            [
             0.4444444444444444,
             "#bd3786"
            ],
            [
             0.5555555555555556,
             "#d8576b"
            ],
            [
             0.6666666666666666,
             "#ed7953"
            ],
            [
             0.7777777777777778,
             "#fb9f3a"
            ],
            [
             0.8888888888888888,
             "#fdca26"
            ],
            [
             1,
             "#f0f921"
            ]
           ]
          },
          "colorway": [
           "#636efa",
           "#EF553B",
           "#00cc96",
           "#ab63fa",
           "#FFA15A",
           "#19d3f3",
           "#FF6692",
           "#B6E880",
           "#FF97FF",
           "#FECB52"
          ],
          "font": {
           "color": "#2a3f5f"
          },
          "geo": {
           "bgcolor": "white",
           "lakecolor": "white",
           "landcolor": "#E5ECF6",
           "showlakes": true,
           "showland": true,
           "subunitcolor": "white"
          },
          "hoverlabel": {
           "align": "left"
          },
          "hovermode": "closest",
          "mapbox": {
           "style": "light"
          },
          "paper_bgcolor": "white",
          "plot_bgcolor": "#E5ECF6",
          "polar": {
           "angularaxis": {
            "gridcolor": "white",
            "linecolor": "white",
            "ticks": ""
           },
           "bgcolor": "#E5ECF6",
           "radialaxis": {
            "gridcolor": "white",
            "linecolor": "white",
            "ticks": ""
           }
          },
          "scene": {
           "xaxis": {
            "backgroundcolor": "#E5ECF6",
            "gridcolor": "white",
            "gridwidth": 2,
            "linecolor": "white",
            "showbackground": true,
            "ticks": "",
            "zerolinecolor": "white"
           },
           "yaxis": {
            "backgroundcolor": "#E5ECF6",
            "gridcolor": "white",
            "gridwidth": 2,
            "linecolor": "white",
            "showbackground": true,
            "ticks": "",
            "zerolinecolor": "white"
           },
           "zaxis": {
            "backgroundcolor": "#E5ECF6",
            "gridcolor": "white",
            "gridwidth": 2,
            "linecolor": "white",
            "showbackground": true,
            "ticks": "",
            "zerolinecolor": "white"
           }
          },
          "shapedefaults": {
           "line": {
            "color": "#2a3f5f"
           }
          },
          "ternary": {
           "aaxis": {
            "gridcolor": "white",
            "linecolor": "white",
            "ticks": ""
           },
           "baxis": {
            "gridcolor": "white",
            "linecolor": "white",
            "ticks": ""
           },
           "bgcolor": "#E5ECF6",
           "caxis": {
            "gridcolor": "white",
            "linecolor": "white",
            "ticks": ""
           }
          },
          "title": {
           "x": 0.05
          },
          "xaxis": {
           "automargin": true,
           "gridcolor": "white",
           "linecolor": "white",
           "ticks": "",
           "title": {
            "standoff": 15
           },
           "zerolinecolor": "white",
           "zerolinewidth": 2
          },
          "yaxis": {
           "automargin": true,
           "gridcolor": "white",
           "linecolor": "white",
           "ticks": "",
           "title": {
            "standoff": 15
           },
           "zerolinecolor": "white",
           "zerolinewidth": 2
          }
         }
        },
        "title": {
         "text": "Credit Card Transactions Time Density Plot"
        },
        "xaxis": {
         "anchor": "y2",
         "domain": [
          0,
          1
         ],
         "title": {
          "text": "Time [hr]"
         },
         "zeroline": false
        },
        "yaxis": {
         "anchor": "free",
         "domain": [
          0,
          1
         ],
         "position": 0
        }
       }
      },
      "text/html": [
       "<div>\n",
       "        \n",
       "        \n",
       "            <div id=\"527406ea-6b51-45a7-ba42-6e2ac399a0f0\" class=\"plotly-graph-div\" style=\"height:525px; width:100%;\"></div>\n",
       "            <script type=\"text/javascript\">\n",
       "                require([\"plotly\"], function(Plotly) {\n",
       "                    window.PLOTLYENV=window.PLOTLYENV || {};\n",
       "                    \n",
       "                if (document.getElementById(\"527406ea-6b51-45a7-ba42-6e2ac399a0f0\")) {\n",
       "                    Plotly.newPlot(\n",
       "                        '527406ea-6b51-45a7-ba42-6e2ac399a0f0',\n",
       "                        [{\"legendgroup\": \"Not Fraud\", \"marker\": {\"color\": \"rgb(31, 119, 180)\"}, \"mode\": \"lines\", \"name\": \"Not Fraud\", \"showlegend\": true, \"type\": \"scatter\", \"x\": [0.0, 0.09599555555555556, 0.1919911111111111, 0.28798666666666667, 0.3839822222222222, 0.4799777777777778, 0.5759733333333333, 0.6719688888888888, 0.7679644444444444, 0.8639600000000001, 0.9599555555555556, 1.055951111111111, 1.1519466666666667, 1.2479422222222223, 1.3439377777777777, 1.4399333333333333, 1.535928888888889, 1.6319244444444443, 1.7279200000000001, 1.8239155555555555, 1.9199111111111111, 2.015906666666667, 2.111902222222222, 2.2078977777777777, 2.3038933333333333, 2.3998888888888885, 2.4958844444444446, 2.59188, 2.6878755555555554, 2.783871111111111, 2.8798666666666666, 2.975862222222222, 3.071857777777778, 3.1678533333333334, 3.2638488888888886, 3.3598444444444446, 3.4558400000000002, 3.5518355555555554, 3.647831111111111, 3.7438266666666666, 3.8398222222222222, 3.935817777777778, 4.031813333333334, 4.127808888888889, 4.223804444444444, 4.3198, 4.4157955555555555, 4.511791111111111, 4.607786666666667, 4.703782222222222, 4.799777777777777, 4.8957733333333335, 4.991768888888889, 5.087764444444444, 5.18376, 5.279755555555555, 5.375751111111111, 5.471746666666667, 5.567742222222222, 5.6637377777777775, 5.759733333333333, 5.855728888888889, 5.951724444444444, 6.04772, 6.143715555555556, 6.239711111111111, 6.335706666666667, 6.431702222222222, 6.527697777777777, 6.623693333333334, 6.719688888888889, 6.815684444444444, 6.9116800000000005, 7.007675555555555, 7.103671111111111, 7.199666666666667, 7.295662222222222, 7.391657777777778, 7.487653333333333, 7.583648888888889, 7.6796444444444445, 7.77564, 7.871635555555556, 7.96763111111111, 8.063626666666668, 8.159622222222222, 8.255617777777777, 8.351613333333333, 8.447608888888889, 8.543604444444446, 8.6396, 8.735595555555555, 8.831591111111111, 8.927586666666667, 9.023582222222222, 9.119577777777778, 9.215573333333333, 9.311568888888889, 9.407564444444445, 9.50356, 9.599555555555554, 9.695551111111111, 9.791546666666667, 9.887542222222223, 9.983537777777778, 10.079533333333332, 10.175528888888888, 10.271524444444445, 10.36752, 10.463515555555556, 10.55951111111111, 10.655506666666666, 10.751502222222221, 10.847497777777779, 10.943493333333334, 11.039488888888888, 11.135484444444444, 11.23148, 11.327475555555555, 11.423471111111112, 11.519466666666666, 11.615462222222222, 11.711457777777778, 11.807453333333333, 11.903448888888889, 11.999444444444446, 12.09544, 12.191435555555556, 12.287431111111111, 12.383426666666667, 12.479422222222222, 12.575417777777776, 12.671413333333334, 12.76740888888889, 12.863404444444445, 12.9594, 13.055395555555554, 13.15139111111111, 13.247386666666667, 13.343382222222223, 13.439377777777779, 13.535373333333332, 13.631368888888888, 13.727364444444444, 13.823360000000001, 13.919355555555557, 14.01535111111111, 14.111346666666666, 14.207342222222222, 14.303337777777777, 14.399333333333335, 14.495328888888888, 14.591324444444444, 14.68732, 14.783315555555555, 14.879311111111111, 14.975306666666667, 15.071302222222222, 15.167297777777778, 15.263293333333333, 15.359288888888889, 15.455284444444443, 15.55128, 15.647275555555556, 15.743271111111111, 15.839266666666667, 15.93526222222222, 16.03125777777778, 16.127253333333336, 16.22324888888889, 16.319244444444443, 16.41524, 16.511235555555555, 16.607231111111112, 16.703226666666666, 16.799222222222223, 16.895217777777777, 16.991213333333334, 17.087208888888892, 17.183204444444442, 17.2792, 17.375195555555553, 17.47119111111111, 17.567186666666668, 17.663182222222222, 17.75917777777778, 17.855173333333333, 17.95116888888889, 18.047164444444444, 18.143159999999998, 18.239155555555556, 18.33515111111111, 18.431146666666667, 18.52714222222222, 18.623137777777778, 18.719133333333332, 18.81512888888889, 18.911124444444447, 19.00712, 19.103115555555554, 19.199111111111108, 19.295106666666666, 19.391102222222223, 19.487097777777777, 19.583093333333334, 19.679088888888888, 19.775084444444445, 19.87108, 19.967075555555557, 20.063071111111114, 20.159066666666664, 20.25506222222222, 20.351057777777775, 20.447053333333333, 20.54304888888889, 20.639044444444444, 20.73504, 20.831035555555555, 20.927031111111113, 21.023026666666667, 21.11902222222222, 21.215017777777778, 21.31101333333333, 21.40700888888889, 21.503004444444443, 21.599, 21.694995555555558, 21.79099111111111, 21.88698666666667, 21.982982222222223, 22.078977777777776, 22.17497333333333, 22.270968888888888, 22.366964444444445, 22.46296, 22.558955555555556, 22.65495111111111, 22.750946666666668, 22.846942222222225, 22.94293777777778, 23.038933333333333, 23.134928888888886, 23.230924444444444, 23.326919999999998, 23.422915555555555, 23.518911111111112, 23.614906666666666, 23.710902222222224, 23.806897777777777, 23.902893333333335, 23.998888888888892, 24.094884444444443, 24.19088, 24.286875555555554, 24.38287111111111, 24.478866666666665, 24.574862222222222, 24.67085777777778, 24.766853333333334, 24.86284888888889, 24.958844444444445, 25.05484, 25.150835555555553, 25.24683111111111, 25.342826666666667, 25.43882222222222, 25.53481777777778, 25.630813333333332, 25.72680888888889, 25.822804444444447, 25.9188, 26.014795555555555, 26.11079111111111, 26.206786666666666, 26.30278222222222, 26.398777777777777, 26.494773333333335, 26.59076888888889, 26.686764444444446, 26.78276, 26.878755555555557, 26.97475111111111, 27.070746666666665, 27.166742222222222, 27.262737777777776, 27.358733333333333, 27.454728888888887, 27.550724444444445, 27.646720000000002, 27.742715555555556, 27.838711111111113, 27.934706666666663, 28.03070222222222, 28.12669777777778, 28.222693333333332, 28.31868888888889, 28.414684444444443, 28.51068, 28.606675555555555, 28.702671111111112, 28.79866666666667, 28.89466222222222, 28.990657777777777, 29.08665333333333, 29.182648888888888, 29.278644444444446, 29.37464, 29.470635555555557, 29.56663111111111, 29.662626666666668, 29.758622222222222, 29.85461777777778, 29.950613333333333, 30.046608888888887, 30.142604444444444, 30.238599999999998, 30.334595555555556, 30.430591111111113, 30.526586666666667, 30.622582222222224, 30.718577777777778, 30.814573333333335, 30.910568888888886, 31.006564444444443, 31.10256, 31.198555555555554, 31.29455111111111, 31.390546666666665, 31.486542222222223, 31.582537777777777, 31.678533333333334, 31.77452888888889, 31.87052444444444, 31.96652, 32.06251555555556, 32.15851111111111, 32.25450666666667, 32.35050222222222, 32.44649777777778, 32.54249333333333, 32.63848888888889, 32.73448444444444, 32.83048, 32.926475555555555, 33.02247111111111, 33.11846666666667, 33.214462222222224, 33.31045777777777, 33.40645333333333, 33.502448888888885, 33.598444444444446, 33.69444, 33.790435555555554, 33.88643111111111, 33.98242666666667, 34.07842222222222, 34.174417777777784, 34.27041333333333, 34.366408888888884, 34.462404444444445, 34.5584, 34.65439555555556, 34.75039111111111, 34.84638666666667, 34.94238222222222, 35.03837777777778, 35.134373333333336, 35.23036888888889, 35.326364444444444, 35.42236, 35.51835555555556, 35.614351111111105, 35.710346666666666, 35.80634222222222, 35.90233777777778, 35.998333333333335, 36.09432888888889, 36.19032444444444, 36.286319999999996, 36.38231555555556, 36.47831111111111, 36.574306666666665, 36.67030222222222, 36.76629777777778, 36.862293333333334, 36.958288888888895, 37.05428444444444, 37.15028, 37.246275555555556, 37.34227111111111, 37.438266666666664, 37.53426222222222, 37.63025777777778, 37.72625333333333, 37.82224888888889, 37.91824444444444, 38.01424, 38.110235555555555, 38.20623111111111, 38.30222666666667, 38.398222222222216, 38.49421777777778, 38.59021333333333, 38.68620888888889, 38.782204444444446, 38.8782, 38.97419555555555, 39.070191111111114, 39.16618666666667, 39.26218222222222, 39.358177777777776, 39.45417333333333, 39.55016888888889, 39.646164444444445, 39.74216, 39.83815555555555, 39.93415111111111, 40.03014666666667, 40.12614222222223, 40.222137777777775, 40.31813333333333, 40.41412888888889, 40.51012444444444, 40.606120000000004, 40.70211555555555, 40.79811111111111, 40.894106666666666, 40.99010222222223, 41.08609777777778, 41.18209333333333, 41.27808888888889, 41.37408444444444, 41.47008, 41.56607555555556, 41.66207111111111, 41.758066666666664, 41.854062222222225, 41.95005777777778, 42.04605333333333, 42.14204888888889, 42.23804444444444, 42.33404, 42.430035555555556, 42.52603111111111, 42.62202666666666, 42.718022222222224, 42.81401777777778, 42.91001333333334, 43.006008888888886, 43.10200444444444, 43.198, 43.293995555555554, 43.389991111111115, 43.48598666666666, 43.58198222222222, 43.67797777777778, 43.77397333333334, 43.869968888888884, 43.965964444444445, 44.06196, 44.15795555555555, 44.253951111111114, 44.34994666666666, 44.44594222222222, 44.541937777777775, 44.637933333333336, 44.73392888888889, 44.829924444444444, 44.92592, 45.02191555555556, 45.11791111111111, 45.21390666666667, 45.30990222222222, 45.405897777777774, 45.501893333333335, 45.59788888888889, 45.69388444444445, 45.78988, 45.88587555555556, 45.98187111111111, 46.077866666666665, 46.17386222222222, 46.26985777777777, 46.365853333333334, 46.46184888888889, 46.55784444444445, 46.653839999999995, 46.749835555555556, 46.84583111111111, 46.94182666666667, 47.037822222222225, 47.13381777777777, 47.22981333333333, 47.325808888888886, 47.42180444444445, 47.5178, 47.613795555555555, 47.70979111111111, 47.80578666666667, 47.901782222222224], \"xaxis\": \"x\", \"y\": [0.006110450841910545, 0.006441266469901871, 0.006750383984242379, 0.007034126476074152, 0.00728933323494352, 0.0075134520006224816, 0.0077046096683373476, 0.007861658209710532, 0.007984193772480292, 0.008072548242341271, 0.008127753910630519, 0.00815148321054838, 0.0081459666842589, 0.008113893354599182, 0.008058298442679539, 0.007982443857529479, 0.007889697065981787, 0.007783413829276625, 0.007666829884939788, 0.007542965992296819, 0.007414549894914911, 0.007283957740459401, 0.007153176400752626, 0.0070237870166401165, 0.006896969015653112, 0.006773522871607173, 0.00665390904166562, 0.0065382998646245, 0.006426640758628734, 0.0063187168288370245, 0.006214220984817442, 0.00611281986115843, 0.006014214210268514, 0.005918190962750187, 0.005824664791213774, 0.005733707727460074, 0.005645566128850805, 0.005560665026612458, 0.005479600578950575, 0.005403121961997508, 0.005332104534541538, 0.005267516487832135, 0.005210381426589009, 0.00516173941632399, 0.005122608977331571, 0.005093952316354761, 0.005076645778473247, 0.005071457095133126, 0.005079030524767502, 0.0050998804586167385, 0.005134393526386456, 0.0051828387148009115, 0.005245384536161684, 0.0053221218801029705, 0.005413090871893126, 0.0055183098612264295, 0.0056378045860698296, 0.005771635598885973, 0.005919922201815255, 0.006082861400050349, 0.006260740728876753, 0.0064539442145139896, 0.00666295116320373, 0.0068883279066780925, 0.007130713035688157, 0.007390797000180743, 0.007669297223542219, 0.007966930054360395, 0.008284380955485325, 0.008622274308154263, 0.008981144097925208, 0.009361406565477253, 0.009763335670711337, 0.010187041958032555, 0.010632455150106291, 0.011099310561045073, 0.011587139228277355, 0.01209526152979941, 0.012622783987458584, 0.013168598956895757, 0.013731386962706418, 0.014309621538544265, 0.01490157655661552, 0.015505336156887713, 0.016118807490757402, 0.01673973655665637, 0.01736572741062722, 0.017994264974355193, 0.018622741535355595, 0.01924848684592427, 0.019868801493553388, 0.020480992956464383, 0.021082413498496128, 0.021670498824194653, 0.0222428062328299, 0.02279705090072851, 0.02333113890026948, 0.02384319563902845, 0.024331588573268097, 0.02479494330714294, 0.025232152515816564, 0.025642377504224146, 0.02602504260643574, 0.02637982301479979, 0.026706626975379198, 0.027005573571839078, 0.027276967524122328, 0.027521272537582516, 0.027739084746566486, 0.02793110770494274, 0.028098130192904133, 0.028241007848716283, 0.028360649314888776, 0.028458007232720923, 0.028534074051173128, 0.02858988225945786, 0.028626508330129665, 0.02864507939058219, 0.028646781441757353, 0.028632867824999072, 0.028604666607696158, 0.028563585616656593, 0.028511113990707052, 0.028448819341458962, 0.028378339889713135, 0.028301371267148916, 0.028219648018744305, 0.028134920189434136, 0.028048925707451176, 0.027963359566582385, 0.027879841042819275, 0.027799880343976496, 0.027724846174811198, 0.027655935701174285, 0.027594148316226697, 0.027540264456246757, 0.02749483049389675, 0.027458150467284902, 0.027430285100263938, 0.027411058250617352, 0.02740007060527225, 0.027396720141199142, 0.027400228600684085, 0.027409673000785884, 0.027424021016498705, 0.02744216894983786, 0.027462980924392755, 0.027485327926194826, 0.02750812534462472, 0.027530367747899125, 0.027551159751986097, 0.02756974200459212, 0.027585511501659464, 0.027598035676560558, 0.027607059945081096, 0.027612508644578603, 0.027614479564492766, 0.02761323251762704, 0.027609172636322194, 0.027602829283295573, 0.02759483163218459, 0.027585882087413215, 0.027576728768632132, 0.027568138276413835, 0.02756086988172929, 0.02755565214506721, 0.027553162779647505, 0.02755401233927714, 0.027558732051070893, 0.02756776584529418, 0.027581466379019867, 0.027600094626728015, 0.027623822436802677, 0.02765273734160171, 0.027686848868604803, 0.027726095633036057, 0.027770352593558853, 0.027819438010900185, 0.027873119847626762, 0.02793112156453087, 0.027993127481536765, 0.028058788054842142, 0.028127725555392766, 0.028199540699297324, 0.028273820767176695, 0.028350149653042445, 0.028428120108726414, 0.028507348209928993, 0.028587489784703008, 0.028668258240358353, 0.028749442929441923, 0.028830926939380098, 0.028912703001170447, 0.028994886112909225, 0.029077721479510012, 0.029161586487466737, 0.02924698566009778, 0.02933453786206399, 0.029424955421369393, 0.029519015285301004, 0.029617522792598237, 0.029721269095152707, 0.029830983668019263, 0.029947283680073468, 0.030070622239238357, 0.030201237663441415, 0.030339105957062313, 0.03048389859599292, 0.030634947552484623, 0.030791219238462647, 0.0309512987305422, 0.031113385280018002, 0.031275299724144064, 0.03143450401640927, 0.03158813269572257, 0.03173303572701741, 0.03186583177595564, 0.03198297063390628, 0.032080803191640285, 0.03215565707745432, 0.032203915835544106, 0.03222209933314631, 0.03220694296167912, 0.03215547315006413, 0.03206507674925162, 0.031933561985025484, 0.031759208916603096, 0.03154080768069976, 0.03127768323686465, 0.030969705844638647, 0.030617287073669983, 0.03022136174529939, 0.029783356794858294, 0.029305148592720997, 0.028789010734770876, 0.02823755467913379, 0.02765366584225161, 0.027040437858893245, 0.026401107652982665, 0.025738993765180664, 0.02505744005502368, 0.024359766464671723, 0.023649228028890763, 0.022928982776441818, 0.022202068627068767, 0.021471388879375195, 0.020739705437351517, 0.020009638560315613, 0.01928367165840247, 0.018564159501567756, 0.01785333816492866, 0.017153335091008488, 0.016466177798457222, 0.01579379999144783, 0.015138044106062808, 0.01450065965041366, 0.013883297034959316, 0.013287496930626705, 0.012714675518750825, 0.012166106294534887, 0.011642899342911857, 0.01114597921281962, 0.010676062665558289, 0.010233637659674123, 0.009818944955298971, 0.00943196367368881, 0.009072402033654881, 0.008739694308851971, 0.008433004814267656, 0.008151239445288424, 0.007893064969736017, 0.007656935926235986, 0.007441128627389011, 0.007243781421219813, 0.007062940047688656, 0.006896606656621098, 0.006742790845518507, 0.0065995609437149265, 0.0064650937225691155, 0.006337720754223039, 0.006215969772848679, 0.006098599605574377, 0.005984627523486203, 0.005873348199793599, 0.00576434383263285, 0.005657485372346884, 0.005552925165390288, 0.005451081668500368, 0.005352617179412875, 0.00525840976006261, 0.005169520685517205, 0.0050871588326216865, 0.00501264342739815, 0.004947366505300059, 0.004892756313118802, 0.0048502427083782435, 0.004821225406069973, 0.0048070456990323305, 0.004808962052350609, 0.004828129757827345, 0.0048655846438072315, 0.004922230677805901, 0.004998831180852111, 0.005096003296373335, 0.005214215322780202, 0.005353786524507198, 0.0055148890752518545, 0.005697551851309064, 0.005901665872269706, 0.006126991269947307, 0.006373165742957529, 0.006639714513236452, 0.006926061832725126, 0.007231544086523639, 0.007555424499071074, 0.007896909371926396, 0.008255165668957586, 0.008629339624533147, 0.009018575893595025, 0.00942203660319051, 0.009838919519095955, 0.010268474425332595, 0.010710016744804098, 0.011162937420036236, 0.011626708134563117, 0.012100881093539831, 0.012585082796483642, 0.013079001519089794, 0.013582368561815661, 0.014094933701417072, 0.014616435674017674, 0.015146568897436164, 0.015684947977898565, 0.016231071814306577, 0.016784289287501693, 0.017343768583394356, 0.017908472135578012, 0.018477138981833896, 0.01904827601573973, 0.019620159194619374, 0.020190845261952535, 0.020758193986620706, 0.021319900348315185, 0.021873535545557956, 0.02241659520696323, 0.022946552781013055, 0.023460915792136303, 0.023957282500496536, 0.024433396499196652, 0.02488719692480175, 0.025316862234088508, 0.025720845891293337, 0.02609790278768675, 0.02644710574537308, 0.026767852003290217, 0.027059860108891453, 0.02732315811006557, 0.0275580643297763, 0.027765162289101104, 0.027945271509715822, 0.02809941597040428, 0.028228791918840136, 0.028334736562815717, 0.028418698904113377, 0.02848221365798421, 0.02852687884902953, 0.028554337317873015, 0.028566262038334685, 0.028564344854219898, 0.028550288015628138, 0.02852579773818538, 0.02849257892977518, 0.02845233022695106, 0.02840673855048123, 0.028357472515127304, 0.028306174198331282, 0.028254448969772774, 0.02820385329224856, 0.028155880608499943, 0.028111945615006646, 0.028073367381731315, 0.028041351898912582, 0.028016974714148053, 0.028001164364135144, 0.027994687307115976, 0.02799813502786806, 0.02801191392188256, 0.028036238474738854, 0.02807112814230503, 0.028116408212683505, 0.0281717147967088, 0.028236503954677205, 0.028310064826801682, 0.028391536497344112, 0.02847992819116809, 0.028574142280440366, 0.028672999472534905, 0.028775265462278734, 0.02887967826705282, 0.028984975426267476, 0.029089920241117555, 0.029193326258977165, 0.029294079270460745, 0.029391156185278645, 0.02948364028253778, 0.029570732486780212, 0.029651758495298195, 0.029726171765769624, 0.02979355255536896, 0.029853603372030243, 0.02990614134456242, 0.02995108813114826, 0.029988458057773813, 0.030018345204547946, 0.030040910137285853, 0.03005636691643732, 0.03006497091140235, 0.030067007814775875, 0.030062784100022173, 0.030052619011096283, 0.03003683802768864, 0.030015767628337756, 0.029989731086775922, 0.02995904499238398, 0.029924016187153374, 0.029884938857942175, 0.02984209160807189, 0.02979573444601447, 0.02974610575710322, 0.029693419450714322, 0.029637862583501373, 0.02957959383356357, 0.02951874322843007, 0.029455413503509973, 0.029389683384877942, 0.029321612954792246, 0.029251251080092768, 0.02917864467780683, 0.029103849378030115, 0.029026940942652797, 0.028948026630930167, 0.028867255588195376, 0.02878482728692025, 0.028700997078797037, 0.02861607802470307, 0.028530438351375528, 0.02844449412771821, 0.028358697042607222, 0.02827351747854589, 0.028189423388171653, 0.02810685577010433, 0.02802620178567689, 0.027947766741235315, 0.02787174626956139, 0.02779820007203909, 0.02772702852997333, 0.027657953364180598, 0.027590503326703656, 0.027524005661119153, 0.027457583784766797, 0.027390161344863224, 0.027320472498385918, 0.027247077979293904, 0.027168386260767292, 0.027082678907053563, 0.02698813904895096, 0.026882881815957785, 0.0267649855209255, 0.026632522421191615, 0.026483587972402595, 0.02631632764356298, 0.026128960567412093, 0.02591979954929347, 0.025687267237613214, 0.025429908554433826, 0.02514639977800842, 0.02483555494071251, 0.02449633043570034, 0.024127828894021063, 0.023729303483183008, 0.023300163774188146, 0.022839984218086105, 0.02234851606306959, 0.021825703234881984, 0.021271702311100846, 0.020686906266335188, 0.020071971180629918, 0.01942784462331305, 0.018755793988424016, 0.018057432705347452, 0.017334742015947337, 0.016590085927460703, 0.015826217039125456, 0.015046271208213486, 0.014253749462154429, 0.013452486157771325, 0.012646603102687556, 0.011840450142661444, 0.01103853352865312, 0.010245434151476966], \"yaxis\": \"y\"}, {\"legendgroup\": \"Fraud\", \"marker\": {\"color\": \"rgb(255, 127, 14)\"}, \"mode\": \"lines\", \"name\": \"Fraud\", \"showlegend\": true, \"type\": \"scatter\", \"x\": [0.11277777777777778, 0.20718999999999999, 0.3016022222222222, 0.39601444444444445, 0.4904266666666667, 0.5848388888888889, 0.679251111111111, 0.7736633333333333, 0.8680755555555555, 0.9624877777777777, 1.0569, 1.151312222222222, 1.2457244444444444, 1.3401366666666665, 1.4345488888888889, 1.528961111111111, 1.6233733333333333, 1.7177855555555555, 1.8121977777777778, 1.90661, 2.0010222222222223, 2.0954344444444444, 2.189846666666666, 2.284258888888888, 2.3786711111111107, 2.473083333333333, 2.567495555555555, 2.661907777777777, 2.7563199999999997, 2.850732222222222, 2.945144444444444, 3.039556666666666, 3.1339688888888886, 3.2283811111111107, 3.322793333333333, 3.417205555555555, 3.5116177777777775, 3.6060299999999996, 3.7004422222222217, 3.794854444444444, 3.8892666666666664, 3.9836788888888885, 4.078091111111111, 4.172503333333333, 4.2669155555555545, 4.361327777777777, 4.455739999999999, 4.550152222222222, 4.644564444444444, 4.738976666666666, 4.833388888888888, 4.92780111111111, 5.022213333333332, 5.116625555555554, 5.2110377777777765, 5.3054499999999996, 5.399862222222222, 5.494274444444444, 5.588686666666666, 5.683098888888888, 5.77751111111111, 5.871923333333332, 5.966335555555554, 6.060747777777777, 6.1551599999999995, 6.249572222222222, 6.343984444444444, 6.438396666666666, 6.532808888888888, 6.62722111111111, 6.721633333333332, 6.816045555555554, 6.910457777777777, 7.0048699999999995, 7.099282222222222, 7.193694444444444, 7.288106666666666, 7.382518888888888, 7.47693111111111, 7.571343333333332, 7.665755555555555, 7.760167777777777, 7.8545799999999995, 7.948992222222222, 8.043404444444445, 8.137816666666666, 8.232228888888889, 8.32664111111111, 8.421053333333331, 8.515465555555554, 8.609877777777776, 8.704289999999999, 8.79870222222222, 8.893114444444445, 8.987526666666666, 9.081938888888889, 9.17635111111111, 9.270763333333333, 9.365175555555554, 9.459587777777777, 9.553999999999998, 9.648412222222222, 9.742824444444443, 9.837236666666666, 9.931648888888887, 10.02606111111111, 10.120473333333331, 10.214885555555554, 10.309297777777775, 10.40371, 10.498122222222221, 10.592534444444444, 10.686946666666666, 10.781358888888889, 10.87577111111111, 10.970183333333333, 11.064595555555554, 11.159007777777777, 11.253419999999998, 11.347832222222221, 11.442244444444443, 11.536656666666666, 11.631068888888887, 11.72548111111111, 11.819893333333331, 11.914305555555554, 12.008717777777777, 12.10313, 12.197542222222221, 12.291954444444443, 12.386366666666666, 12.480778888888887, 12.57519111111111, 12.669603333333331, 12.764015555555554, 12.858427777777775, 12.952839999999998, 13.04725222222222, 13.141664444444443, 13.236076666666664, 13.330488888888887, 13.424901111111108, 13.519313333333331, 13.613725555555554, 13.708137777777777, 13.802549999999998, 13.896962222222221, 13.991374444444443, 14.085786666666666, 14.180198888888887, 14.27461111111111, 14.369023333333331, 14.463435555555554, 14.557847777777775, 14.652259999999998, 14.74667222222222, 14.841084444444443, 14.935496666666664, 15.029908888888887, 15.12432111111111, 15.218733333333333, 15.313145555555554, 15.407557777777777, 15.501969999999998, 15.596382222222221, 15.690794444444442, 15.785206666666665, 15.879618888888887, 15.97403111111111, 16.06844333333333, 16.162855555555556, 16.257267777777777, 16.35168, 16.446092222222223, 16.540504444444444, 16.634916666666665, 16.729328888888887, 16.82374111111111, 16.918153333333333, 17.012565555555554, 17.106977777777775, 17.20139, 17.29580222222222, 17.390214444444442, 17.484626666666664, 17.579038888888892, 17.673451111111113, 17.767863333333334, 17.862275555555556, 17.95668777777778, 18.0511, 18.145512222222223, 18.239924444444444, 18.334336666666665, 18.42874888888889, 18.52316111111111, 18.617573333333333, 18.711985555555554, 18.80639777777778, 18.90081, 18.99522222222222, 19.089634444444442, 19.184046666666667, 19.27845888888889, 19.37287111111111, 19.46728333333333, 19.561695555555556, 19.656107777777777, 19.750519999999998, 19.84493222222222, 19.939344444444444, 20.033756666666665, 20.128168888888887, 20.222581111111108, 20.316993333333333, 20.411405555555554, 20.505817777777775, 20.600229999999996, 20.694642222222225, 20.789054444444446, 20.883466666666667, 20.97787888888889, 21.072291111111113, 21.166703333333334, 21.261115555555556, 21.355527777777777, 21.44994, 21.544352222222223, 21.638764444444444, 21.733176666666665, 21.82758888888889, 21.92200111111111, 22.016413333333333, 22.110825555555554, 22.20523777777778, 22.29965, 22.39406222222222, 22.488474444444442, 22.582886666666667, 22.67729888888889, 22.77171111111111, 22.86612333333333, 22.960535555555555, 23.054947777777777, 23.149359999999998, 23.24377222222222, 23.338184444444444, 23.432596666666665, 23.527008888888886, 23.621421111111108, 23.715833333333332, 23.810245555555557, 23.90465777777778, 23.99907, 24.093482222222224, 24.187894444444446, 24.282306666666667, 24.376718888888888, 24.47113111111111, 24.565543333333334, 24.659955555555555, 24.754367777777777, 24.848779999999998, 24.943192222222223, 25.037604444444444, 25.132016666666665, 25.226428888888886, 25.32084111111111, 25.415253333333332, 25.509665555555554, 25.604077777777775, 25.69849, 25.79290222222222, 25.887314444444442, 25.981726666666663, 26.076138888888888, 26.17055111111111, 26.26496333333333, 26.359375555555552, 26.453787777777777, 26.548199999999998, 26.64261222222222, 26.73702444444444, 26.831436666666665, 26.925848888888886, 27.02026111111111, 27.114673333333332, 27.209085555555557, 27.30349777777778, 27.39791, 27.49232222222222, 27.586734444444446, 27.681146666666667, 27.775558888888888, 27.86997111111111, 27.964383333333334, 28.058795555555555, 28.153207777777776, 28.247619999999998, 28.342032222222223, 28.436444444444444, 28.530856666666665, 28.625268888888886, 28.71968111111111, 28.814093333333332, 28.908505555555553, 29.002917777777775, 29.09733, 29.19174222222222, 29.286154444444442, 29.380566666666663, 29.474978888888888, 29.56939111111111, 29.66380333333333, 29.75821555555555, 29.852627777777776, 29.947039999999998, 30.04145222222222, 30.135864444444444, 30.23027666666667, 30.32468888888889, 30.41910111111111, 30.513513333333332, 30.607925555555553, 30.702337777777778, 30.79675, 30.89116222222222, 30.985574444444442, 31.079986666666667, 31.174398888888888, 31.26881111111111, 31.36322333333333, 31.457635555555555, 31.552047777777776, 31.646459999999998, 31.74087222222222, 31.835284444444444, 31.929696666666665, 32.02410888888888, 32.11852111111111, 32.21293333333333, 32.30734555555556, 32.401757777777775, 32.49617, 32.590582222222224, 32.68499444444444, 32.77940666666667, 32.873818888888884, 32.96823111111111, 33.062643333333334, 33.15705555555555, 33.251467777777776, 33.345879999999994, 33.44029222222222, 33.53470444444444, 33.62911666666667, 33.723528888888886, 33.81794111111111, 33.91235333333333, 34.00676555555555, 34.10117777777777, 34.195589999999996, 34.29000222222222, 34.384414444444445, 34.47882666666666, 34.57323888888889, 34.667651111111105, 34.76206333333333, 34.85647555555555, 34.95088777777777, 35.045300000000005, 35.13971222222222, 35.23412444444445, 35.328536666666665, 35.42294888888889, 35.51736111111111, 35.61177333333333, 35.70618555555555, 35.80059777777778, 35.89501, 35.989422222222224, 36.08383444444444, 36.178246666666666, 36.272658888888884, 36.36707111111111, 36.46148333333333, 36.55589555555555, 36.650307777777776, 36.74472, 36.83913222222222, 36.93354444444444, 37.02795666666666, 37.122368888888886, 37.2167811111111, 37.31119333333333, 37.40560555555555, 37.50001777777778, 37.594429999999996, 37.68884222222222, 37.78325444444444, 37.87766666666666, 37.97207888888888, 38.066491111111105, 38.16090333333334, 38.255315555555555, 38.34972777777778, 38.44414, 38.53855222222222, 38.63296444444444, 38.727376666666665, 38.82178888888888, 38.916201111111114, 39.01061333333333, 39.10502555555556, 39.199437777777774, 39.29385, 39.38826222222222, 39.48267444444444, 39.57708666666666, 39.67149888888889, 39.76591111111111, 39.86032333333333, 39.95473555555555, 40.049147777777776, 40.143559999999994, 40.23797222222222, 40.332384444444436, 40.42679666666667, 40.521208888888886, 40.61562111111111, 40.71003333333333, 40.80444555555555, 40.89885777777777, 40.993269999999995, 41.08768222222221, 41.182094444444445, 41.27650666666667, 41.37091888888889, 41.46533111111111, 41.55974333333333, 41.654155555555555, 41.74856777777777, 41.84298, 41.93739222222222, 42.03180444444445, 42.126216666666664, 42.22062888888889, 42.31504111111111, 42.40945333333333, 42.50386555555555, 42.598277777777774, 42.69268999999999, 42.787102222222224, 42.88151444444444, 42.975926666666666, 43.070338888888884, 43.16475111111111, 43.259163333333326, 43.35357555555555, 43.44798777777777, 43.5424, 43.63681222222222, 43.73122444444444, 43.82563666666666, 43.920048888888886, 44.0144611111111, 44.10887333333333, 44.203285555555546, 44.29769777777778, 44.39211, 44.48652222222222, 44.580934444444445, 44.67534666666666, 44.76975888888889, 44.864171111111105, 44.95858333333333, 45.052995555555555, 45.14740777777778, 45.24182, 45.33623222222222, 45.43064444444444, 45.525056666666664, 45.61946888888888, 45.71388111111111, 45.80829333333333, 45.902705555555556, 45.997117777777774, 46.09153, 46.18594222222222, 46.28035444444444, 46.37476666666666, 46.469178888888884, 46.56359111111111, 46.65800333333333, 46.75241555555555, 46.846827777777776, 46.94123999999999, 47.03565222222222, 47.130064444444436, 47.22447666666666], \"xaxis\": \"x\", \"y\": [0.009261097271706308, 0.009471620900926578, 0.009683167069570718, 0.009895631930507577, 0.010108911574147028, 0.010322902268793815, 0.010537500700539477, 0.01075260421176208, 0.01096811103729771, 0.011183920537347862, 0.011399933426191658, 0.011616051995779551, 0.011832180333299105, 0.012048224531820959, 0.012264092893154816, 0.01247969612207251, 0.012694947511084789, 0.012909763114994637, 0.013124061914487764, 0.013337765968063705, 0.01355080055165866, 0.013763094285358525, 0.013974579246656262, 0.014185191069761988, 0.01439486903053374, 0.014603556116657498, 0.014811199082769169, 0.015017748490275344, 0.015223158731697533, 0.0154273880394312, 0.015630398478881036, 0.015832155926001432, 0.016032630029343447, 0.016231794156774365, 0.01642962532711064, 0.016626104126966988, 0.01682121461319572, 0.017014944201353525, 0.017207283540696363, 0.01739822637626611, 0.01758776939868832, 0.017775912082360606, 0.01796265651276064, 0.01814800720365486, 0.01833197090503394, 0.018514556402644922, 0.01869577431002702, 0.0188756368539939, 0.019054157654534262, 0.01923135150012928, 0.019407234119505595, 0.019581821950859387, 0.019755131909599523, 0.01992718115566193, 0.020097986861453806, 0.020267565981478254, 0.020435935024686776, 0.0206031098305909, 0.020769105350150346, 0.02093393543242979, 0.02109761261799287, 0.021260147939969082, 0.0214215507336952, 0.02158182845579303, 0.02174098651350244, 0.0218990281050416, 0.02205595407171542, 0.02221176276244061, 0.022366449911298075, 0.022520008528664114, 0.022672428806410804, 0.022823698037600468, 0.0229738005510347, 0.0231227176609495, 0.02327042763208056, 0.02341690566025234, 0.023562123868574505, 0.023706051319258275, 0.023848654040996464, 0.023989895071778334, 0.024129734516943273, 0.024268129622208187, 0.024405034861336595, 0.024540402038051346, 0.02467418040173274, 0.02480631677637883, 0.024936755702249166, 0.025065439589557946, 0.025192308883528212, 0.025317302240072073, 0.02544035671131594, 0.025561407940147614, 0.02568039036292627, 0.02579723741946209, 0.025911881769343913, 0.026024255513669898, 0.026134290421214738, 0.026241918158054853, 0.02634707051965998, 0.02644967966445687, 0.02654967834786952, 0.026647000155843467, 0.026741579736874153, 0.02683335303157026, 0.026922257498803018, 0.02700823233751629, 0.027091218703298343, 0.02717115991884998, 0.027248001677517484, 0.027321692239101462, 0.027392182617192964, 0.027459426757337917, 0.027523381705378956, 0.02758400776537837, 0.027641268646578187, 0.02769513159891574, 0.027745567536666044, 0.027792551149850717, 0.02783606100310896, 0.027876079621791935, 0.02791259356510658, 0.027945593486195124, 0.02797507417910263, 0.028001034612647607, 0.02802347795126941, 0.02804241156299128, 0.028057847014692147, 0.028069800054940613, 0.028078290584696734, 0.028083342616240077, 0.02808498422073147, 0.028083247464861957, 0.02807816833708355, 0.028069786663957527, 0.028058146017188788, 0.028043293611946976, 0.028025280197102324, 0.02800415993802528, 0.02797999029261937, 0.027952831881268667, 0.027922748351392027, 0.027889806237301473, 0.02785407481606053, 0.02781562596003779, 0.027774533986841154, 0.02773087550730561, 0.02768472927219186, 0.027636176018234877, 0.027585298314152754, 0.027532180407205942, 0.027476908070859597, 0.027419568454073655, 0.02736024993270681, 0.02729904196348062, 0.027236034940914023, 0.027171320057590313, 0.027104989168079033, 0.02703713465678847, 0.02696784930997725, 0.02689722619211161, 0.026825358526701558, 0.026752339581709, 0.02667826255957369, 0.026603220491853003, 0.026527306138436516, 0.026450611891245875, 0.026373229682295374, 0.02629525089594797, 0.026216766285165137, 0.026137865891517315, 0.026058638968689367, 0.025979173909188392, 0.02589955817393734, 0.025819878224415723, 0.02574021945699273, 0.0256606661390828, 0.02558130134674453, 0.025502206903336343, 0.025423463318841617, 0.025345149729475647, 0.02526734383719244, 0.025190121848718765, 0.02511355841375519, 0.025037726562000224, 0.02496269763867345, 0.0248885412382372, 0.02481532513604214, 0.02474311521765278, 0.02467197540563973, 0.024601967583662215, 0.02453315151770126, 0.024465584774342918, 0.024399322636053208, 0.024334418013429705, 0.02427092135445839, 0.024208880550850524, 0.024148340841580056, 0.024089344713789432, 0.024031931801276666, 0.023976138780826037, 0.0239219992666867, 0.023869543703552192, 0.02381879925843534, 0.023769789711876585, 0.023722535348963993, 0.02367705285068093, 0.023633355186135595, 0.023591451506257136, 0.02355134703957637, 0.023513042990734593, 0.023476536442388778, 0.02344182026120232, 0.023408883008625574, 0.023377708857185216, 0.02334827751300745, 0.02332056414530737, 0.023294539323573907, 0.023270168963177015, 0.02324741428011428, 0.023226231755600405, 0.023206573111185447, 0.02318838529506453, 0.023171610480214835, 0.023156186074965057, 0.02314204474656469, 0.023129114458282272, 0.023117318520517727, 0.02310657565636375, 0.02309680008200204, 0.02308790160226352, 0.02307978572162313, 0.023072353770839455, 0.02306550304938358, 0.02305912698373638, 0.023053115301563884, 0.023047354221709622, 0.02304172665987169, 0.02303611244975828, 0.023030388579441778, 0.023024429442557885, 0.023018107103921014, 0.023011291579054786, 0.023003851127061506, 0.022995652556185298, 0.02298656154135111, 0.02297644295289438, 0.02296516119563101, 0.022952580557352824, 0.02293856556577428, 0.02292298135289966, 0.02290569402572652, 0.022886571042152883, 0.022865481590910498, 0.022842296974307553, 0.022816890992528305, 0.022789140328208467, 0.02275892492997952, 0.022726128393657213, 0.022690638339736027, 0.022652346785843894, 0.02261115051280969, 0.02256695142300195, 0.022519656889605257, 0.022469180095520607, 0.022415440360594983, 0.022358363455917, 0.02229788190394791, 0.02223393526329772, 0.022166470397002272, 0.022095441723206873, 0.02202081144722027, 0.021942549773960936, 0.021860635099886564, 0.021775054183564835, 0.02168580229411989, 0.021592883336865046, 0.021496309955515453, 0.021396103610456373, 0.02129229463263122, 0.021184922252702305, 0.021074034605226936, 0.020959688707684818, 0.020841950414285583, 0.020720894344577863, 0.020596603786976274, 0.020469170577414857, 0.020338694953428157, 0.020205285384052696, 0.020069058376030426, 0.019930138256883223, 0.019788656935512794, 0.019644753641061927, 0.019498574640852025, 0.019350272938286707, 0.01920000795168316, 0.019047945175059148, 0.018894255821966893, 0.01873911645352213, 0.01858270859182981, 0.018425218320054906, 0.018266835870429692, 0.018107755201524342, 0.01794817356613952, 0.017788291071203912, 0.01762831023107905, 0.017468435515687785, 0.017308872894888666, 0.01714982938052172, 0.01699151256754516, 0.016834130175674134, 0.016677889592915277, 0.016522997422370796, 0.016369659033658432, 0.016218078120262266, 0.016068456264092416, 0.01592099250848941, 0.015775882940864572, 0.015633320286114923, 0.015493493511899095, 0.015356587446801377, 0.015222782412349327, 0.015092253869786893, 0.014965172082436754, 0.01484170179441648, 0.014722001926401088, 0.014606225289050782, 0.014494518314649131, 0.014387020807419097, 0.014283865712910255, 0.01418517890677134, 0.014091079003148004, 0.014001677182867095, 0.013917077041495095, 0.01383737445728268, 0.013762657478935045, 0.013693006233075539, 0.013628492851201388, 0.013569181415863184, 0.013515127925734526, 0.01346638027917754, 0.013422978275850556, 0.013384953635849075, 0.013352330035819196, 0.013325123161434367, 0.013303340775582017, 0.013286982801565917, 0.013276041420593538, 0.013270501182786144, 0.013270339130920721, 0.013275524936089389, 0.013286021044443133, 0.013301782834171183, 0.013322758781857518, 0.013348890637349639, 0.01338011360627277, 0.013416356539325849, 0.013457542127501361, 0.013503587102382798, 0.013554402440687357, 0.013609893572240765, 0.013669960590592441, 0.01373449846550553, 0.013803397256584549, 0.013876542327335869, 0.013953814558990757, 0.014035090563457798, 0.014120242894811874, 0.014209140258768103, 0.014301647719633378, 0.014397626904272862, 0.014496936202675528, 0.01459943096475083, 0.014704963693036003, 0.014813384231042875, 0.014924539947021679, 0.015038275912967962, 0.015154435078746961, 0.015272858441257777, 0.015393385208605191, 0.015515852959293613, 0.01564009779650033, 0.015765954497527507, 0.01589325665857297, 0.016021836834996354, 0.01615152667729382, 0.01628215706302586, 0.01641355822497402, 0.016545559875827457, 0.016677991329725448, 0.016810681621001668, 0.016943459620493158, 0.017076154149790232, 0.017208594093814762, 0.017340608512119198, 0.017472026749303073, 0.01760267854494208, 0.017732394143421454, 0.01786100440405702, 0.017988340911876535, 0.018114236089419575, 0.018238523309896264, 0.01836103701202427, 0.018481612816840527, 0.01860008764675639, 0.018716299847096805, 0.0188300893103324, 0.018941297603179096, 0.019049768096705194, 0.019155346099547693, 0.019257878994301546, 0.019357216377105132, 0.01945321020040474, 0.019545714918839198, 0.019634587638144317, 0.0197196882669345, 0.019800879671177753, 0.0198780278311391, 0.019951002000526904, 0.02001967486753764, 0.02008392271745683, 0.020143625596437276, 0.020198667476041637, 0.020248936418103654, 0.020294324739433107, 0.020334729175860575, 0.020370051045095438, 0.02040019640784604, 0.02042507622663483, 0.020444606521722926, 0.02045870852354862, 0.020467308821073078, 0.02047033950542297, 0.020467738308216125, 0.02045944873395899, 0.02044542018590904, 0.02042560808480419, 0.0203999739798735, 0.02036848565155868, 0.02033111720539527, 0.02028784915652401, 0.020238668504328913, 0.02018356879672623, 0.020122550183660142, 0.020055619459394443, 0.01998279009322634, 0.01990408224828628, 0.019819522788129314, 0.01972914527086495, 0.019632989930617427, 0.019531103646153142, 0.019423539896558536, 0.019310358703899504, 0.01919162656284036, 0.019067416357250073, 0.01893780726386994, 0.018802884643166696, 0.018662739917541384, 0.01851747043711194, 0.018367179333333303, 0.018211975360763265, 0.018051972727326254, 0.017887290913468797, 0.017718054480639924, 0.017544392869568822, 0.01736644018884656, 0.017184334994353304, 0.01699822006010245, 0.016808242141102724, 0.01661455172886323, 0.016417302800191488, 0.016216652559952312, 0.016012761178474187, 0.01580579152430316, 0.01559590889301488, 0.015383280732805085, 0.015168076367581742, 0.014950466718286615, 0.014730624023171136, 0.014508721557749163, 0.01428493335514245, 0.014059433927525214, 0.013832397989362828, 0.013604000183125216, 0.013374414808139046, 0.01314381555322386, 0.012912375233736074, 0.012680265533622592, 0.012447656753059717, 0.012214717562228194, 0.011981614761745472, 0.01174851305024896, 0.01151557479959154, 0.011282959838080918, 0.011050825242160922, 0.010819325136900062, 0.01058861050561968, 0.010358829008959274, 0.01013012481364312, 0.009902638431177824, 0.009676506566676311], \"yaxis\": \"y\"}],\n",
       "                        {\"barmode\": \"overlay\", \"hovermode\": \"closest\", \"legend\": {\"traceorder\": \"reversed\"}, \"template\": {\"data\": {\"bar\": [{\"error_x\": {\"color\": \"#2a3f5f\"}, \"error_y\": {\"color\": \"#2a3f5f\"}, \"marker\": {\"line\": {\"color\": \"#E5ECF6\", \"width\": 0.5}}, \"type\": \"bar\"}], \"barpolar\": [{\"marker\": {\"line\": {\"color\": \"#E5ECF6\", \"width\": 0.5}}, \"type\": \"barpolar\"}], \"carpet\": [{\"aaxis\": {\"endlinecolor\": \"#2a3f5f\", \"gridcolor\": \"white\", \"linecolor\": \"white\", \"minorgridcolor\": \"white\", \"startlinecolor\": \"#2a3f5f\"}, \"baxis\": {\"endlinecolor\": \"#2a3f5f\", \"gridcolor\": \"white\", \"linecolor\": \"white\", \"minorgridcolor\": \"white\", \"startlinecolor\": \"#2a3f5f\"}, \"type\": \"carpet\"}], \"choropleth\": [{\"colorbar\": {\"outlinewidth\": 0, \"ticks\": \"\"}, \"type\": \"choropleth\"}], \"contour\": [{\"colorbar\": {\"outlinewidth\": 0, \"ticks\": \"\"}, \"colorscale\": [[0.0, \"#0d0887\"], [0.1111111111111111, \"#46039f\"], [0.2222222222222222, \"#7201a8\"], [0.3333333333333333, \"#9c179e\"], [0.4444444444444444, \"#bd3786\"], [0.5555555555555556, \"#d8576b\"], [0.6666666666666666, \"#ed7953\"], [0.7777777777777778, \"#fb9f3a\"], [0.8888888888888888, \"#fdca26\"], [1.0, \"#f0f921\"]], \"type\": \"contour\"}], \"contourcarpet\": [{\"colorbar\": {\"outlinewidth\": 0, \"ticks\": \"\"}, \"type\": \"contourcarpet\"}], \"heatmap\": [{\"colorbar\": {\"outlinewidth\": 0, \"ticks\": \"\"}, \"colorscale\": [[0.0, \"#0d0887\"], [0.1111111111111111, \"#46039f\"], [0.2222222222222222, \"#7201a8\"], [0.3333333333333333, \"#9c179e\"], [0.4444444444444444, \"#bd3786\"], [0.5555555555555556, \"#d8576b\"], [0.6666666666666666, \"#ed7953\"], [0.7777777777777778, \"#fb9f3a\"], [0.8888888888888888, \"#fdca26\"], [1.0, \"#f0f921\"]], \"type\": \"heatmap\"}], \"heatmapgl\": [{\"colorbar\": {\"outlinewidth\": 0, \"ticks\": \"\"}, \"colorscale\": [[0.0, \"#0d0887\"], [0.1111111111111111, \"#46039f\"], [0.2222222222222222, \"#7201a8\"], [0.3333333333333333, \"#9c179e\"], [0.4444444444444444, \"#bd3786\"], [0.5555555555555556, \"#d8576b\"], [0.6666666666666666, \"#ed7953\"], [0.7777777777777778, \"#fb9f3a\"], [0.8888888888888888, \"#fdca26\"], [1.0, \"#f0f921\"]], \"type\": \"heatmapgl\"}], \"histogram\": [{\"marker\": {\"colorbar\": {\"outlinewidth\": 0, \"ticks\": \"\"}}, \"type\": \"histogram\"}], \"histogram2d\": [{\"colorbar\": {\"outlinewidth\": 0, \"ticks\": \"\"}, \"colorscale\": [[0.0, \"#0d0887\"], [0.1111111111111111, \"#46039f\"], [0.2222222222222222, \"#7201a8\"], [0.3333333333333333, \"#9c179e\"], [0.4444444444444444, \"#bd3786\"], [0.5555555555555556, \"#d8576b\"], [0.6666666666666666, \"#ed7953\"], [0.7777777777777778, \"#fb9f3a\"], [0.8888888888888888, \"#fdca26\"], [1.0, \"#f0f921\"]], \"type\": \"histogram2d\"}], \"histogram2dcontour\": [{\"colorbar\": {\"outlinewidth\": 0, \"ticks\": \"\"}, \"colorscale\": [[0.0, \"#0d0887\"], [0.1111111111111111, \"#46039f\"], [0.2222222222222222, \"#7201a8\"], [0.3333333333333333, \"#9c179e\"], [0.4444444444444444, \"#bd3786\"], [0.5555555555555556, \"#d8576b\"], [0.6666666666666666, \"#ed7953\"], [0.7777777777777778, \"#fb9f3a\"], [0.8888888888888888, \"#fdca26\"], [1.0, \"#f0f921\"]], \"type\": \"histogram2dcontour\"}], \"mesh3d\": [{\"colorbar\": {\"outlinewidth\": 0, \"ticks\": \"\"}, \"type\": \"mesh3d\"}], \"parcoords\": [{\"line\": {\"colorbar\": {\"outlinewidth\": 0, \"ticks\": \"\"}}, \"type\": \"parcoords\"}], \"pie\": [{\"automargin\": true, \"type\": \"pie\"}], \"scatter\": [{\"marker\": {\"colorbar\": {\"outlinewidth\": 0, \"ticks\": \"\"}}, \"type\": \"scatter\"}], \"scatter3d\": [{\"line\": {\"colorbar\": {\"outlinewidth\": 0, \"ticks\": \"\"}}, \"marker\": {\"colorbar\": {\"outlinewidth\": 0, \"ticks\": \"\"}}, \"type\": \"scatter3d\"}], \"scattercarpet\": [{\"marker\": {\"colorbar\": {\"outlinewidth\": 0, \"ticks\": \"\"}}, \"type\": \"scattercarpet\"}], \"scattergeo\": [{\"marker\": {\"colorbar\": {\"outlinewidth\": 0, \"ticks\": \"\"}}, \"type\": \"scattergeo\"}], \"scattergl\": [{\"marker\": {\"colorbar\": {\"outlinewidth\": 0, \"ticks\": \"\"}}, \"type\": \"scattergl\"}], \"scattermapbox\": [{\"marker\": {\"colorbar\": {\"outlinewidth\": 0, \"ticks\": \"\"}}, \"type\": \"scattermapbox\"}], \"scatterpolar\": [{\"marker\": {\"colorbar\": {\"outlinewidth\": 0, \"ticks\": \"\"}}, \"type\": \"scatterpolar\"}], \"scatterpolargl\": [{\"marker\": {\"colorbar\": {\"outlinewidth\": 0, \"ticks\": \"\"}}, \"type\": \"scatterpolargl\"}], \"scatterternary\": [{\"marker\": {\"colorbar\": {\"outlinewidth\": 0, \"ticks\": \"\"}}, \"type\": \"scatterternary\"}], \"surface\": [{\"colorbar\": {\"outlinewidth\": 0, \"ticks\": \"\"}, \"colorscale\": [[0.0, \"#0d0887\"], [0.1111111111111111, \"#46039f\"], [0.2222222222222222, \"#7201a8\"], [0.3333333333333333, \"#9c179e\"], [0.4444444444444444, \"#bd3786\"], [0.5555555555555556, \"#d8576b\"], [0.6666666666666666, \"#ed7953\"], [0.7777777777777778, \"#fb9f3a\"], [0.8888888888888888, \"#fdca26\"], [1.0, \"#f0f921\"]], \"type\": \"surface\"}], \"table\": [{\"cells\": {\"fill\": {\"color\": \"#EBF0F8\"}, \"line\": {\"color\": \"white\"}}, \"header\": {\"fill\": {\"color\": \"#C8D4E3\"}, \"line\": {\"color\": \"white\"}}, \"type\": \"table\"}]}, \"layout\": {\"annotationdefaults\": {\"arrowcolor\": \"#2a3f5f\", \"arrowhead\": 0, \"arrowwidth\": 1}, \"coloraxis\": {\"colorbar\": {\"outlinewidth\": 0, \"ticks\": \"\"}}, \"colorscale\": {\"diverging\": [[0, \"#8e0152\"], [0.1, \"#c51b7d\"], [0.2, \"#de77ae\"], [0.3, \"#f1b6da\"], [0.4, \"#fde0ef\"], [0.5, \"#f7f7f7\"], [0.6, \"#e6f5d0\"], [0.7, \"#b8e186\"], [0.8, \"#7fbc41\"], [0.9, \"#4d9221\"], [1, \"#276419\"]], \"sequential\": [[0.0, \"#0d0887\"], [0.1111111111111111, \"#46039f\"], [0.2222222222222222, \"#7201a8\"], [0.3333333333333333, \"#9c179e\"], [0.4444444444444444, \"#bd3786\"], [0.5555555555555556, \"#d8576b\"], [0.6666666666666666, \"#ed7953\"], [0.7777777777777778, \"#fb9f3a\"], [0.8888888888888888, \"#fdca26\"], [1.0, \"#f0f921\"]], \"sequentialminus\": [[0.0, \"#0d0887\"], [0.1111111111111111, \"#46039f\"], [0.2222222222222222, \"#7201a8\"], [0.3333333333333333, \"#9c179e\"], [0.4444444444444444, \"#bd3786\"], [0.5555555555555556, \"#d8576b\"], [0.6666666666666666, \"#ed7953\"], [0.7777777777777778, \"#fb9f3a\"], [0.8888888888888888, \"#fdca26\"], [1.0, \"#f0f921\"]]}, \"colorway\": [\"#636efa\", \"#EF553B\", \"#00cc96\", \"#ab63fa\", \"#FFA15A\", \"#19d3f3\", \"#FF6692\", \"#B6E880\", \"#FF97FF\", \"#FECB52\"], \"font\": {\"color\": \"#2a3f5f\"}, \"geo\": {\"bgcolor\": \"white\", \"lakecolor\": \"white\", \"landcolor\": \"#E5ECF6\", \"showlakes\": true, \"showland\": true, \"subunitcolor\": \"white\"}, \"hoverlabel\": {\"align\": \"left\"}, \"hovermode\": \"closest\", \"mapbox\": {\"style\": \"light\"}, \"paper_bgcolor\": \"white\", \"plot_bgcolor\": \"#E5ECF6\", \"polar\": {\"angularaxis\": {\"gridcolor\": \"white\", \"linecolor\": \"white\", \"ticks\": \"\"}, \"bgcolor\": \"#E5ECF6\", \"radialaxis\": {\"gridcolor\": \"white\", \"linecolor\": \"white\", \"ticks\": \"\"}}, \"scene\": {\"xaxis\": {\"backgroundcolor\": \"#E5ECF6\", \"gridcolor\": \"white\", \"gridwidth\": 2, \"linecolor\": \"white\", \"showbackground\": true, \"ticks\": \"\", \"zerolinecolor\": \"white\"}, \"yaxis\": {\"backgroundcolor\": \"#E5ECF6\", \"gridcolor\": \"white\", \"gridwidth\": 2, \"linecolor\": \"white\", \"showbackground\": true, \"ticks\": \"\", \"zerolinecolor\": \"white\"}, \"zaxis\": {\"backgroundcolor\": \"#E5ECF6\", \"gridcolor\": \"white\", \"gridwidth\": 2, \"linecolor\": \"white\", \"showbackground\": true, \"ticks\": \"\", \"zerolinecolor\": \"white\"}}, \"shapedefaults\": {\"line\": {\"color\": \"#2a3f5f\"}}, \"ternary\": {\"aaxis\": {\"gridcolor\": \"white\", \"linecolor\": \"white\", \"ticks\": \"\"}, \"baxis\": {\"gridcolor\": \"white\", \"linecolor\": \"white\", \"ticks\": \"\"}, \"bgcolor\": \"#E5ECF6\", \"caxis\": {\"gridcolor\": \"white\", \"linecolor\": \"white\", \"ticks\": \"\"}}, \"title\": {\"x\": 0.05}, \"xaxis\": {\"automargin\": true, \"gridcolor\": \"white\", \"linecolor\": \"white\", \"ticks\": \"\", \"title\": {\"standoff\": 15}, \"zerolinecolor\": \"white\", \"zerolinewidth\": 2}, \"yaxis\": {\"automargin\": true, \"gridcolor\": \"white\", \"linecolor\": \"white\", \"ticks\": \"\", \"title\": {\"standoff\": 15}, \"zerolinecolor\": \"white\", \"zerolinewidth\": 2}}}, \"title\": {\"text\": \"Credit Card Transactions Time Density Plot\"}, \"xaxis\": {\"anchor\": \"y2\", \"domain\": [0.0, 1.0], \"title\": {\"text\": \"Time [hr]\"}, \"zeroline\": false}, \"yaxis\": {\"anchor\": \"free\", \"domain\": [0.0, 1], \"position\": 0.0}},\n",
       "                        {\"responsive\": true}\n",
       "                    ).then(function(){\n",
       "                            \n",
       "var gd = document.getElementById('527406ea-6b51-45a7-ba42-6e2ac399a0f0');\n",
       "var x = new MutationObserver(function (mutations, observer) {{\n",
       "        var display = window.getComputedStyle(gd).display;\n",
       "        if (!display || display === 'none') {{\n",
       "            console.log([gd, 'removed!']);\n",
       "            Plotly.purge(gd);\n",
       "            observer.disconnect();\n",
       "        }}\n",
       "}});\n",
       "\n",
       "// Listen for the removal of the full notebook cells\n",
       "var notebookContainer = gd.closest('#notebook-container');\n",
       "if (notebookContainer) {{\n",
       "    x.observe(notebookContainer, {childList: true});\n",
       "}}\n",
       "\n",
       "// Listen for the clearing of the current output cell\n",
       "var outputEl = gd.closest('.output');\n",
       "if (outputEl) {{\n",
       "    x.observe(outputEl, {childList: true});\n",
       "}}\n",
       "\n",
       "                        })\n",
       "                };\n",
       "                });\n",
       "            </script>\n",
       "        </div>"
      ]
     },
     "metadata": {},
     "output_type": "display_data"
    }
   ],
   "source": [
    "data_df['Time']=(data_df['Time']/3600)\n",
    "class_0 = data_df.loc[data_df['Class'] == 0][\"Time\"]\n",
    "class_1 = data_df.loc[data_df['Class'] == 1][\"Time\"]\n",
    "#plt.figure(figsize = (14,4))\n",
    "#plt.title('Credit Card Transactions Time Density Plot')\n",
    "#sns.set_color_codes(\"pastel\")\n",
    "#sns.distplot(class_0,kde=True,bins=480)\n",
    "#sns.distplot(class_1,kde=True,bins=480)\n",
    "#plt.show()\n",
    "hist_data = [class_0, class_1]\n",
    "group_labels = ['Not Fraud', 'Fraud']\n",
    "\n",
    "fig = ff.create_distplot(hist_data, group_labels, show_hist=False, show_rug=False)\n",
    "fig['layout'].update(title='Credit Card Transactions Time Density Plot', xaxis=dict(title='Time [hr]'))\n",
    "iplot(fig, filename='dist_only')"
   ]
  },
  {
   "cell_type": "markdown",
   "metadata": {
    "_uuid": "64cd713602c33ce4491492088279f26adc209674"
   },
   "source": [
    "Fraudulent transactions have a distribution more even than valid transactions - are equaly distributed in time, including the low real transaction times, during night in Europe timezone."
   ]
  },
  {
   "cell_type": "markdown",
   "metadata": {
    "_uuid": "c4393be5698f192c6839e8d372b453ed247d40d5"
   },
   "source": [
    "## Transactions amount"
   ]
  },
  {
   "cell_type": "code",
   "execution_count": 11,
   "metadata": {
    "_uuid": "639b6fec6066d52f91c6766ef372df39a39c2fe1"
   },
   "outputs": [
    {
     "data": {
      "image/png": "[encoded data removed]",
      "text/plain": [
       "<Figure size 432x432 with 1 Axes>"
      ]
     },
     "metadata": {
      "needs_background": "light"
     },
     "output_type": "display_data"
    }
   ],
   "source": [
    "fig, (ax1) = plt.subplots(ncols=1, figsize=(6,6))\n",
    "s = sns.boxplot(ax = ax1, x=\"Class\", y=\"Amount\", hue=\"Class\",data=data_df, palette=\"PRGn\",showfliers=False)\n",
    "plt.show();"
   ]
  },
  {
   "cell_type": "code",
   "execution_count": 12,
   "metadata": {
    "_uuid": "2a797b1b01b66a3171197cbfc1a1a37bf36b0d57"
   },
   "outputs": [
    {
     "data": {
      "text/plain": [
       "count    284315.000000\n",
       "mean         88.291022\n",
       "std         250.105092\n",
       "min           0.000000\n",
       "25%           5.650000\n",
       "50%          22.000000\n",
       "75%          77.050000\n",
       "max       25691.160000\n",
       "Name: Amount, dtype: float64"
      ]
     },
     "execution_count": 12,
     "metadata": {},
     "output_type": "execute_result"
    }
   ],
   "source": [
    "tmp = data_df[['Amount','Class']].copy()\n",
    "class_0 = tmp.loc[tmp['Class'] == 0]['Amount']\n",
    "class_1 = tmp.loc[tmp['Class'] == 1]['Amount']\n",
    "class_0.describe()"
   ]
  },
  {
   "cell_type": "code",
   "execution_count": 13,
   "metadata": {
    "_uuid": "90705320eb4f147ec29f13620e010501217b981d"
   },
   "outputs": [
    {
     "data": {
      "text/plain": [
       "count     492.000000\n",
       "mean      122.211321\n",
       "std       256.683288\n",
       "min         0.000000\n",
       "25%         1.000000\n",
       "50%         9.250000\n",
       "75%       105.890000\n",
       "max      2125.870000\n",
       "Name: Amount, dtype: float64"
      ]
     },
     "execution_count": 13,
     "metadata": {},
     "output_type": "execute_result"
    }
   ],
   "source": [
    "class_1.describe()"
   ]
  },
  {
   "cell_type": "markdown",
   "metadata": {
    "_uuid": "a6aedd49dc678f1a022ddc98901b0a53758bc7f6"
   },
   "source": [
    "The real transaction have a larger mean value, larger Q1, smaller Q3 and Q4 and larger outliers; fraudulent transactions have a smaller Q1 and mean, larger Q4 and smaller outliers.\n",
    "\n",
    "Let's plot the fraudulent transactions (amount) against time. The time is shown is seconds from the start of the time period (totaly 48h, over 2 days)."
   ]
  },
  {
   "cell_type": "code",
   "execution_count": 14,
   "metadata": {
    "_uuid": "29575f5187154024c911642bd329289199253a90"
   },
   "outputs": [
    {
     "data": {
      "application/vnd.plotly.v1+json": {
       "config": {
        "linkText": "Export to plot.ly",
        "plotlyServerURL": "https://plot.ly",
        "showLink": false
       },
       "data": [
        {
         "marker": {
          "color": "rgb(238,23,11)",
          "line": {
           "color": "red",
           "width": 1
          },
          "opacity": 0.5
         },
         "mode": "markers",
         "name": "Amount",
         "text": [
          0,
          529,
          239.93,
          59,
          1,
          1,
          1,
          1,
          1,
          1,
          1,
          1,
          1,
          1,
          1,
          1,
          1,
          1,
          1,
          1,
          1,
          1.1,
          1,
          1,
          1809.68,
          1,
          1,
          1,
          1,
          1,
          0,
          30.39,
          179.66,
          1,
          1,
          1,
          1,
          1,
          11.39,
          3.79,
          3.79,
          3.93,
          1,
          766.36,
          1218.89,
          1,
          188.78,
          1,
          1,
          1,
          1,
          1,
          1,
          1,
          1,
          1,
          3.12,
          99.99,
          99.99,
          99.99,
          3.76,
          99.99,
          99.99,
          99.99,
          99.99,
          99.99,
          99.99,
          99.99,
          99.99,
          99.99,
          99.99,
          99.99,
          99.99,
          23.36,
          99.99,
          730.86,
          99.99,
          99.99,
          99.99,
          99.99,
          99.99,
          0.68,
          0.68,
          0.68,
          30.3,
          104.81,
          0,
          717.15,
          19.02,
          1.52,
          18.96,
          125.3,
          19.02,
          0.76,
          60.6,
          7.61,
          1,
          9.13,
          4.56,
          14.46,
          111.7,
          111.7,
          12.31,
          776.83,
          1,
          1,
          1,
          1,
          0.76,
          0.76,
          112.33,
          3.79,
          340.11,
          88.23,
          5.3,
          83.38,
          11.38,
          1.52,
          88.23,
          30.26,
          459.07,
          0,
          118.3,
          45.49,
          173.07,
          37.32,
          59.68,
          0.76,
          9.99,
          34.12,
          273.01,
          106.55,
          364.19,
          39.45,
          53.95,
          172.32,
          802.52,
          99.99,
          139.9,
          1,
          1,
          1,
          1,
          1,
          648,
          204.27,
          88,
          24.9,
          1,
          1,
          1,
          105.99,
          1,
          1,
          1,
          1,
          0.76,
          7.58,
          0.76,
          0.76,
          208.58,
          1,
          19.73,
          360,
          99.99,
          99.99,
          99.99,
          99.99,
          99.99,
          519.9,
          0.76,
          0.76,
          1.18,
          8,
          0,
          112.45,
          261.87,
          1.79,
          1,
          0.83,
          0.83,
          130.44,
          311.91,
          170.92,
          153.46,
          7.52,
          1,
          5,
          0.01,
          444.17,
          1,
          1,
          1,
          1.75,
          5.09,
          270,
          113.92,
          45.64,
          1389.56,
          18.98,
          6.27,
          319.2,
          5.91,
          454.82,
          101.5,
          19.04,
          6.62,
          180,
          1,
          1.1,
          1402.16,
          290.18,
          294.9,
          1,
          0,
          0,
          720.38,
          31.91,
          1354.25,
          98.01,
          101.5,
          7.53,
          489.71,
          549.06,
          320,
          1,
          1,
          1,
          1,
          1,
          1,
          19.59,
          1,
          227.3,
          3.79,
          318.11,
          824.83,
          0.76,
          426.4,
          238.9,
          45.03,
          16.48,
          76.94,
          311.28,
          30.14,
          29.95,
          124.53,
          99.85,
          99.9,
          219.8,
          254.76,
          1,
          1,
          1,
          1,
          129,
          1,
          1,
          1,
          106.9,
          60,
          0.2,
          7.57,
          1,
          1,
          0,
          0,
          512.25,
          512.25,
          12.31,
          354.33,
          2,
          0,
          0,
          252.92,
          252.92,
          1,
          240.77,
          1,
          310.42,
          323.77,
          451.27,
          829.41,
          1.18,
          9.21,
          6.99,
          38.76,
          52.69,
          1,
          1,
          261.22,
          18,
          600.73,
          1,
          75.86,
          8.54,
          0.01,
          44.9,
          44.9,
          316.06,
          316.06,
          209.65,
          78,
          78,
          188.52,
          188.52,
          30.31,
          30.31,
          104.03,
          104.03,
          1,
          1,
          37.93,
          97,
          11.4,
          45.48,
          1,
          1,
          1,
          1,
          1,
          33.76,
          571.48,
          1.63,
          1.63,
          18.96,
          33.59,
          1,
          8.64,
          9.82,
          2.28,
          1,
          0.76,
          1,
          0.92,
          2.28,
          147.87,
          0,
          22.04,
          0,
          104,
          2.28,
          0.01,
          1,
          346.94,
          7.59,
          0,
          0,
          119.74,
          2.27,
          0,
          186.13,
          1,
          0.76,
          80.22,
          635.1,
          17.06,
          65,
          105.89,
          105.89,
          144.62,
          2125.87,
          11,
          45.51,
          40,
          3.22,
          0,
          25,
          67.9,
          93.35,
          1,
          175.9,
          720.8,
          7.18,
          4.87,
          80.9,
          0,
          2,
          1,
          362.55,
          276.17,
          723.21,
          480.72,
          1,
          1335,
          0,
          130.21,
          1,
          925.31,
          0,
          345,
          108.51,
          84.28,
          39.45,
          0.01,
          727.91,
          22.47,
          8.3,
          120.54,
          0.69,
          723.21,
          0.77,
          592.9,
          195.66,
          4.49,
          0.76,
          324.59,
          320.01,
          2,
          144.8,
          0,
          1,
          1,
          8.9,
          1,
          667.55,
          0,
          1.18,
          2.22,
          0.77,
          94.82,
          8,
          996.27,
          0,
          1.59,
          1.59,
          0,
          0.76,
          0.76,
          122.68,
          0,
          1,
          1.1,
          2,
          17.39,
          50,
          237.26,
          1,
          9.29,
          10.7,
          0.01,
          57.73,
          1,
          1,
          1,
          1,
          1,
          2.47,
          357.95,
          247.86,
          51.37,
          0,
          0.76,
          1504.93,
          1096.99,
          35,
          6.74,
          0.77,
          0.77,
          0.77,
          3.9,
          3.14,
          7.06,
          94.82,
          0.77,
          0.77,
          187.11,
          7.59,
          4.97,
          0.77,
          296,
          45.51,
          4.9,
          156,
          4.69,
          0.77,
          1,
          0.77,
          127.14,
          0.38,
          39.98,
          12.31,
          0,
          39.9,
          634.3,
          19.95,
          349.08,
          390,
          0.76,
          77.89,
          245,
          42.53
         ],
         "type": "scatter",
         "x": [
          0.11277777777777778,
          0.13111111111111112,
          1.2394444444444443,
          1.9405555555555556,
          2.088611111111111,
          2.0905555555555555,
          2.0930555555555554,
          2.0952777777777776,
          2.0975,
          2.113888888888889,
          2.131111111111111,
          2.15,
          2.1919444444444443,
          2.2472222222222222,
          2.2691666666666666,
          2.3355555555555556,
          2.3375,
          2.3475,
          2.368888888888889,
          2.392777777777778,
          2.4325,
          2.4466666666666668,
          2.466111111111111,
          2.4683333333333333,
          2.517777777777778,
          3.077777777777778,
          3.081111111111111,
          3.0919444444444446,
          3.230277777777778,
          3.2319444444444443,
          3.359166666666667,
          3.359722222222222,
          3.4425,
          3.4991666666666665,
          3.6461111111111113,
          3.700833333333333,
          3.9091666666666667,
          3.931111111111111,
          4.393611111111111,
          4.774166666666667,
          4.783333333333333,
          4.786111111111111,
          4.866666666666666,
          4.955,
          5.024444444444445,
          5.110833333333333,
          5.1875,
          5.191666666666666,
          5.489444444444445,
          5.558611111111111,
          5.647777777777778,
          5.680833333333333,
          5.814166666666667,
          5.846111111111111,
          5.949722222222222,
          6.017222222222222,
          6.970833333333333,
          6.999444444444444,
          7.008611111111111,
          7.015,
          7.062777777777778,
          7.3675,
          7.376666666666667,
          7.384722222222222,
          7.453611111111111,
          7.461944444444445,
          7.4719444444444445,
          7.480833333333333,
          7.489166666666667,
          7.545277777777778,
          7.551944444444445,
          7.560833333333333,
          7.57,
          7.717777777777778,
          7.8175,
          7.845,
          7.951388888888889,
          7.960555555555556,
          7.97,
          7.979444444444445,
          7.9875,
          8.201666666666666,
          8.203055555555556,
          8.264722222222222,
          8.27361111111111,
          8.57,
          9.079444444444444,
          9.095833333333333,
          9.515555555555556,
          9.589166666666667,
          9.620555555555555,
          9.634444444444444,
          9.635277777777778,
          9.884722222222223,
          9.936388888888889,
          9.962777777777777,
          9.971944444444444,
          9.973888888888888,
          9.979444444444445,
          9.983888888888888,
          9.986944444444445,
          10.047222222222222,
          10.324166666666667,
          11.035833333333333,
          11.135,
          11.187777777777777,
          11.295,
          11.317222222222222,
          11.358888888888888,
          11.366111111111111,
          11.366388888888888,
          11.421111111111111,
          11.427222222222222,
          11.429722222222223,
          11.434444444444445,
          11.436111111111112,
          11.439166666666667,
          11.442777777777778,
          11.445277777777777,
          11.445555555555556,
          11.451944444444445,
          11.453611111111112,
          11.454722222222221,
          11.456388888888888,
          11.464722222222223,
          11.468055555555555,
          11.473611111111111,
          11.474444444444444,
          11.475833333333334,
          11.486944444444445,
          11.499166666666667,
          11.50361111111111,
          11.529166666666667,
          11.550555555555556,
          11.5575,
          11.568333333333333,
          11.595277777777778,
          11.608611111111111,
          11.625277777777777,
          11.630555555555556,
          11.664166666666667,
          11.735277777777778,
          11.798333333333334,
          11.940277777777778,
          11.94111111111111,
          11.952222222222222,
          12.046944444444444,
          12.081666666666667,
          12.331388888888888,
          12.37,
          12.62861111111111,
          12.639166666666666,
          12.650277777777777,
          12.793611111111112,
          12.819166666666666,
          13.034722222222221,
          13.206944444444444,
          13.285,
          13.311944444444444,
          13.328333333333333,
          13.438888888888888,
          13.481388888888889,
          13.578888888888889,
          13.884722222222223,
          14.085,
          14.113333333333333,
          14.197777777777778,
          14.204166666666667,
          14.209722222222222,
          14.670555555555556,
          14.703888888888889,
          14.730833333333333,
          14.743333333333334,
          14.8475,
          14.905,
          14.924166666666666,
          14.9825,
          15.235,
          15.355277777777777,
          15.364166666666666,
          15.448333333333334,
          15.449444444444444,
          15.488888888888889,
          15.582777777777778,
          15.72888888888889,
          15.73611111111111,
          15.779444444444444,
          15.801944444444445,
          15.835277777777778,
          15.840833333333334,
          15.87861111111111,
          16.127777777777776,
          16.129722222222224,
          16.16638888888889,
          16.171388888888888,
          16.172777777777778,
          16.289444444444445,
          16.339444444444446,
          16.391944444444444,
          16.495833333333334,
          16.57472222222222,
          16.60472222222222,
          16.622222222222224,
          16.764722222222222,
          16.974444444444444,
          17.12388888888889,
          17.238611111111112,
          17.244444444444444,
          17.31388888888889,
          17.316944444444445,
          17.351944444444445,
          17.660555555555554,
          17.80361111111111,
          17.892222222222223,
          17.900833333333335,
          17.940277777777776,
          17.995833333333334,
          18.155,
          18.1625,
          18.25777777777778,
          18.315555555555555,
          18.343611111111112,
          18.65277777777778,
          18.76972222222222,
          18.849166666666665,
          18.94638888888889,
          18.94638888888889,
          18.94638888888889,
          18.94638888888889,
          18.94638888888889,
          18.94638888888889,
          18.988055555555555,
          19.27611111111111,
          19.464166666666667,
          19.508055555555554,
          19.519444444444446,
          19.593333333333334,
          19.674444444444443,
          19.73138888888889,
          20.090833333333332,
          20.22888888888889,
          20.391111111111112,
          20.599722222222223,
          20.628333333333334,
          20.8425,
          20.98777777777778,
          20.994722222222222,
          21.06972222222222,
          21.105,
          21.270833333333332,
          21.340555555555557,
          21.345833333333335,
          21.349166666666665,
          21.351944444444445,
          21.354444444444443,
          21.43166666666667,
          21.43638888888889,
          21.439444444444444,
          21.445,
          21.563055555555554,
          21.868055555555557,
          22.094444444444445,
          22.60333333333333,
          22.858055555555556,
          23.315,
          23.39,
          23.39,
          23.39,
          23.39,
          23.52611111111111,
          23.5525,
          23.66138888888889,
          23.690277777777776,
          23.690277777777776,
          23.690277777777776,
          23.690277777777776,
          23.77027777777778,
          23.77111111111111,
          23.851111111111113,
          23.851944444444445,
          23.993333333333332,
          24.22277777777778,
          24.411944444444444,
          24.63111111111111,
          24.649166666666666,
          25.18777777777778,
          25.29861111111111,
          25.390833333333333,
          25.41722222222222,
          25.423333333333332,
          25.43166666666667,
          25.58111111111111,
          25.58388888888889,
          26.039444444444445,
          26.061944444444446,
          26.06222222222222,
          26.065,
          26.07027777777778,
          26.07027777777778,
          26.07027777777778,
          26.07027777777778,
          26.07111111111111,
          26.072222222222223,
          26.072222222222223,
          26.072222222222223,
          26.072222222222223,
          26.0775,
          26.0775,
          26.0775,
          26.0775,
          26.08,
          26.0825,
          26.084444444444443,
          26.08888888888889,
          26.101388888888888,
          26.150277777777777,
          26.211666666666666,
          26.211666666666666,
          26.211666666666666,
          26.211666666666666,
          26.212222222222223,
          26.28472222222222,
          26.375555555555554,
          26.544166666666666,
          26.563333333333333,
          26.704166666666666,
          26.7475,
          26.865833333333335,
          26.978055555555557,
          27.009722222222223,
          27.83972222222222,
          27.860555555555557,
          27.916944444444443,
          28.034444444444443,
          28.06972222222222,
          28.1425,
          28.22138888888889,
          28.365,
          28.421666666666667,
          28.466666666666665,
          28.469166666666666,
          28.483888888888888,
          28.49222222222222,
          28.505277777777778,
          28.50611111111111,
          28.506944444444443,
          28.519166666666667,
          28.51972222222222,
          28.52111111111111,
          28.835555555555555,
          30.360277777777778,
          30.360555555555557,
          30.579722222222223,
          30.7075,
          30.70888888888889,
          30.726944444444445,
          32.13638888888889,
          32.240833333333335,
          32.925555555555555,
          32.945277777777775,
          33.67722222222222,
          34.05777777777778,
          34.18833333333333,
          34.3125,
          34.77777777777778,
          34.89222222222222,
          34.905,
          35.060833333333335,
          35.68638888888889,
          35.69972222222222,
          35.72083333333333,
          35.77861111111111,
          35.859722222222224,
          35.885,
          35.895,
          35.91888888888889,
          35.93638888888889,
          36.01888888888889,
          36.03916666666667,
          36.04555555555555,
          36.05777777777778,
          36.39555555555555,
          36.690555555555555,
          36.85777777777778,
          36.995555555555555,
          37.1475,
          37.21055555555556,
          37.435,
          37.435833333333335,
          37.48,
          37.52638888888889,
          37.528333333333336,
          37.58722222222222,
          38.11416666666667,
          38.58166666666666,
          38.595,
          38.64083333333333,
          38.64361111111111,
          38.82416666666666,
          38.83777777777778,
          38.875277777777775,
          38.97027777777778,
          38.974444444444444,
          39.25555555555555,
          39.32361111111111,
          39.423611111111114,
          39.522222222222226,
          39.55388888888889,
          39.558055555555555,
          39.67777777777778,
          39.71138888888889,
          39.82055555555556,
          39.842777777777776,
          39.84388888888889,
          39.84888888888889,
          40.224444444444444,
          40.23305555555555,
          40.56166666666667,
          40.562777777777775,
          40.60527777777778,
          40.65111111111111,
          40.83277777777778,
          40.9725,
          41.11888888888889,
          41.12583333333333,
          41.12583333333333,
          41.13166666666667,
          41.24111111111111,
          41.24333333333333,
          41.244166666666665,
          41.41555555555556,
          41.45444444444445,
          41.550555555555555,
          41.56666666666667,
          41.57666666666667,
          41.705,
          41.70527777777778,
          41.80388888888889,
          41.930277777777775,
          41.9525,
          42.19888888888889,
          42.214444444444446,
          42.23222222222222,
          42.23833333333334,
          42.24944444444444,
          42.268055555555556,
          42.3075,
          42.419444444444444,
          42.445,
          42.68138888888889,
          42.71138888888889,
          42.74305555555556,
          42.82805555555556,
          42.855,
          42.86361111111111,
          42.914722222222224,
          42.94416666666667,
          42.960277777777776,
          43.07055555555556,
          43.155277777777776,
          43.204166666666666,
          43.20611111111111,
          43.20777777777778,
          43.20944444444444,
          43.239444444444445,
          43.32361111111111,
          43.52361111111111,
          43.53055555555556,
          43.66861111111111,
          43.69,
          44.06611111111111,
          44.40111111111111,
          44.45388888888889,
          44.511944444444445,
          44.59361111111111,
          44.62916666666667,
          44.66416666666667,
          44.68611111111111,
          44.69305555555555,
          44.765,
          45.32805555555556,
          45.87,
          46.10583333333334,
          46.11888888888889,
          46.341944444444444,
          46.35638888888889,
          46.48277777777778,
          46.98388888888889,
          47.04083333333333,
          47.04194444444445,
          47.21277777777778,
          47.318888888888885
         ],
         "y": [
          0,
          529,
          239.93,
          59,
          1,
          1,
          1,
          1,
          1,
          1,
          1,
          1,
          1,
          1,
          1,
          1,
          1,
          1,
          1,
          1,
          1,
          1.1,
          1,
          1,
          1809.68,
          1,
          1,
          1,
          1,
          1,
          0,
          30.39,
          179.66,
          1,
          1,
          1,
          1,
          1,
          11.39,
          3.79,
          3.79,
          3.93,
          1,
          766.36,
          1218.89,
          1,
          188.78,
          1,
          1,
          1,
          1,
          1,
          1,
          1,
          1,
          1,
          3.12,
          99.99,
          99.99,
          99.99,
          3.76,
          99.99,
          99.99,
          99.99,
          99.99,
          99.99,
          99.99,
          99.99,
          99.99,
          99.99,
          99.99,
          99.99,
          99.99,
          23.36,
          99.99,
          730.86,
          99.99,
          99.99,
          99.99,
          99.99,
          99.99,
          0.68,
          0.68,
          0.68,
          30.3,
          104.81,
          0,
          717.15,
          19.02,
          1.52,
          18.96,
          125.3,
          19.02,
          0.76,
          60.6,
          7.61,
          1,
          9.13,
          4.56,
          14.46,
          111.7,
          111.7,
          12.31,
          776.83,
          1,
          1,
          1,
          1,
          0.76,
          0.76,
          112.33,
          3.79,
          340.11,
          88.23,
          5.3,
          83.38,
          11.38,
          1.52,
          88.23,
          30.26,
          459.07,
          0,
          118.3,
          45.49,
          173.07,
          37.32,
          59.68,
          0.76,
          9.99,
          34.12,
          273.01,
          106.55,
          364.19,
          39.45,
          53.95,
          172.32,
          802.52,
          99.99,
          139.9,
          1,
          1,
          1,
          1,
          1,
          648,
          204.27,
          88,
          24.9,
          1,
          1,
          1,
          105.99,
          1,
          1,
          1,
          1,
          0.76,
          7.58,
          0.76,
          0.76,
          208.58,
          1,
          19.73,
          360,
          99.99,
          99.99,
          99.99,
          99.99,
          99.99,
          519.9,
          0.76,
          0.76,
          1.18,
          8,
          0,
          112.45,
          261.87,
          1.79,
          1,
          0.83,
          0.83,
          130.44,
          311.91,
          170.92,
          153.46,
          7.52,
          1,
          5,
          0.01,
          444.17,
          1,
          1,
          1,
          1.75,
          5.09,
          270,
          113.92,
          45.64,
          1389.56,
          18.98,
          6.27,
          319.2,
          5.91,
          454.82,
          101.5,
          19.04,
          6.62,
          180,
          1,
          1.1,
          1402.16,
          290.18,
          294.9,
          1,
          0,
          0,
          720.38,
          31.91,
          1354.25,
          98.01,
          101.5,
          7.53,
          489.71,
          549.06,
          320,
          1,
          1,
          1,
          1,
          1,
          1,
          19.59,
          1,
          227.3,
          3.79,
          318.11,
          824.83,
          0.76,
          426.4,
          238.9,
          45.03,
          16.48,
          76.94,
          311.28,
          30.14,
          29.95,
          124.53,
          99.85,
          99.9,
          219.8,
          254.76,
          1,
          1,
          1,
          1,
          129,
          1,
          1,
          1,
          106.9,
          60,
          0.2,
          7.57,
          1,
          1,
          0,
          0,
          512.25,
          512.25,
          12.31,
          354.33,
          2,
          0,
          0,
          252.92,
          252.92,
          1,
          240.77,
          1,
          310.42,
          323.77,
          451.27,
          829.41,
          1.18,
          9.21,
          6.99,
          38.76,
          52.69,
          1,
          1,
          261.22,
          18,
          600.73,
          1,
          75.86,
          8.54,
          0.01,
          44.9,
          44.9,
          316.06,
          316.06,
          209.65,
          78,
          78,
          188.52,
          188.52,
          30.31,
          30.31,
          104.03,
          104.03,
          1,
          1,
          37.93,
          97,
          11.4,
          45.48,
          1,
          1,
          1,
          1,
          1,
          33.76,
          571.48,
          1.63,
          1.63,
          18.96,
          33.59,
          1,
          8.64,
          9.82,
          2.28,
          1,
          0.76,
          1,
          0.92,
          2.28,
          147.87,
          0,
          22.04,
          0,
          104,
          2.28,
          0.01,
          1,
          346.94,
          7.59,
          0,
          0,
          119.74,
          2.27,
          0,
          186.13,
          1,
          0.76,
          80.22,
          635.1,
          17.06,
          65,
          105.89,
          105.89,
          144.62,
          2125.87,
          11,
          45.51,
          40,
          3.22,
          0,
          25,
          67.9,
          93.35,
          1,
          175.9,
          720.8,
          7.18,
          4.87,
          80.9,
          0,
          2,
          1,
          362.55,
          276.17,
          723.21,
          480.72,
          1,
          1335,
          0,
          130.21,
          1,
          925.31,
          0,
          345,
          108.51,
          84.28,
          39.45,
          0.01,
          727.91,
          22.47,
          8.3,
          120.54,
          0.69,
          723.21,
          0.77,
          592.9,
          195.66,
          4.49,
          0.76,
          324.59,
          320.01,
          2,
          144.8,
          0,
          1,
          1,
          8.9,
          1,
          667.55,
          0,
          1.18,
          2.22,
          0.77,
          94.82,
          8,
          996.27,
          0,
          1.59,
          1.59,
          0,
          0.76,
          0.76,
          122.68,
          0,
          1,
          1.1,
          2,
          17.39,
          50,
          237.26,
          1,
          9.29,
          10.7,
          0.01,
          57.73,
          1,
          1,
          1,
          1,
          1,
          2.47,
          357.95,
          247.86,
          51.37,
          0,
          0.76,
          1504.93,
          1096.99,
          35,
          6.74,
          0.77,
          0.77,
          0.77,
          3.9,
          3.14,
          7.06,
          94.82,
          0.77,
          0.77,
          187.11,
          7.59,
          4.97,
          0.77,
          296,
          45.51,
          4.9,
          156,
          4.69,
          0.77,
          1,
          0.77,
          127.14,
          0.38,
          39.98,
          12.31,
          0,
          39.9,
          634.3,
          19.95,
          349.08,
          390,
          0.76,
          77.89,
          245,
          42.53
         ]
        }
       ],
       "layout": {
        "hovermode": "closest",
        "template": {
         "data": {
          "bar": [
           {
            "error_x": {
             "color": "#2a3f5f"
            },
            "error_y": {
             "color": "#2a3f5f"
            },
            "marker": {
             "line": {
              "color": "#E5ECF6",
              "width": 0.5
             }
            },
            "type": "bar"
           }
          ],
          "barpolar": [
           {
            "marker": {
             "line": {
              "color": "#E5ECF6",
              "width": 0.5
             }
            },
            "type": "barpolar"
           }
          ],
          "carpet": [
           {
            "aaxis": {
             "endlinecolor": "#2a3f5f",
             "gridcolor": "white",
             "linecolor": "white",
             "minorgridcolor": "white",
             "startlinecolor": "#2a3f5f"
            },
            "baxis": {
             "endlinecolor": "#2a3f5f",
             "gridcolor": "white",
             "linecolor": "white",
             "minorgridcolor": "white",
             "startlinecolor": "#2a3f5f"
            },
            "type": "carpet"
           }
          ],
          "choropleth": [
           {
            "colorbar": {
             "outlinewidth": 0,
             "ticks": ""
            },
            "type": "choropleth"
           }
          ],
          "contour": [
           {
            "colorbar": {
             "outlinewidth": 0,
             "ticks": ""
            },
            "colorscale": [
             [
              0,
              "#0d0887"
             ],
             [
              0.1111111111111111,
              "#46039f"
             ],
             [
              0.2222222222222222,
              "#7201a8"
             ],
             [
              0.3333333333333333,
              "#9c179e"
             ],
             [
              0.4444444444444444,
              "#bd3786"
             ],
             [
              0.5555555555555556,
              "#d8576b"
             ],
             [
              0.6666666666666666,
              "#ed7953"
             ],
             [
              0.7777777777777778,
              "#fb9f3a"
             ],
             [
              0.8888888888888888,
              "#fdca26"
             ],
             [
              1,
              "#f0f921"
             ]
            ],
            "type": "contour"
           }
          ],
          "contourcarpet": [
           {
            "colorbar": {
             "outlinewidth": 0,
             "ticks": ""
            },
            "type": "contourcarpet"
           }
          ],
          "heatmap": [
           {
            "colorbar": {
             "outlinewidth": 0,
             "ticks": ""
            },
            "colorscale": [
             [
              0,
              "#0d0887"
             ],
             [
              0.1111111111111111,
              "#46039f"
             ],
             [
              0.2222222222222222,
              "#7201a8"
             ],
             [
              0.3333333333333333,
              "#9c179e"
             ],
             [
              0.4444444444444444,
              "#bd3786"
             ],
             [
              0.5555555555555556,
              "#d8576b"
             ],
             [
              0.6666666666666666,
              "#ed7953"
             ],
             [
              0.7777777777777778,
              "#fb9f3a"
             ],
             [
              0.8888888888888888,
              "#fdca26"
             ],
             [
              1,
              "#f0f921"
             ]
            ],
            "type": "heatmap"
           }
          ],
          "heatmapgl": [
           {
            "colorbar": {
             "outlinewidth": 0,
             "ticks": ""
            },
            "colorscale": [
             [
              0,
              "#0d0887"
             ],
             [
              0.1111111111111111,
              "#46039f"
             ],
             [
              0.2222222222222222,
              "#7201a8"
             ],
             [
              0.3333333333333333,
              "#9c179e"
             ],
             [
              0.4444444444444444,
              "#bd3786"
             ],
             [
              0.5555555555555556,
              "#d8576b"
             ],
             [
              0.6666666666666666,
              "#ed7953"
             ],
             [
              0.7777777777777778,
              "#fb9f3a"
             ],
             [
              0.8888888888888888,
              "#fdca26"
             ],
             [
              1,
              "#f0f921"
             ]
            ],
            "type": "heatmapgl"
           }
          ],
          "histogram": [
           {
            "marker": {
             "colorbar": {
              "outlinewidth": 0,
              "ticks": ""
             }
            },
            "type": "histogram"
           }
          ],
          "histogram2d": [
           {
            "colorbar": {
             "outlinewidth": 0,
             "ticks": ""
            },
            "colorscale": [
             [
              0,
              "#0d0887"
             ],
             [
              0.1111111111111111,
              "#46039f"
             ],
             [
              0.2222222222222222,
              "#7201a8"
             ],
             [
              0.3333333333333333,
              "#9c179e"
             ],
             [
              0.4444444444444444,
              "#bd3786"
             ],
             [
              0.5555555555555556,
              "#d8576b"
             ],
             [
              0.6666666666666666,
              "#ed7953"
             ],
             [
              0.7777777777777778,
              "#fb9f3a"
             ],
             [
              0.8888888888888888,
              "#fdca26"
             ],
             [
              1,
              "#f0f921"
             ]
            ],
            "type": "histogram2d"
           }
          ],
          "histogram2dcontour": [
           {
            "colorbar": {
             "outlinewidth": 0,
             "ticks": ""
            },
            "colorscale": [
             [
              0,
              "#0d0887"
             ],
             [
              0.1111111111111111,
              "#46039f"
             ],
             [
              0.2222222222222222,
              "#7201a8"
             ],
             [
              0.3333333333333333,
              "#9c179e"
             ],
             [
              0.4444444444444444,
              "#bd3786"
             ],
             [
              0.5555555555555556,
              "#d8576b"
             ],
             [
              0.6666666666666666,
              "#ed7953"
             ],
             [
              0.7777777777777778,
              "#fb9f3a"
             ],
             [
              0.8888888888888888,
              "#fdca26"
             ],
             [
              1,
              "#f0f921"
             ]
            ],
            "type": "histogram2dcontour"
           }
          ],
          "mesh3d": [
           {
            "colorbar": {
             "outlinewidth": 0,
             "ticks": ""
            },
            "type": "mesh3d"
           }
          ],
          "parcoords": [
           {
            "line": {
             "colorbar": {
              "outlinewidth": 0,
              "ticks": ""
             }
            },
            "type": "parcoords"
           }
          ],
          "pie": [
           {
            "automargin": true,
            "type": "pie"
           }
          ],
          "scatter": [
           {
            "marker": {
             "colorbar": {
              "outlinewidth": 0,
              "ticks": ""
             }
            },
            "type": "scatter"
           }
          ],
          "scatter3d": [
           {
            "line": {
             "colorbar": {
              "outlinewidth": 0,
              "ticks": ""
             }
            },
            "marker": {
             "colorbar": {
              "outlinewidth": 0,
              "ticks": ""
             }
            },
            "type": "scatter3d"
           }
          ],
          "scattercarpet": [
           {
            "marker": {
             "colorbar": {
              "outlinewidth": 0,
              "ticks": ""
             }
            },
            "type": "scattercarpet"
           }
          ],
          "scattergeo": [
           {
            "marker": {
             "colorbar": {
              "outlinewidth": 0,
              "ticks": ""
             }
            },
            "type": "scattergeo"
           }
          ],
          "scattergl": [
           {
            "marker": {
             "colorbar": {
              "outlinewidth": 0,
              "ticks": ""
             }
            },
            "type": "scattergl"
           }
          ],
          "scattermapbox": [
           {
            "marker": {
             "colorbar": {
              "outlinewidth": 0,
              "ticks": ""
             }
            },
            "type": "scattermapbox"
           }
          ],
          "scatterpolar": [
           {
            "marker": {
             "colorbar": {
              "outlinewidth": 0,
              "ticks": ""
             }
            },
            "type": "scatterpolar"
           }
          ],
          "scatterpolargl": [
           {
            "marker": {
             "colorbar": {
              "outlinewidth": 0,
              "ticks": ""
             }
            },
            "type": "scatterpolargl"
           }
          ],
          "scatterternary": [
           {
            "marker": {
             "colorbar": {
              "outlinewidth": 0,
              "ticks": ""
             }
            },
            "type": "scatterternary"
           }
          ],
          "surface": [
           {
            "colorbar": {
             "outlinewidth": 0,
             "ticks": ""
            },
            "colorscale": [
             [
              0,
              "#0d0887"
             ],
             [
              0.1111111111111111,
              "#46039f"
             ],
             [
              0.2222222222222222,
              "#7201a8"
             ],
             [
              0.3333333333333333,
              "#9c179e"
             ],
             [
              0.4444444444444444,
              "#bd3786"
             ],
             [
              0.5555555555555556,
              "#d8576b"
             ],
             [
              0.6666666666666666,
              "#ed7953"
             ],
             [
              0.7777777777777778,
              "#fb9f3a"
             ],
             [
              0.8888888888888888,
              "#fdca26"
             ],
             [
              1,
              "#f0f921"
             ]
            ],
            "type": "surface"
           }
          ],
          "table": [
           {
            "cells": {
             "fill": {
              "color": "#EBF0F8"
             },
             "line": {
              "color": "white"
             }
            },
            "header": {
             "fill": {
              "color": "#C8D4E3"
             },
             "line": {
              "color": "white"
             }
            },
            "type": "table"
           }
          ]
         },
         "layout": {
          "annotationdefaults": {
           "arrowcolor": "#2a3f5f",
           "arrowhead": 0,
           "arrowwidth": 1
          },
          "coloraxis": {
           "colorbar": {
            "outlinewidth": 0,
            "ticks": ""
           }
          },
          "colorscale": {
           "diverging": [
            [
             0,
             "#8e0152"
            ],
            [
             0.1,
             "#c51b7d"
            ],
            [
             0.2,
             "#de77ae"
            ],
            [
             0.3,
             "#f1b6da"
            ],
            [
             0.4,
             "#fde0ef"
            ],
            [
             0.5,
             "#f7f7f7"
            ],
            [
             0.6,
             "#e6f5d0"
            ],
            [
             0.7,
             "#b8e186"
            ],
            [
             0.8,
             "#7fbc41"
            ],
            [
             0.9,
             "#4d9221"
            ],
            [
             1,
             "#276419"
            ]
           ],
           "sequential": [
            [
             0,
             "#0d0887"
            ],
            [
             0.1111111111111111,
             "#46039f"
            ],
            [
             0.2222222222222222,
             "#7201a8"
            ],
            [
             0.3333333333333333,
             "#9c179e"
            ],
            [
             0.4444444444444444,
             "#bd3786"
            ],
            [
             0.5555555555555556,
             "#d8576b"
            ],
            [
             0.6666666666666666,
             "#ed7953"
            ],
            [
             0.7777777777777778,
             "#fb9f3a"
            ],
            [
             0.8888888888888888,
             "#fdca26"
            ],
            [
             1,
             "#f0f921"
            ]
           ],
           "sequentialminus": [
            [
             0,
             "#0d0887"
            ],
            [
             0.1111111111111111,
             "#46039f"
            ],
            [
             0.2222222222222222,
             "#7201a8"
            ],
            [
             0.3333333333333333,
             "#9c179e"
            ],
            [
             0.4444444444444444,
             "#bd3786"
            ],
            [
             0.5555555555555556,
             "#d8576b"
            ],
            [
             0.6666666666666666,
             "#ed7953"
            ],
            [
             0.7777777777777778,
             "#fb9f3a"
            ],
            [
             0.8888888888888888,
             "#fdca26"
            ],
            [
             1,
             "#f0f921"
            ]
           ]
          },
          "colorway": [
           "#636efa",
           "#EF553B",
           "#00cc96",
           "#ab63fa",
           "#FFA15A",
           "#19d3f3",
           "#FF6692",
           "#B6E880",
           "#FF97FF",
           "#FECB52"
          ],
          "font": {
           "color": "#2a3f5f"
          },
          "geo": {
           "bgcolor": "white",
           "lakecolor": "white",
           "landcolor": "#E5ECF6",
           "showlakes": true,
           "showland": true,
           "subunitcolor": "white"
          },
          "hoverlabel": {
           "align": "left"
          },
          "hovermode": "closest",
          "mapbox": {
           "style": "light"
          },
          "paper_bgcolor": "white",
          "plot_bgcolor": "#E5ECF6",
          "polar": {
           "angularaxis": {
            "gridcolor": "white",
            "linecolor": "white",
            "ticks": ""
           },
           "bgcolor": "#E5ECF6",
           "radialaxis": {
            "gridcolor": "white",
            "linecolor": "white",
            "ticks": ""
           }
          },
          "scene": {
           "xaxis": {
            "backgroundcolor": "#E5ECF6",
            "gridcolor": "white",
            "gridwidth": 2,
            "linecolor": "white",
            "showbackground": true,
            "ticks": "",
            "zerolinecolor": "white"
           },
           "yaxis": {
            "backgroundcolor": "#E5ECF6",
            "gridcolor": "white",
            "gridwidth": 2,
            "linecolor": "white",
            "showbackground": true,
            "ticks": "",
            "zerolinecolor": "white"
           },
           "zaxis": {
            "backgroundcolor": "#E5ECF6",
            "gridcolor": "white",
            "gridwidth": 2,
            "linecolor": "white",
            "showbackground": true,
            "ticks": "",
            "zerolinecolor": "white"
           }
          },
          "shapedefaults": {
           "line": {
            "color": "#2a3f5f"
           }
          },
          "ternary": {
           "aaxis": {
            "gridcolor": "white",
            "linecolor": "white",
            "ticks": ""
           },
           "baxis": {
            "gridcolor": "white",
            "linecolor": "white",
            "ticks": ""
           },
           "bgcolor": "#E5ECF6",
           "caxis": {
            "gridcolor": "white",
            "linecolor": "white",
            "ticks": ""
           }
          },
          "title": {
           "x": 0.05
          },
          "xaxis": {
           "automargin": true,
           "gridcolor": "white",
           "linecolor": "white",
           "ticks": "",
           "title": {
            "standoff": 15
           },
           "zerolinecolor": "white",
           "zerolinewidth": 2
          },
          "yaxis": {
           "automargin": true,
           "gridcolor": "white",
           "linecolor": "white",
           "ticks": "",
           "title": {
            "standoff": 15
           },
           "zerolinecolor": "white",
           "zerolinewidth": 2
          }
         }
        },
        "title": {
         "text": "Amount of fraudulent transactions"
        },
        "xaxis": {
         "showticklabels": true,
         "title": {
          "text": "Time [hr]"
         }
        },
        "yaxis": {
         "title": {
          "text": "Amount"
         }
        }
       }
      },
      "text/html": [
       "<div>\n",
       "        \n",
       "        \n",
       "            <div id=\"578f7692-80f8-4a20-9424-4fc3a1ff7de3\" class=\"plotly-graph-div\" style=\"height:525px; width:100%;\"></div>\n",
       "            <script type=\"text/javascript\">\n",
       "                require([\"plotly\"], function(Plotly) {\n",
       "                    window.PLOTLYENV=window.PLOTLYENV || {};\n",
       "                    \n",
       "                if (document.getElementById(\"578f7692-80f8-4a20-9424-4fc3a1ff7de3\")) {\n",
       "                    Plotly.newPlot(\n",
       "                        '578f7692-80f8-4a20-9424-4fc3a1ff7de3',\n",
       "                        [{\"marker\": {\"color\": \"rgb(238,23,11)\", \"line\": {\"color\": \"red\", \"width\": 1}, \"opacity\": 0.5}, \"mode\": \"markers\", \"name\": \"Amount\", \"text\": [0.0, 529.0, 239.93, 59.0, 1.0, 1.0, 1.0, 1.0, 1.0, 1.0, 1.0, 1.0, 1.0, 1.0, 1.0, 1.0, 1.0, 1.0, 1.0, 1.0, 1.0, 1.1, 1.0, 1.0, 1809.68, 1.0, 1.0, 1.0, 1.0, 1.0, 0.0, 30.39, 179.66, 1.0, 1.0, 1.0, 1.0, 1.0, 11.39, 3.79, 3.79, 3.93, 1.0, 766.36, 1218.89, 1.0, 188.78, 1.0, 1.0, 1.0, 1.0, 1.0, 1.0, 1.0, 1.0, 1.0, 3.12, 99.99, 99.99, 99.99, 3.76, 99.99, 99.99, 99.99, 99.99, 99.99, 99.99, 99.99, 99.99, 99.99, 99.99, 99.99, 99.99, 23.36, 99.99, 730.86, 99.99, 99.99, 99.99, 99.99, 99.99, 0.68, 0.68, 0.68, 30.3, 104.81, 0.0, 717.15, 19.02, 1.52, 18.96, 125.3, 19.02, 0.76, 60.6, 7.61, 1.0, 9.13, 4.56, 14.46, 111.7, 111.7, 12.31, 776.83, 1.0, 1.0, 1.0, 1.0, 0.76, 0.76, 112.33, 3.79, 340.11, 88.23, 5.3, 83.38, 11.38, 1.52, 88.23, 30.26, 459.07, 0.0, 118.3, 45.49, 173.07, 37.32, 59.68, 0.76, 9.99, 34.12, 273.01, 106.55, 364.19, 39.45, 53.95, 172.32, 802.52, 99.99, 139.9, 1.0, 1.0, 1.0, 1.0, 1.0, 648.0, 204.27, 88.0, 24.9, 1.0, 1.0, 1.0, 105.99, 1.0, 1.0, 1.0, 1.0, 0.76, 7.58, 0.76, 0.76, 208.58, 1.0, 19.73, 360.0, 99.99, 99.99, 99.99, 99.99, 99.99, 519.9, 0.76, 0.76, 1.18, 8.0, 0.0, 112.45, 261.87, 1.79, 1.0, 0.83, 0.83, 130.44, 311.91, 170.92, 153.46, 7.52, 1.0, 5.0, 0.01, 444.17, 1.0, 1.0, 1.0, 1.75, 5.09, 270.0, 113.92, 45.64, 1389.56, 18.98, 6.27, 319.2, 5.91, 454.82, 101.5, 19.04, 6.62, 180.0, 1.0, 1.1, 1402.16, 290.18, 294.9, 1.0, 0.0, 0.0, 720.38, 31.91, 1354.25, 98.01, 101.5, 7.53, 489.71, 549.06, 320.0, 1.0, 1.0, 1.0, 1.0, 1.0, 1.0, 19.59, 1.0, 227.3, 3.79, 318.11, 824.83, 0.76, 426.4, 238.9, 45.03, 16.48, 76.94, 311.28, 30.14, 29.95, 124.53, 99.85, 99.9, 219.8, 254.76, 1.0, 1.0, 1.0, 1.0, 129.0, 1.0, 1.0, 1.0, 106.9, 60.0, 0.2, 7.57, 1.0, 1.0, 0.0, 0.0, 512.25, 512.25, 12.31, 354.33, 2.0, 0.0, 0.0, 252.92, 252.92, 1.0, 240.77, 1.0, 310.42, 323.77, 451.27, 829.41, 1.18, 9.21, 6.99, 38.76, 52.69, 1.0, 1.0, 261.22, 18.0, 600.73, 1.0, 75.86, 8.54, 0.01, 44.9, 44.9, 316.06, 316.06, 209.65, 78.0, 78.0, 188.52, 188.52, 30.31, 30.31, 104.03, 104.03, 1.0, 1.0, 37.93, 97.0, 11.4, 45.48, 1.0, 1.0, 1.0, 1.0, 1.0, 33.76, 571.48, 1.63, 1.63, 18.96, 33.59, 1.0, 8.64, 9.82, 2.28, 1.0, 0.76, 1.0, 0.92, 2.28, 147.87, 0.0, 22.04, 0.0, 104.0, 2.28, 0.01, 1.0, 346.94, 7.59, 0.0, 0.0, 119.74, 2.27, 0.0, 186.13, 1.0, 0.76, 80.22, 635.1, 17.06, 65.0, 105.89, 105.89, 144.62, 2125.87, 11.0, 45.51, 40.0, 3.22, 0.0, 25.0, 67.9, 93.35, 1.0, 175.9, 720.8, 7.18, 4.87, 80.9, 0.0, 2.0, 1.0, 362.55, 276.17, 723.21, 480.72, 1.0, 1335.0, 0.0, 130.21, 1.0, 925.31, 0.0, 345.0, 108.51, 84.28, 39.45, 0.01, 727.91, 22.47, 8.3, 120.54, 0.69, 723.21, 0.77, 592.9, 195.66, 4.49, 0.76, 324.59, 320.01, 2.0, 144.8, 0.0, 1.0, 1.0, 8.9, 1.0, 667.55, 0.0, 1.18, 2.22, 0.77, 94.82, 8.0, 996.27, 0.0, 1.59, 1.59, 0.0, 0.76, 0.76, 122.68, 0.0, 1.0, 1.1, 2.0, 17.39, 50.0, 237.26, 1.0, 9.29, 10.7, 0.01, 57.73, 1.0, 1.0, 1.0, 1.0, 1.0, 2.47, 357.95, 247.86, 51.37, 0.0, 0.76, 1504.93, 1096.99, 35.0, 6.74, 0.77, 0.77, 0.77, 3.9, 3.14, 7.06, 94.82, 0.77, 0.77, 187.11, 7.59, 4.97, 0.77, 296.0, 45.51, 4.9, 156.0, 4.69, 0.77, 1.0, 0.77, 127.14, 0.38, 39.98, 12.31, 0.0, 39.9, 634.3, 19.95, 349.08, 390.0, 0.76, 77.89, 245.0, 42.53], \"type\": \"scatter\", \"x\": [0.11277777777777778, 0.13111111111111112, 1.2394444444444443, 1.9405555555555556, 2.088611111111111, 2.0905555555555555, 2.0930555555555554, 2.0952777777777776, 2.0975, 2.113888888888889, 2.131111111111111, 2.15, 2.1919444444444443, 2.2472222222222222, 2.2691666666666666, 2.3355555555555556, 2.3375, 2.3475, 2.368888888888889, 2.392777777777778, 2.4325, 2.4466666666666668, 2.466111111111111, 2.4683333333333333, 2.517777777777778, 3.077777777777778, 3.081111111111111, 3.0919444444444446, 3.230277777777778, 3.2319444444444443, 3.359166666666667, 3.359722222222222, 3.4425, 3.4991666666666665, 3.6461111111111113, 3.700833333333333, 3.9091666666666667, 3.931111111111111, 4.393611111111111, 4.774166666666667, 4.783333333333333, 4.786111111111111, 4.866666666666666, 4.955, 5.024444444444445, 5.110833333333333, 5.1875, 5.191666666666666, 5.489444444444445, 5.558611111111111, 5.647777777777778, 5.680833333333333, 5.814166666666667, 5.846111111111111, 5.949722222222222, 6.017222222222222, 6.970833333333333, 6.999444444444444, 7.008611111111111, 7.015, 7.062777777777778, 7.3675, 7.376666666666667, 7.384722222222222, 7.453611111111111, 7.461944444444445, 7.4719444444444445, 7.480833333333333, 7.489166666666667, 7.545277777777778, 7.551944444444445, 7.560833333333333, 7.57, 7.717777777777778, 7.8175, 7.845, 7.951388888888889, 7.960555555555556, 7.97, 7.979444444444445, 7.9875, 8.201666666666666, 8.203055555555556, 8.264722222222222, 8.27361111111111, 8.57, 9.079444444444444, 9.095833333333333, 9.515555555555556, 9.589166666666667, 9.620555555555555, 9.634444444444444, 9.635277777777778, 9.884722222222223, 9.936388888888889, 9.962777777777777, 9.971944444444444, 9.973888888888888, 9.979444444444445, 9.983888888888888, 9.986944444444445, 10.047222222222222, 10.324166666666667, 11.035833333333333, 11.135, 11.187777777777777, 11.295, 11.317222222222222, 11.358888888888888, 11.366111111111111, 11.366388888888888, 11.421111111111111, 11.427222222222222, 11.429722222222223, 11.434444444444445, 11.436111111111112, 11.439166666666667, 11.442777777777778, 11.445277777777777, 11.445555555555556, 11.451944444444445, 11.453611111111112, 11.454722222222221, 11.456388888888888, 11.464722222222223, 11.468055555555555, 11.473611111111111, 11.474444444444444, 11.475833333333334, 11.486944444444445, 11.499166666666667, 11.50361111111111, 11.529166666666667, 11.550555555555556, 11.5575, 11.568333333333333, 11.595277777777778, 11.608611111111111, 11.625277777777777, 11.630555555555556, 11.664166666666667, 11.735277777777778, 11.798333333333334, 11.940277777777778, 11.94111111111111, 11.952222222222222, 12.046944444444444, 12.081666666666667, 12.331388888888888, 12.37, 12.62861111111111, 12.639166666666666, 12.650277777777777, 12.793611111111112, 12.819166666666666, 13.034722222222221, 13.206944444444444, 13.285, 13.311944444444444, 13.328333333333333, 13.438888888888888, 13.481388888888889, 13.578888888888889, 13.884722222222223, 14.085, 14.113333333333333, 14.197777777777778, 14.204166666666667, 14.209722222222222, 14.670555555555556, 14.703888888888889, 14.730833333333333, 14.743333333333334, 14.8475, 14.905, 14.924166666666666, 14.9825, 15.235, 15.355277777777777, 15.364166666666666, 15.448333333333334, 15.449444444444444, 15.488888888888889, 15.582777777777778, 15.72888888888889, 15.73611111111111, 15.779444444444444, 15.801944444444445, 15.835277777777778, 15.840833333333334, 15.87861111111111, 16.127777777777776, 16.129722222222224, 16.16638888888889, 16.171388888888888, 16.172777777777778, 16.289444444444445, 16.339444444444446, 16.391944444444444, 16.495833333333334, 16.57472222222222, 16.60472222222222, 16.622222222222224, 16.764722222222222, 16.974444444444444, 17.12388888888889, 17.238611111111112, 17.244444444444444, 17.31388888888889, 17.316944444444445, 17.351944444444445, 17.660555555555554, 17.80361111111111, 17.892222222222223, 17.900833333333335, 17.940277777777776, 17.995833333333334, 18.155, 18.1625, 18.25777777777778, 18.315555555555555, 18.343611111111112, 18.65277777777778, 18.76972222222222, 18.849166666666665, 18.94638888888889, 18.94638888888889, 18.94638888888889, 18.94638888888889, 18.94638888888889, 18.94638888888889, 18.988055555555555, 19.27611111111111, 19.464166666666667, 19.508055555555554, 19.519444444444446, 19.593333333333334, 19.674444444444443, 19.73138888888889, 20.090833333333332, 20.22888888888889, 20.391111111111112, 20.599722222222223, 20.628333333333334, 20.8425, 20.98777777777778, 20.994722222222222, 21.06972222222222, 21.105, 21.270833333333332, 21.340555555555557, 21.345833333333335, 21.349166666666665, 21.351944444444445, 21.354444444444443, 21.43166666666667, 21.43638888888889, 21.439444444444444, 21.445, 21.563055555555554, 21.868055555555557, 22.094444444444445, 22.60333333333333, 22.858055555555556, 23.315, 23.39, 23.39, 23.39, 23.39, 23.52611111111111, 23.5525, 23.66138888888889, 23.690277777777776, 23.690277777777776, 23.690277777777776, 23.690277777777776, 23.77027777777778, 23.77111111111111, 23.851111111111113, 23.851944444444445, 23.993333333333332, 24.22277777777778, 24.411944444444444, 24.63111111111111, 24.649166666666666, 25.18777777777778, 25.29861111111111, 25.390833333333333, 25.41722222222222, 25.423333333333332, 25.43166666666667, 25.58111111111111, 25.58388888888889, 26.039444444444445, 26.061944444444446, 26.06222222222222, 26.065, 26.07027777777778, 26.07027777777778, 26.07027777777778, 26.07027777777778, 26.07111111111111, 26.072222222222223, 26.072222222222223, 26.072222222222223, 26.072222222222223, 26.0775, 26.0775, 26.0775, 26.0775, 26.08, 26.0825, 26.084444444444443, 26.08888888888889, 26.101388888888888, 26.150277777777777, 26.211666666666666, 26.211666666666666, 26.211666666666666, 26.211666666666666, 26.212222222222223, 26.28472222222222, 26.375555555555554, 26.544166666666666, 26.563333333333333, 26.704166666666666, 26.7475, 26.865833333333335, 26.978055555555557, 27.009722222222223, 27.83972222222222, 27.860555555555557, 27.916944444444443, 28.034444444444443, 28.06972222222222, 28.1425, 28.22138888888889, 28.365, 28.421666666666667, 28.466666666666665, 28.469166666666666, 28.483888888888888, 28.49222222222222, 28.505277777777778, 28.50611111111111, 28.506944444444443, 28.519166666666667, 28.51972222222222, 28.52111111111111, 28.835555555555555, 30.360277777777778, 30.360555555555557, 30.579722222222223, 30.7075, 30.70888888888889, 30.726944444444445, 32.13638888888889, 32.240833333333335, 32.925555555555555, 32.945277777777775, 33.67722222222222, 34.05777777777778, 34.18833333333333, 34.3125, 34.77777777777778, 34.89222222222222, 34.905, 35.060833333333335, 35.68638888888889, 35.69972222222222, 35.72083333333333, 35.77861111111111, 35.859722222222224, 35.885, 35.895, 35.91888888888889, 35.93638888888889, 36.01888888888889, 36.03916666666667, 36.04555555555555, 36.05777777777778, 36.39555555555555, 36.690555555555555, 36.85777777777778, 36.995555555555555, 37.1475, 37.21055555555556, 37.435, 37.435833333333335, 37.48, 37.52638888888889, 37.528333333333336, 37.58722222222222, 38.11416666666667, 38.58166666666666, 38.595, 38.64083333333333, 38.64361111111111, 38.82416666666666, 38.83777777777778, 38.875277777777775, 38.97027777777778, 38.974444444444444, 39.25555555555555, 39.32361111111111, 39.423611111111114, 39.522222222222226, 39.55388888888889, 39.558055555555555, 39.67777777777778, 39.71138888888889, 39.82055555555556, 39.842777777777776, 39.84388888888889, 39.84888888888889, 40.224444444444444, 40.23305555555555, 40.56166666666667, 40.562777777777775, 40.60527777777778, 40.65111111111111, 40.83277777777778, 40.9725, 41.11888888888889, 41.12583333333333, 41.12583333333333, 41.13166666666667, 41.24111111111111, 41.24333333333333, 41.244166666666665, 41.41555555555556, 41.45444444444445, 41.550555555555555, 41.56666666666667, 41.57666666666667, 41.705, 41.70527777777778, 41.80388888888889, 41.930277777777775, 41.9525, 42.19888888888889, 42.214444444444446, 42.23222222222222, 42.23833333333334, 42.24944444444444, 42.268055555555556, 42.3075, 42.419444444444444, 42.445, 42.68138888888889, 42.71138888888889, 42.74305555555556, 42.82805555555556, 42.855, 42.86361111111111, 42.914722222222224, 42.94416666666667, 42.960277777777776, 43.07055555555556, 43.155277777777776, 43.204166666666666, 43.20611111111111, 43.20777777777778, 43.20944444444444, 43.239444444444445, 43.32361111111111, 43.52361111111111, 43.53055555555556, 43.66861111111111, 43.69, 44.06611111111111, 44.40111111111111, 44.45388888888889, 44.511944444444445, 44.59361111111111, 44.62916666666667, 44.66416666666667, 44.68611111111111, 44.69305555555555, 44.765, 45.32805555555556, 45.87, 46.10583333333334, 46.11888888888889, 46.341944444444444, 46.35638888888889, 46.48277777777778, 46.98388888888889, 47.04083333333333, 47.04194444444445, 47.21277777777778, 47.318888888888885], \"y\": [0.0, 529.0, 239.93, 59.0, 1.0, 1.0, 1.0, 1.0, 1.0, 1.0, 1.0, 1.0, 1.0, 1.0, 1.0, 1.0, 1.0, 1.0, 1.0, 1.0, 1.0, 1.1, 1.0, 1.0, 1809.68, 1.0, 1.0, 1.0, 1.0, 1.0, 0.0, 30.39, 179.66, 1.0, 1.0, 1.0, 1.0, 1.0, 11.39, 3.79, 3.79, 3.93, 1.0, 766.36, 1218.89, 1.0, 188.78, 1.0, 1.0, 1.0, 1.0, 1.0, 1.0, 1.0, 1.0, 1.0, 3.12, 99.99, 99.99, 99.99, 3.76, 99.99, 99.99, 99.99, 99.99, 99.99, 99.99, 99.99, 99.99, 99.99, 99.99, 99.99, 99.99, 23.36, 99.99, 730.86, 99.99, 99.99, 99.99, 99.99, 99.99, 0.68, 0.68, 0.68, 30.3, 104.81, 0.0, 717.15, 19.02, 1.52, 18.96, 125.3, 19.02, 0.76, 60.6, 7.61, 1.0, 9.13, 4.56, 14.46, 111.7, 111.7, 12.31, 776.83, 1.0, 1.0, 1.0, 1.0, 0.76, 0.76, 112.33, 3.79, 340.11, 88.23, 5.3, 83.38, 11.38, 1.52, 88.23, 30.26, 459.07, 0.0, 118.3, 45.49, 173.07, 37.32, 59.68, 0.76, 9.99, 34.12, 273.01, 106.55, 364.19, 39.45, 53.95, 172.32, 802.52, 99.99, 139.9, 1.0, 1.0, 1.0, 1.0, 1.0, 648.0, 204.27, 88.0, 24.9, 1.0, 1.0, 1.0, 105.99, 1.0, 1.0, 1.0, 1.0, 0.76, 7.58, 0.76, 0.76, 208.58, 1.0, 19.73, 360.0, 99.99, 99.99, 99.99, 99.99, 99.99, 519.9, 0.76, 0.76, 1.18, 8.0, 0.0, 112.45, 261.87, 1.79, 1.0, 0.83, 0.83, 130.44, 311.91, 170.92, 153.46, 7.52, 1.0, 5.0, 0.01, 444.17, 1.0, 1.0, 1.0, 1.75, 5.09, 270.0, 113.92, 45.64, 1389.56, 18.98, 6.27, 319.2, 5.91, 454.82, 101.5, 19.04, 6.62, 180.0, 1.0, 1.1, 1402.16, 290.18, 294.9, 1.0, 0.0, 0.0, 720.38, 31.91, 1354.25, 98.01, 101.5, 7.53, 489.71, 549.06, 320.0, 1.0, 1.0, 1.0, 1.0, 1.0, 1.0, 19.59, 1.0, 227.3, 3.79, 318.11, 824.83, 0.76, 426.4, 238.9, 45.03, 16.48, 76.94, 311.28, 30.14, 29.95, 124.53, 99.85, 99.9, 219.8, 254.76, 1.0, 1.0, 1.0, 1.0, 129.0, 1.0, 1.0, 1.0, 106.9, 60.0, 0.2, 7.57, 1.0, 1.0, 0.0, 0.0, 512.25, 512.25, 12.31, 354.33, 2.0, 0.0, 0.0, 252.92, 252.92, 1.0, 240.77, 1.0, 310.42, 323.77, 451.27, 829.41, 1.18, 9.21, 6.99, 38.76, 52.69, 1.0, 1.0, 261.22, 18.0, 600.73, 1.0, 75.86, 8.54, 0.01, 44.9, 44.9, 316.06, 316.06, 209.65, 78.0, 78.0, 188.52, 188.52, 30.31, 30.31, 104.03, 104.03, 1.0, 1.0, 37.93, 97.0, 11.4, 45.48, 1.0, 1.0, 1.0, 1.0, 1.0, 33.76, 571.48, 1.63, 1.63, 18.96, 33.59, 1.0, 8.64, 9.82, 2.28, 1.0, 0.76, 1.0, 0.92, 2.28, 147.87, 0.0, 22.04, 0.0, 104.0, 2.28, 0.01, 1.0, 346.94, 7.59, 0.0, 0.0, 119.74, 2.27, 0.0, 186.13, 1.0, 0.76, 80.22, 635.1, 17.06, 65.0, 105.89, 105.89, 144.62, 2125.87, 11.0, 45.51, 40.0, 3.22, 0.0, 25.0, 67.9, 93.35, 1.0, 175.9, 720.8, 7.18, 4.87, 80.9, 0.0, 2.0, 1.0, 362.55, 276.17, 723.21, 480.72, 1.0, 1335.0, 0.0, 130.21, 1.0, 925.31, 0.0, 345.0, 108.51, 84.28, 39.45, 0.01, 727.91, 22.47, 8.3, 120.54, 0.69, 723.21, 0.77, 592.9, 195.66, 4.49, 0.76, 324.59, 320.01, 2.0, 144.8, 0.0, 1.0, 1.0, 8.9, 1.0, 667.55, 0.0, 1.18, 2.22, 0.77, 94.82, 8.0, 996.27, 0.0, 1.59, 1.59, 0.0, 0.76, 0.76, 122.68, 0.0, 1.0, 1.1, 2.0, 17.39, 50.0, 237.26, 1.0, 9.29, 10.7, 0.01, 57.73, 1.0, 1.0, 1.0, 1.0, 1.0, 2.47, 357.95, 247.86, 51.37, 0.0, 0.76, 1504.93, 1096.99, 35.0, 6.74, 0.77, 0.77, 0.77, 3.9, 3.14, 7.06, 94.82, 0.77, 0.77, 187.11, 7.59, 4.97, 0.77, 296.0, 45.51, 4.9, 156.0, 4.69, 0.77, 1.0, 0.77, 127.14, 0.38, 39.98, 12.31, 0.0, 39.9, 634.3, 19.95, 349.08, 390.0, 0.76, 77.89, 245.0, 42.53]}],\n",
       "                        {\"hovermode\": \"closest\", \"template\": {\"data\": {\"bar\": [{\"error_x\": {\"color\": \"#2a3f5f\"}, \"error_y\": {\"color\": \"#2a3f5f\"}, \"marker\": {\"line\": {\"color\": \"#E5ECF6\", \"width\": 0.5}}, \"type\": \"bar\"}], \"barpolar\": [{\"marker\": {\"line\": {\"color\": \"#E5ECF6\", \"width\": 0.5}}, \"type\": \"barpolar\"}], \"carpet\": [{\"aaxis\": {\"endlinecolor\": \"#2a3f5f\", \"gridcolor\": \"white\", \"linecolor\": \"white\", \"minorgridcolor\": \"white\", \"startlinecolor\": \"#2a3f5f\"}, \"baxis\": {\"endlinecolor\": \"#2a3f5f\", \"gridcolor\": \"white\", \"linecolor\": \"white\", \"minorgridcolor\": \"white\", \"startlinecolor\": \"#2a3f5f\"}, \"type\": \"carpet\"}], \"choropleth\": [{\"colorbar\": {\"outlinewidth\": 0, \"ticks\": \"\"}, \"type\": \"choropleth\"}], \"contour\": [{\"colorbar\": {\"outlinewidth\": 0, \"ticks\": \"\"}, \"colorscale\": [[0.0, \"#0d0887\"], [0.1111111111111111, \"#46039f\"], [0.2222222222222222, \"#7201a8\"], [0.3333333333333333, \"#9c179e\"], [0.4444444444444444, \"#bd3786\"], [0.5555555555555556, \"#d8576b\"], [0.6666666666666666, \"#ed7953\"], [0.7777777777777778, \"#fb9f3a\"], [0.8888888888888888, \"#fdca26\"], [1.0, \"#f0f921\"]], \"type\": \"contour\"}], \"contourcarpet\": [{\"colorbar\": {\"outlinewidth\": 0, \"ticks\": \"\"}, \"type\": \"contourcarpet\"}], \"heatmap\": [{\"colorbar\": {\"outlinewidth\": 0, \"ticks\": \"\"}, \"colorscale\": [[0.0, \"#0d0887\"], [0.1111111111111111, \"#46039f\"], [0.2222222222222222, \"#7201a8\"], [0.3333333333333333, \"#9c179e\"], [0.4444444444444444, \"#bd3786\"], [0.5555555555555556, \"#d8576b\"], [0.6666666666666666, \"#ed7953\"], [0.7777777777777778, \"#fb9f3a\"], [0.8888888888888888, \"#fdca26\"], [1.0, \"#f0f921\"]], \"type\": \"heatmap\"}], \"heatmapgl\": [{\"colorbar\": {\"outlinewidth\": 0, \"ticks\": \"\"}, \"colorscale\": [[0.0, \"#0d0887\"], [0.1111111111111111, \"#46039f\"], [0.2222222222222222, \"#7201a8\"], [0.3333333333333333, \"#9c179e\"], [0.4444444444444444, \"#bd3786\"], [0.5555555555555556, \"#d8576b\"], [0.6666666666666666, \"#ed7953\"], [0.7777777777777778, \"#fb9f3a\"], [0.8888888888888888, \"#fdca26\"], [1.0, \"#f0f921\"]], \"type\": \"heatmapgl\"}], \"histogram\": [{\"marker\": {\"colorbar\": {\"outlinewidth\": 0, \"ticks\": \"\"}}, \"type\": \"histogram\"}], \"histogram2d\": [{\"colorbar\": {\"outlinewidth\": 0, \"ticks\": \"\"}, \"colorscale\": [[0.0, \"#0d0887\"], [0.1111111111111111, \"#46039f\"], [0.2222222222222222, \"#7201a8\"], [0.3333333333333333, \"#9c179e\"], [0.4444444444444444, \"#bd3786\"], [0.5555555555555556, \"#d8576b\"], [0.6666666666666666, \"#ed7953\"], [0.7777777777777778, \"#fb9f3a\"], [0.8888888888888888, \"#fdca26\"], [1.0, \"#f0f921\"]], \"type\": \"histogram2d\"}], \"histogram2dcontour\": [{\"colorbar\": {\"outlinewidth\": 0, \"ticks\": \"\"}, \"colorscale\": [[0.0, \"#0d0887\"], [0.1111111111111111, \"#46039f\"], [0.2222222222222222, \"#7201a8\"], [0.3333333333333333, \"#9c179e\"], [0.4444444444444444, \"#bd3786\"], [0.5555555555555556, \"#d8576b\"], [0.6666666666666666, \"#ed7953\"], [0.7777777777777778, \"#fb9f3a\"], [0.8888888888888888, \"#fdca26\"], [1.0, \"#f0f921\"]], \"type\": \"histogram2dcontour\"}], \"mesh3d\": [{\"colorbar\": {\"outlinewidth\": 0, \"ticks\": \"\"}, \"type\": \"mesh3d\"}], \"parcoords\": [{\"line\": {\"colorbar\": {\"outlinewidth\": 0, \"ticks\": \"\"}}, \"type\": \"parcoords\"}], \"pie\": [{\"automargin\": true, \"type\": \"pie\"}], \"scatter\": [{\"marker\": {\"colorbar\": {\"outlinewidth\": 0, \"ticks\": \"\"}}, \"type\": \"scatter\"}], \"scatter3d\": [{\"line\": {\"colorbar\": {\"outlinewidth\": 0, \"ticks\": \"\"}}, \"marker\": {\"colorbar\": {\"outlinewidth\": 0, \"ticks\": \"\"}}, \"type\": \"scatter3d\"}], \"scattercarpet\": [{\"marker\": {\"colorbar\": {\"outlinewidth\": 0, \"ticks\": \"\"}}, \"type\": \"scattercarpet\"}], \"scattergeo\": [{\"marker\": {\"colorbar\": {\"outlinewidth\": 0, \"ticks\": \"\"}}, \"type\": \"scattergeo\"}], \"scattergl\": [{\"marker\": {\"colorbar\": {\"outlinewidth\": 0, \"ticks\": \"\"}}, \"type\": \"scattergl\"}], \"scattermapbox\": [{\"marker\": {\"colorbar\": {\"outlinewidth\": 0, \"ticks\": \"\"}}, \"type\": \"scattermapbox\"}], \"scatterpolar\": [{\"marker\": {\"colorbar\": {\"outlinewidth\": 0, \"ticks\": \"\"}}, \"type\": \"scatterpolar\"}], \"scatterpolargl\": [{\"marker\": {\"colorbar\": {\"outlinewidth\": 0, \"ticks\": \"\"}}, \"type\": \"scatterpolargl\"}], \"scatterternary\": [{\"marker\": {\"colorbar\": {\"outlinewidth\": 0, \"ticks\": \"\"}}, \"type\": \"scatterternary\"}], \"surface\": [{\"colorbar\": {\"outlinewidth\": 0, \"ticks\": \"\"}, \"colorscale\": [[0.0, \"#0d0887\"], [0.1111111111111111, \"#46039f\"], [0.2222222222222222, \"#7201a8\"], [0.3333333333333333, \"#9c179e\"], [0.4444444444444444, \"#bd3786\"], [0.5555555555555556, \"#d8576b\"], [0.6666666666666666, \"#ed7953\"], [0.7777777777777778, \"#fb9f3a\"], [0.8888888888888888, \"#fdca26\"], [1.0, \"#f0f921\"]], \"type\": \"surface\"}], \"table\": [{\"cells\": {\"fill\": {\"color\": \"#EBF0F8\"}, \"line\": {\"color\": \"white\"}}, \"header\": {\"fill\": {\"color\": \"#C8D4E3\"}, \"line\": {\"color\": \"white\"}}, \"type\": \"table\"}]}, \"layout\": {\"annotationdefaults\": {\"arrowcolor\": \"#2a3f5f\", \"arrowhead\": 0, \"arrowwidth\": 1}, \"coloraxis\": {\"colorbar\": {\"outlinewidth\": 0, \"ticks\": \"\"}}, \"colorscale\": {\"diverging\": [[0, \"#8e0152\"], [0.1, \"#c51b7d\"], [0.2, \"#de77ae\"], [0.3, \"#f1b6da\"], [0.4, \"#fde0ef\"], [0.5, \"#f7f7f7\"], [0.6, \"#e6f5d0\"], [0.7, \"#b8e186\"], [0.8, \"#7fbc41\"], [0.9, \"#4d9221\"], [1, \"#276419\"]], \"sequential\": [[0.0, \"#0d0887\"], [0.1111111111111111, \"#46039f\"], [0.2222222222222222, \"#7201a8\"], [0.3333333333333333, \"#9c179e\"], [0.4444444444444444, \"#bd3786\"], [0.5555555555555556, \"#d8576b\"], [0.6666666666666666, \"#ed7953\"], [0.7777777777777778, \"#fb9f3a\"], [0.8888888888888888, \"#fdca26\"], [1.0, \"#f0f921\"]], \"sequentialminus\": [[0.0, \"#0d0887\"], [0.1111111111111111, \"#46039f\"], [0.2222222222222222, \"#7201a8\"], [0.3333333333333333, \"#9c179e\"], [0.4444444444444444, \"#bd3786\"], [0.5555555555555556, \"#d8576b\"], [0.6666666666666666, \"#ed7953\"], [0.7777777777777778, \"#fb9f3a\"], [0.8888888888888888, \"#fdca26\"], [1.0, \"#f0f921\"]]}, \"colorway\": [\"#636efa\", \"#EF553B\", \"#00cc96\", \"#ab63fa\", \"#FFA15A\", \"#19d3f3\", \"#FF6692\", \"#B6E880\", \"#FF97FF\", \"#FECB52\"], \"font\": {\"color\": \"#2a3f5f\"}, \"geo\": {\"bgcolor\": \"white\", \"lakecolor\": \"white\", \"landcolor\": \"#E5ECF6\", \"showlakes\": true, \"showland\": true, \"subunitcolor\": \"white\"}, \"hoverlabel\": {\"align\": \"left\"}, \"hovermode\": \"closest\", \"mapbox\": {\"style\": \"light\"}, \"paper_bgcolor\": \"white\", \"plot_bgcolor\": \"#E5ECF6\", \"polar\": {\"angularaxis\": {\"gridcolor\": \"white\", \"linecolor\": \"white\", \"ticks\": \"\"}, \"bgcolor\": \"#E5ECF6\", \"radialaxis\": {\"gridcolor\": \"white\", \"linecolor\": \"white\", \"ticks\": \"\"}}, \"scene\": {\"xaxis\": {\"backgroundcolor\": \"#E5ECF6\", \"gridcolor\": \"white\", \"gridwidth\": 2, \"linecolor\": \"white\", \"showbackground\": true, \"ticks\": \"\", \"zerolinecolor\": \"white\"}, \"yaxis\": {\"backgroundcolor\": \"#E5ECF6\", \"gridcolor\": \"white\", \"gridwidth\": 2, \"linecolor\": \"white\", \"showbackground\": true, \"ticks\": \"\", \"zerolinecolor\": \"white\"}, \"zaxis\": {\"backgroundcolor\": \"#E5ECF6\", \"gridcolor\": \"white\", \"gridwidth\": 2, \"linecolor\": \"white\", \"showbackground\": true, \"ticks\": \"\", \"zerolinecolor\": \"white\"}}, \"shapedefaults\": {\"line\": {\"color\": \"#2a3f5f\"}}, \"ternary\": {\"aaxis\": {\"gridcolor\": \"white\", \"linecolor\": \"white\", \"ticks\": \"\"}, \"baxis\": {\"gridcolor\": \"white\", \"linecolor\": \"white\", \"ticks\": \"\"}, \"bgcolor\": \"#E5ECF6\", \"caxis\": {\"gridcolor\": \"white\", \"linecolor\": \"white\", \"ticks\": \"\"}}, \"title\": {\"x\": 0.05}, \"xaxis\": {\"automargin\": true, \"gridcolor\": \"white\", \"linecolor\": \"white\", \"ticks\": \"\", \"title\": {\"standoff\": 15}, \"zerolinecolor\": \"white\", \"zerolinewidth\": 2}, \"yaxis\": {\"automargin\": true, \"gridcolor\": \"white\", \"linecolor\": \"white\", \"ticks\": \"\", \"title\": {\"standoff\": 15}, \"zerolinecolor\": \"white\", \"zerolinewidth\": 2}}}, \"title\": {\"text\": \"Amount of fraudulent transactions\"}, \"xaxis\": {\"showticklabels\": true, \"title\": {\"text\": \"Time [hr]\"}}, \"yaxis\": {\"title\": {\"text\": \"Amount\"}}},\n",
       "                        {\"responsive\": true}\n",
       "                    ).then(function(){\n",
       "                            \n",
       "var gd = document.getElementById('578f7692-80f8-4a20-9424-4fc3a1ff7de3');\n",
       "var x = new MutationObserver(function (mutations, observer) {{\n",
       "        var display = window.getComputedStyle(gd).display;\n",
       "        if (!display || display === 'none') {{\n",
       "            console.log([gd, 'removed!']);\n",
       "            Plotly.purge(gd);\n",
       "            observer.disconnect();\n",
       "        }}\n",
       "}});\n",
       "\n",
       "// Listen for the removal of the full notebook cells\n",
       "var notebookContainer = gd.closest('#notebook-container');\n",
       "if (notebookContainer) {{\n",
       "    x.observe(notebookContainer, {childList: true});\n",
       "}}\n",
       "\n",
       "// Listen for the clearing of the current output cell\n",
       "var outputEl = gd.closest('.output');\n",
       "if (outputEl) {{\n",
       "    x.observe(outputEl, {childList: true});\n",
       "}}\n",
       "\n",
       "                        })\n",
       "                };\n",
       "                });\n",
       "            </script>\n",
       "        </div>"
      ]
     },
     "metadata": {},
     "output_type": "display_data"
    }
   ],
   "source": [
    "fraud = data_df.loc[data_df['Class'] == 1]\n",
    "\n",
    "trace = go.Scatter(\n",
    "    x = fraud['Time'],y = fraud['Amount'],\n",
    "    name=\"Amount\",\n",
    "     marker=dict(\n",
    "                color='rgb(238,23,11)',\n",
    "                line=dict(\n",
    "                    color='red',\n",
    "                    width=1),\n",
    "                opacity=0.5,\n",
    "            ),\n",
    "    text= fraud['Amount'],\n",
    "    mode = \"markers\"\n",
    ")\n",
    "data = [trace]\n",
    "layout = dict(title = 'Amount of fraudulent transactions',\n",
    "          xaxis = dict(title = 'Time [hr]', showticklabels=True), \n",
    "          yaxis = dict(title = 'Amount'),\n",
    "          hovermode='closest'\n",
    "         )\n",
    "fig = dict(data=data, layout=layout)\n",
    "iplot(fig, filename='fraud-amount')"
   ]
  },
  {
   "cell_type": "markdown",
   "metadata": {
    "_uuid": "1f144ed18c23667fde41f190c060a8bd4990b7be"
   },
   "source": [
    "## Features correlation"
   ]
  },
  {
   "cell_type": "code",
   "execution_count": 15,
   "metadata": {
    "_uuid": "2a35594b8bf2ec37febec7570d4d3a25872b648b"
   },
   "outputs": [
    {
     "data": {
      "image/png": "[encoded data removed]",
      "text/plain": [
       "<Figure size 1008x1008 with 2 Axes>"
      ]
     },
     "metadata": {
      "needs_background": "light"
     },
     "output_type": "display_data"
    }
   ],
   "source": [
    "plt.figure(figsize = (14,14))\n",
    "plt.title('Credit Card Transactions features correlation plot (Pearson)')\n",
    "corr = data_df.corr()\n",
    "sns.heatmap(corr,xticklabels=corr.columns,yticklabels=corr.columns,linewidths=.1,cmap=\"Reds\")\n",
    "plt.show()"
   ]
  },
  {
   "cell_type": "markdown",
   "metadata": {
    "_uuid": "8db97792d1f815582f037455e9ead600f8c9433c"
   },
   "source": [
    "As expected, there is no notable correlation between features **V1**-**V28**. There are certain correlations between some of these features and **Time** (inverse correlation with **V3**) and **Amount** (direct correlation with **V7** and **V20**, inverse correlation with **V1** and **V5**).\n",
    "\n",
    "\n",
    "Let's plot the correlated and inverse correlated values on the same graph.\n",
    "\n",
    "Let's start with the direct correlated values: {V20;Amount} and {V7;Amount}."
   ]
  },
  {
   "cell_type": "code",
   "execution_count": 16,
   "metadata": {
    "_uuid": "fd8f8bd03486fe3f2d7c89d00a5c0575a153d969"
   },
   "outputs": [
    {
     "data": {
      "image/png": "[encoded data removed]",
      "text/plain": [
       "<Figure size 402.375x360 with 1 Axes>"
      ]
     },
     "metadata": {
      "needs_background": "light"
     },
     "output_type": "display_data"
    },
    {
     "data": {
      "image/png": "[encoded data removed]",
      "text/plain": [
       "<Figure size 402.375x360 with 1 Axes>"
      ]
     },
     "metadata": {
      "needs_background": "light"
     },
     "output_type": "display_data"
    }
   ],
   "source": [
    "s = sns.lmplot(x='V20', y='Amount',data=data_df, hue='Class', fit_reg=True)\n",
    "s = sns.lmplot(x='V7', y='Amount',data=data_df, hue='Class', fit_reg=True)\n",
    "plt.show()"
   ]
  },
  {
   "cell_type": "markdown",
   "metadata": {
    "_uuid": "7430c8631e2a7b34b7d4b0dabf2fb006f88d6f8a"
   },
   "source": [
    "We can confirm that the two couples of features are correlated (the regression lines for **Class = 0** have a positive slope, whilst the regression line for **Class = 1** have a smaller positive slope).\n",
    "\n",
    "Let's plot now the inverse correlated values."
   ]
  },
  {
   "cell_type": "code",
   "execution_count": 17,
   "metadata": {
    "_uuid": "4ae4211f20ba8db85b7f8f61ade2d24788be9aa4"
   },
   "outputs": [
    {
     "data": {
      "image/png": "[encoded data removed]",
      "text/plain": [
       "<Figure size 402.375x360 with 1 Axes>"
      ]
     },
     "metadata": {
      "needs_background": "light"
     },
     "output_type": "display_data"
    },
    {
     "data": {
      "image/png": "[encoded data removed]",
      "text/plain": [
       "<Figure size 402.375x360 with 1 Axes>"
      ]
     },
     "metadata": {
      "needs_background": "light"
     },
     "output_type": "display_data"
    }
   ],
   "source": [
    "s = sns.lmplot(x='V2', y='Amount',data=data_df, hue='Class', fit_reg=True)\n",
    "s = sns.lmplot(x='V5', y='Amount',data=data_df, hue='Class', fit_reg=True)\n",
    "plt.show()"
   ]
  },
  {
   "cell_type": "markdown",
   "metadata": {
    "_uuid": "b5e0440e0cd0c950190fffc539ddeb63de13b7fb"
   },
   "source": [
    "We can confirm that the two couples of features are inverse correlated (the regression lines for **Class = 0** have a negative slope while the regression lines for **Class = 1** have a very small negative slope).\n"
   ]
  },
  {
   "cell_type": "markdown",
   "metadata": {},
   "source": [
    "### Linear Regression"
   ]
  },
  {
   "cell_type": "code",
   "execution_count": 18,
   "metadata": {},
   "outputs": [],
   "source": [
    "import statsmodels.api as sm\n",
    "from sklearn.model_selection import train_test_split\n",
    "from sklearn.metrics import r2_score, mean_squared_error\n",
    "import statsmodels.api as sm\n",
    "import scipy.stats as stats\n",
    "from sklearn.linear_model import Lasso,Ridge,LassoCV, RidgeCV\n",
    "from sklearn.linear_model import ElasticNet,ElasticNetCV\n",
    "from sklearn.model_selection import train_test_split\n",
    "from sklearn.linear_model import LinearRegression"
   ]
  },
  {
   "cell_type": "code",
   "execution_count": 19,
   "metadata": {},
   "outputs": [],
   "source": [
    "y=data_df['Class']\n",
    "X=data_df.iloc[:,:-1]\n",
    "X_train,X_test,y_train,y_test=train_test_split(X,y,test_size=0.3) \n",
    "lr=LinearRegression()\n",
    "model1=lr.fit(X_train,y_train)"
   ]
  },
  {
   "cell_type": "code",
   "execution_count": 20,
   "metadata": {},
   "outputs": [
    {
     "name": "stdout",
     "output_type": "stream",
     "text": [
      "['Time', 'V1', 'V2', 'V3', 'V4', 'V5', 'V6', 'V7', 'V8', 'V9', 'V10', 'V11', 'V12', 'V13', 'V14', 'V16', 'V17', 'V18', 'V19', 'V21', 'V22', 'V23', 'V24', 'V25', 'V26', 'V27', 'V28', 'Amount']\n"
     ]
    }
   ],
   "source": [
    "#Backward elimination\n",
    "\n",
    "#cols=list(x.columns) \n",
    "cols = X.columns.tolist()\n",
    "pmax=1\n",
    "while len(cols)>0:\n",
    "    p=[]\n",
    "    x_1=X[cols]\n",
    "    model=sm.OLS(y,x_1).fit()\n",
    "    p=pd.Series(model.pvalues.values,index=cols)\n",
    "    pmax=max(p)\n",
    "    feature_max_p=p.idxmax()\n",
    "    if (pmax>0.05):\n",
    "        cols.remove(feature_max_p)\n",
    "    else:\n",
    "        break\n",
    "\n",
    "selected_features_BE=cols\n",
    "print(selected_features_BE)"
   ]
  },
  {
   "cell_type": "code",
   "execution_count": 21,
   "metadata": {},
   "outputs": [],
   "source": [
    "y=data_df['Class']\n",
    "X=data_df[selected_features_BE]\n",
    "X_train,X_test,y_train,y_test=train_test_split(X,y,test_size=0.3) \n",
    "lr=LinearRegression()\n",
    "model1=lr.fit(X_train,y_train)"
   ]
  },
  {
   "cell_type": "code",
   "execution_count": 22,
   "metadata": {},
   "outputs": [
    {
     "name": "stdout",
     "output_type": "stream",
     "text": [
      "Coefficient b0- [-1.13299978e-05 -1.83550555e-03  2.93422890e-03 -4.93557081e-03\n",
      "  3.73308282e-03 -2.15045094e-03 -1.76802904e-03 -6.87063556e-03\n",
      "  1.01532953e-03 -3.60599218e-03 -7.99289388e-03  6.31045367e-03\n",
      " -1.07480355e-02 -2.22396650e-04 -1.31294139e-02 -9.36152168e-03\n",
      " -1.61102174e-02 -5.67865295e-03  1.96687129e-03  1.69013233e-03\n",
      "  3.32237413e-04  1.32202181e-04 -4.35424864e-04  4.65469288e-04\n",
      "  3.41457597e-04  1.79523777e-03  1.45850470e-03  8.95406096e-06]\n",
      "Intercept -  0.0011980884416737687\n"
     ]
    }
   ],
   "source": [
    "print(\"Coefficient b0-\",model1.coef_)\n",
    "print(\"Intercept - \",model1.intercept_)"
   ]
  },
  {
   "cell_type": "code",
   "execution_count": 23,
   "metadata": {},
   "outputs": [
    {
     "name": "stdout",
     "output_type": "stream",
     "text": [
      "                                 OLS Regression Results                                \n",
      "=======================================================================================\n",
      "Dep. Variable:                  Class   R-squared (uncentered):                   0.522\n",
      "Model:                            OLS   Adj. R-squared (uncentered):              0.522\n",
      "Method:                 Least Squares   F-statistic:                          1.112e+04\n",
      "Date:                Sat, 23 Nov 2019   Prob (F-statistic):                        0.00\n",
      "Time:                        07:47:27   Log-Likelihood:                      6.0693e+05\n",
      "No. Observations:              284807   AIC:                                 -1.214e+06\n",
      "Df Residuals:                  284779   BIC:                                 -1.214e+06\n",
      "Df Model:                          28                                                  \n",
      "Covariance Type:            nonrobust                                                  \n",
      "==============================================================================\n",
      "                 coef    std err          t      P>|t|      [0.025      0.975]\n",
      "------------------------------------------------------------------------------\n",
      "Time        2.713e-05   2.32e-06     11.690      0.000    2.26e-05    3.17e-05\n",
      "V1            -0.0019   3.11e-05    -60.615      0.000      -0.002      -0.002\n",
      "V2             0.0031   4.92e-05     62.797      0.000       0.003       0.003\n",
      "V3            -0.0048   3.79e-05   -127.857      0.000      -0.005      -0.005\n",
      "V4             0.0038   3.92e-05     96.167      0.000       0.004       0.004\n",
      "V5            -0.0022   5.21e-05    -42.462      0.000      -0.002      -0.002\n",
      "V6            -0.0017   4.49e-05    -38.861      0.000      -0.002      -0.002\n",
      "V7            -0.0071   5.63e-05   -126.061      0.000      -0.007      -0.007\n",
      "V8             0.0009    4.6e-05     19.875      0.000       0.001       0.001\n",
      "V9            -0.0036   4.92e-05    -73.003      0.000      -0.004      -0.003\n",
      "V10           -0.0081   5.07e-05   -158.818      0.000      -0.008      -0.008\n",
      "V11            0.0064   5.33e-05    119.936      0.000       0.006       0.006\n",
      "V12           -0.0109   5.41e-05   -200.720      0.000      -0.011      -0.011\n",
      "V13           -0.0002   5.41e-05     -3.327      0.001      -0.000    -7.4e-05\n",
      "V14           -0.0132   5.65e-05   -232.789      0.000      -0.013      -0.013\n",
      "V16           -0.0093   6.14e-05   -151.508      0.000      -0.009      -0.009\n",
      "V17           -0.0160   6.35e-05   -251.373      0.000      -0.016      -0.016\n",
      "V18           -0.0057   6.44e-05    -88.066      0.000      -0.006      -0.006\n",
      "V19            0.0019   6.67e-05     28.971      0.000       0.002       0.002\n",
      "V21            0.0019   7.49e-05     25.449      0.000       0.002       0.002\n",
      "V22            0.0002   7.56e-05      2.585      0.010    4.72e-05       0.000\n",
      "V23            0.0002    8.9e-05      2.665      0.008    6.28e-05       0.000\n",
      "V24           -0.0005   8.89e-05     -5.698      0.000      -0.001      -0.000\n",
      "V25            0.0006      0.000      6.255      0.000       0.000       0.001\n",
      "V26            0.0004      0.000      3.859      0.000       0.000       0.001\n",
      "V27            0.0016      0.000     12.250      0.000       0.001       0.002\n",
      "V28            0.0011      0.000      6.947      0.000       0.001       0.001\n",
      "Amount      9.867e-06    4.6e-07     21.454      0.000    8.97e-06    1.08e-05\n",
      "==============================================================================\n",
      "Omnibus:                   596296.589   Durbin-Watson:                   1.971\n",
      "Prob(Omnibus):                  0.000   Jarque-Bera (JB):       8559247519.937\n",
      "Skew:                          17.562   Prob(JB):                         0.00\n",
      "Kurtosis:                     851.548   Cond. No.                         804.\n",
      "==============================================================================\n",
      "\n",
      "Warnings:\n",
      "[1] Standard Errors assume that the covariance matrix of the errors is correctly specified.\n"
     ]
    }
   ],
   "source": [
    "model=sm.OLS(y,X)\n",
    "result=model.fit()\n",
    "print(result.summary())"
   ]
  },
  {
   "cell_type": "code",
   "execution_count": 24,
   "metadata": {},
   "outputs": [
    {
     "data": {
      "text/html": [
       "<div>\n",
       "<style scoped>\n",
       "    .dataframe tbody tr th:only-of-type {\n",
       "        vertical-align: middle;\n",
       "    }\n",
       "\n",
       "    .dataframe tbody tr th {\n",
       "        vertical-align: top;\n",
       "    }\n",
       "\n",
       "    .dataframe thead th {\n",
       "        text-align: right;\n",
       "    }\n",
       "</style>\n",
       "<table border=\"1\" class=\"dataframe\">\n",
       "  <thead>\n",
       "    <tr style=\"text-align: right;\">\n",
       "      <th></th>\n",
       "      <th>vif</th>\n",
       "    </tr>\n",
       "  </thead>\n",
       "  <tbody>\n",
       "    <tr>\n",
       "      <td>Time</td>\n",
       "      <td>1.612373</td>\n",
       "    </tr>\n",
       "    <tr>\n",
       "      <td>V1</td>\n",
       "      <td>1.278046</td>\n",
       "    </tr>\n",
       "    <tr>\n",
       "      <td>V2</td>\n",
       "      <td>2.281852</td>\n",
       "    </tr>\n",
       "    <tr>\n",
       "      <td>V3</td>\n",
       "      <td>1.138167</td>\n",
       "    </tr>\n",
       "    <tr>\n",
       "      <td>V4</td>\n",
       "      <td>1.062407</td>\n",
       "    </tr>\n",
       "    <tr>\n",
       "      <td>V5</td>\n",
       "      <td>1.783410</td>\n",
       "    </tr>\n",
       "    <tr>\n",
       "      <td>V6</td>\n",
       "      <td>1.233044</td>\n",
       "    </tr>\n",
       "    <tr>\n",
       "      <td>V7</td>\n",
       "      <td>1.676830</td>\n",
       "    </tr>\n",
       "    <tr>\n",
       "      <td>V8</td>\n",
       "      <td>1.043718</td>\n",
       "    </tr>\n",
       "    <tr>\n",
       "      <td>V9</td>\n",
       "      <td>1.008436</td>\n",
       "    </tr>\n",
       "    <tr>\n",
       "      <td>V10</td>\n",
       "      <td>1.051630</td>\n",
       "    </tr>\n",
       "    <tr>\n",
       "      <td>V11</td>\n",
       "      <td>1.019874</td>\n",
       "    </tr>\n",
       "    <tr>\n",
       "      <td>V12</td>\n",
       "      <td>1.007049</td>\n",
       "    </tr>\n",
       "    <tr>\n",
       "      <td>V13</td>\n",
       "      <td>1.002013</td>\n",
       "    </tr>\n",
       "    <tr>\n",
       "      <td>V14</td>\n",
       "      <td>1.012945</td>\n",
       "    </tr>\n",
       "    <tr>\n",
       "      <td>V16</td>\n",
       "      <td>1.000180</td>\n",
       "    </tr>\n",
       "    <tr>\n",
       "      <td>V17</td>\n",
       "      <td>1.002719</td>\n",
       "    </tr>\n",
       "    <tr>\n",
       "      <td>V18</td>\n",
       "      <td>1.004009</td>\n",
       "    </tr>\n",
       "    <tr>\n",
       "      <td>V19</td>\n",
       "      <td>1.016910</td>\n",
       "    </tr>\n",
       "    <tr>\n",
       "      <td>V21</td>\n",
       "      <td>1.045426</td>\n",
       "    </tr>\n",
       "    <tr>\n",
       "      <td>V22</td>\n",
       "      <td>1.038740</td>\n",
       "    </tr>\n",
       "    <tr>\n",
       "      <td>V23</td>\n",
       "      <td>1.066709</td>\n",
       "    </tr>\n",
       "    <tr>\n",
       "      <td>V24</td>\n",
       "      <td>1.000320</td>\n",
       "    </tr>\n",
       "    <tr>\n",
       "      <td>V25</td>\n",
       "      <td>1.012664</td>\n",
       "    </tr>\n",
       "    <tr>\n",
       "      <td>V26</td>\n",
       "      <td>1.000419</td>\n",
       "    </tr>\n",
       "    <tr>\n",
       "      <td>V27</td>\n",
       "      <td>1.004007</td>\n",
       "    </tr>\n",
       "    <tr>\n",
       "      <td>V28</td>\n",
       "      <td>1.000642</td>\n",
       "    </tr>\n",
       "    <tr>\n",
       "      <td>Amount</td>\n",
       "      <td>5.136299</td>\n",
       "    </tr>\n",
       "  </tbody>\n",
       "</table>\n",
       "</div>"
      ],
      "text/plain": [
       "             vif\n",
       "Time    1.612373\n",
       "V1      1.278046\n",
       "V2      2.281852\n",
       "V3      1.138167\n",
       "V4      1.062407\n",
       "V5      1.783410\n",
       "V6      1.233044\n",
       "V7      1.676830\n",
       "V8      1.043718\n",
       "V9      1.008436\n",
       "V10     1.051630\n",
       "V11     1.019874\n",
       "V12     1.007049\n",
       "V13     1.002013\n",
       "V14     1.012945\n",
       "V16     1.000180\n",
       "V17     1.002719\n",
       "V18     1.004009\n",
       "V19     1.016910\n",
       "V21     1.045426\n",
       "V22     1.038740\n",
       "V23     1.066709\n",
       "V24     1.000320\n",
       "V25     1.012664\n",
       "V26     1.000419\n",
       "V27     1.004007\n",
       "V28     1.000642\n",
       "Amount  5.136299"
      ]
     },
     "execution_count": 24,
     "metadata": {},
     "output_type": "execute_result"
    }
   ],
   "source": [
    "# Asumption -2 Multi colinearity\n",
    "\n",
    "from statsmodels.stats.outliers_influence import variance_inflation_factor\n",
    "vif=[variance_inflation_factor(X.values,i) for i in range(X.shape[1])]\n",
    "pd.DataFrame({\"vif\":vif},index=X.columns)"
   ]
  },
  {
   "cell_type": "markdown",
   "metadata": {
    "_uuid": "86636e53408b574ac5f7c84d73a5d8cff5c6e23f"
   },
   "source": [
    "# <a id=\"6\">Predictive models</a>  \n",
    "\n"
   ]
  },
  {
   "cell_type": "markdown",
   "metadata": {
    "_uuid": "3de9724f89804b1e82c2b30c9767bbc0be6ac0dc"
   },
   "source": [
    "### Define predictors and target values\n",
    "\n",
    "Let's define the predictor features and the target features. Categorical features, if any, are also defined. In our case, there are no categorical feature."
   ]
  },
  {
   "cell_type": "markdown",
   "metadata": {},
   "source": [
    "### Logistic  regression"
   ]
  },
  {
   "cell_type": "code",
   "execution_count": 25,
   "metadata": {},
   "outputs": [
    {
     "name": "stderr",
     "output_type": "stream",
     "text": [
      "/home/aswath/anaconda3/lib/python3.7/site-packages/sklearn/linear_model/logistic.py:432: FutureWarning:\n",
      "\n",
      "Default solver will be changed to 'lbfgs' in 0.22. Specify a solver to silence this warning.\n",
      "\n"
     ]
    },
    {
     "name": "stdout",
     "output_type": "stream",
     "text": [
      "Y_predict: [0 0 0 ... 0 0 0]\n"
     ]
    }
   ],
   "source": [
    "from sklearn.linear_model import LogisticRegression\n",
    "mod=LogisticRegression()\n",
    "mod.fit(X_train,y_train)\n",
    "y_pred=mod.predict(X_test)\n",
    "print('Y_predict:',y_pred)"
   ]
  },
  {
   "cell_type": "code",
   "execution_count": 26,
   "metadata": {},
   "outputs": [
    {
     "name": "stdout",
     "output_type": "stream",
     "text": [
      "train score: 0.9993579583074176\n",
      "test score: 0.999133925541004\n"
     ]
    }
   ],
   "source": [
    "print('train score:',mod.score(X_train,y_train))\n",
    "print('test score:',mod.score(X_test,y_test))"
   ]
  },
  {
   "cell_type": "code",
   "execution_count": 27,
   "metadata": {},
   "outputs": [],
   "source": [
    "from sklearn.metrics import confusion_matrix\n",
    "from sklearn.metrics import accuracy_score\n",
    "from sklearn.metrics import classification_report\n",
    "from sklearn.metrics import roc_auc_score\n",
    "from sklearn.metrics import roc_curve"
   ]
  },
  {
   "cell_type": "code",
   "execution_count": 28,
   "metadata": {},
   "outputs": [
    {
     "data": {
      "image/png": "[encoded data removed]",
      "text/plain": [
       "<Figure size 432x288 with 1 Axes>"
      ]
     },
     "metadata": {
      "needs_background": "light"
     },
     "output_type": "display_data"
    }
   ],
   "source": [
    "curve=roc_auc_score(y_test,y_pred)\n",
    "fpr,tpr,threshold=roc_curve(y_test,mod.predict_proba(X_test)[:,1])\n",
    "plt.figure()\n",
    "plt.plot(fpr, tpr, label='Data1,auc' % curve)\n",
    "plt.plot([0, 1], [0, 1],'r--')\n",
    "plt.xlim([0.0, 1.0])\n",
    "plt.ylim([0.0, 1.05])\n",
    "plt.xlabel('FPR')\n",
    "plt.ylabel('TPR')\n",
    "plt.title('Roc curve')\n",
    "plt.legend(loc=\"lower right\")\n",
    "plt.show()"
   ]
  },
  {
   "cell_type": "code",
   "execution_count": 29,
   "metadata": {},
   "outputs": [
    {
     "data": {
      "text/plain": [
       "0.8144640165626583"
      ]
     },
     "execution_count": 29,
     "metadata": {},
     "output_type": "execute_result"
    }
   ],
   "source": [
    "roc_auc_score(y_test,y_pred)"
   ]
  },
  {
   "cell_type": "code",
   "execution_count": 30,
   "metadata": {},
   "outputs": [
    {
     "data": {
      "text/plain": [
       "0.999133925541004"
      ]
     },
     "execution_count": 30,
     "metadata": {},
     "output_type": "execute_result"
    }
   ],
   "source": [
    "accuracy_score(y_test,y_pred)"
   ]
  },
  {
   "cell_type": "markdown",
   "metadata": {},
   "source": [
    "### Decision tree"
   ]
  },
  {
   "cell_type": "code",
   "execution_count": 32,
   "metadata": {},
   "outputs": [],
   "source": [
    "from sklearn.tree import export_graphviz\n",
    "from sklearn.externals.six import StringIO\n",
    "from IPython.display import Image"
   ]
  },
  {
   "cell_type": "code",
   "execution_count": 33,
   "metadata": {},
   "outputs": [
    {
     "data": {
      "text/plain": [
       "Index(['Time', 'V1', 'V2', 'V3', 'V4', 'V5', 'V6', 'V7', 'V8', 'V9', 'V10',\n",
       "       'V11', 'V12', 'V13', 'V14', 'V16', 'V17', 'V18', 'V19', 'V21', 'V22',\n",
       "       'V23', 'V24', 'V25', 'V26', 'V27', 'V28', 'Amount'],\n",
       "      dtype='object')"
      ]
     },
     "execution_count": 33,
     "metadata": {},
     "output_type": "execute_result"
    }
   ],
   "source": [
    "cols=X.columns\n",
    "cols"
   ]
  },
  {
   "cell_type": "code",
   "execution_count": 34,
   "metadata": {},
   "outputs": [
    {
     "data": {
      "text/plain": [
       "DecisionTreeClassifier(class_weight=None, criterion='entropy', max_depth=None,\n",
       "                       max_features=None, max_leaf_nodes=None,\n",
       "                       min_impurity_decrease=0.0, min_impurity_split=None,\n",
       "                       min_samples_leaf=1, min_samples_split=2,\n",
       "                       min_weight_fraction_leaf=0.0, presort=False,\n",
       "                       random_state=None, splitter='best')"
      ]
     },
     "execution_count": 34,
     "metadata": {},
     "output_type": "execute_result"
    }
   ],
   "source": [
    "from sklearn.tree import DecisionTreeClassifier\n",
    "cl2=DecisionTreeClassifier(criterion='entropy')\n",
    "cl2.fit(X_train,y_train)"
   ]
  },
  {
   "cell_type": "code",
   "execution_count": 35,
   "metadata": {},
   "outputs": [],
   "source": [
    "y_predicts=cl2.predict(X_test)"
   ]
  },
  {
   "cell_type": "code",
   "execution_count": 36,
   "metadata": {},
   "outputs": [
    {
     "name": "stdout",
     "output_type": "stream",
     "text": [
      "Accuracy score: 0.9990168884519505\n"
     ]
    }
   ],
   "source": [
    "print('Accuracy score:',accuracy_score(y_test,y_predicts))"
   ]
  },
  {
   "cell_type": "code",
   "execution_count": 37,
   "metadata": {},
   "outputs": [
    {
     "name": "stdout",
     "output_type": "stream",
     "text": [
      "              precision    recall  f1-score   support\n",
      "\n",
      "           0       1.00      1.00      1.00     85292\n",
      "           1       0.74      0.69      0.71       151\n",
      "\n",
      "    accuracy                           1.00     85443\n",
      "   macro avg       0.87      0.84      0.86     85443\n",
      "weighted avg       1.00      1.00      1.00     85443\n",
      "\n"
     ]
    }
   ],
   "source": [
    "print(classification_report(y_test,y_predicts))"
   ]
  },
  {
   "cell_type": "code",
   "execution_count": 38,
   "metadata": {},
   "outputs": [
    {
     "data": {
      "text/plain": [
       "0.8441539589902767"
      ]
     },
     "execution_count": 38,
     "metadata": {},
     "output_type": "execute_result"
    }
   ],
   "source": [
    "roc_auc_score(y_test,y_predicts)"
   ]
  },
  {
   "cell_type": "markdown",
   "metadata": {},
   "source": [
    "### Random forest"
   ]
  },
  {
   "cell_type": "code",
   "execution_count": 39,
   "metadata": {},
   "outputs": [],
   "source": [
    "from sklearn.ensemble import RandomForestClassifier"
   ]
  },
  {
   "cell_type": "code",
   "execution_count": 40,
   "metadata": {},
   "outputs": [
    {
     "data": {
      "text/plain": [
       "RandomForestClassifier(bootstrap=True, class_weight=None, criterion='gini',\n",
       "                       max_depth=None, max_features='auto', max_leaf_nodes=None,\n",
       "                       min_impurity_decrease=0.0, min_impurity_split=None,\n",
       "                       min_samples_leaf=1, min_samples_split=2,\n",
       "                       min_weight_fraction_leaf=0.0, n_estimators=100,\n",
       "                       n_jobs=None, oob_score=False, random_state=None,\n",
       "                       verbose=0, warm_start=False)"
      ]
     },
     "execution_count": 40,
     "metadata": {},
     "output_type": "execute_result"
    }
   ],
   "source": [
    "b=RandomForestClassifier(n_estimators=100,\n",
    "    criterion='gini',\n",
    "    max_depth=None,\n",
    "    min_samples_split=2,\n",
    "    min_samples_leaf=1,\n",
    "    min_weight_fraction_leaf=0.0,\n",
    "    max_features='auto',\n",
    "    max_leaf_nodes=None,\n",
    "    min_impurity_decrease=0.0,\n",
    "    min_impurity_split=None,\n",
    "    bootstrap=True,\n",
    "    oob_score=False,\n",
    "    n_jobs=None,\n",
    "    random_state=None,\n",
    "    verbose=0,\n",
    "    warm_start=False,\n",
    "    class_weight=None)\n",
    "b.fit(X_train,y_train)"
   ]
  },
  {
   "cell_type": "code",
   "execution_count": 41,
   "metadata": {},
   "outputs": [],
   "source": [
    "y_predicts=b.predict(X_test)"
   ]
  },
  {
   "cell_type": "code",
   "execution_count": 42,
   "metadata": {},
   "outputs": [
    {
     "name": "stdout",
     "output_type": "stream",
     "text": [
      "              precision    recall  f1-score   support\n",
      "\n",
      "           0       1.00      1.00      1.00     85292\n",
      "           1       0.92      0.73      0.81       151\n",
      "\n",
      "    accuracy                           1.00     85443\n",
      "   macro avg       0.96      0.86      0.91     85443\n",
      "weighted avg       1.00      1.00      1.00     85443\n",
      "\n"
     ]
    }
   ],
   "source": [
    "print(classification_report(y_test,y_predicts))"
   ]
  },
  {
   "cell_type": "code",
   "execution_count": 43,
   "metadata": {},
   "outputs": [
    {
     "name": "stdout",
     "output_type": "stream",
     "text": [
      "Accuracy score: 0.9994148145547324\n"
     ]
    }
   ],
   "source": [
    "print('Accuracy score:',accuracy_score(y_test,y_predicts))"
   ]
  },
  {
   "cell_type": "code",
   "execution_count": 44,
   "metadata": {},
   "outputs": [
    {
     "data": {
      "text/plain": [
       "0.8641856506654351"
      ]
     },
     "execution_count": 44,
     "metadata": {},
     "output_type": "execute_result"
    }
   ],
   "source": [
    "roc_auc_score(y_test,y_predicts)"
   ]
  },
  {
   "cell_type": "markdown",
   "metadata": {},
   "source": [
    "### Adaboosting Classifier"
   ]
  },
  {
   "cell_type": "code",
   "execution_count": 45,
   "metadata": {},
   "outputs": [],
   "source": [
    "clf = AdaBoostClassifier(random_state=RANDOM_STATE,\n",
    "                         algorithm='SAMME.R',\n",
    "                         learning_rate=0.8,\n",
    "                             n_estimators=NUM_ESTIMATORS)"
   ]
  },
  {
   "cell_type": "code",
   "execution_count": 46,
   "metadata": {},
   "outputs": [
    {
     "data": {
      "text/plain": [
       "AdaBoostClassifier(algorithm='SAMME.R', base_estimator=None, learning_rate=0.8,\n",
       "                   n_estimators=100, random_state=42)"
      ]
     },
     "execution_count": 46,
     "metadata": {},
     "output_type": "execute_result"
    }
   ],
   "source": [
    "clf.fit(X_train, y_train)"
   ]
  },
  {
   "cell_type": "code",
   "execution_count": 47,
   "metadata": {},
   "outputs": [],
   "source": [
    "preds = clf.predict(X_test)"
   ]
  },
  {
   "cell_type": "code",
   "execution_count": 48,
   "metadata": {},
   "outputs": [
    {
     "data": {
      "image/png": "[encoded data removed]",
      "text/plain": [
       "<Figure size 504x288 with 1 Axes>"
      ]
     },
     "metadata": {
      "needs_background": "light"
     },
     "output_type": "display_data"
    }
   ],
   "source": [
    "tmp = pd.DataFrame({'Feature': X, 'Feature importance': clf.feature_importances_})\n",
    "tmp = tmp.sort_values(by='Feature importance',ascending=False)\n",
    "plt.figure(figsize = (7,4))\n",
    "plt.title('Features importance',fontsize=14)\n",
    "s = sns.barplot(x='Feature',y='Feature importance',data=tmp)\n",
    "s.set_xticklabels(s.get_xticklabels(),rotation=90)\n",
    "plt.show()   "
   ]
  },
  {
   "cell_type": "code",
   "execution_count": 49,
   "metadata": {},
   "outputs": [
    {
     "data": {
      "text/plain": [
       "0.8276562897446498"
      ]
     },
     "execution_count": 49,
     "metadata": {},
     "output_type": "execute_result"
    }
   ],
   "source": [
    "roc_auc_score(y_test, preds)"
   ]
  },
  {
   "cell_type": "code",
   "execution_count": 50,
   "metadata": {},
   "outputs": [
    {
     "data": {
      "text/plain": [
       "0.9990754069964772"
      ]
     },
     "execution_count": 50,
     "metadata": {},
     "output_type": "execute_result"
    }
   ],
   "source": [
    "accuracy_score(y_test, preds)"
   ]
  },
  {
   "cell_type": "markdown",
   "metadata": {},
   "source": [
    "### Gradient Boosting"
   ]
  },
  {
   "cell_type": "code",
   "execution_count": 51,
   "metadata": {},
   "outputs": [],
   "source": [
    "from sklearn.ensemble import GradientBoostingClassifier\n",
    "clf1 = GradientBoostingClassifier(random_state=RANDOM_STATE,\n",
    "                         learning_rate=0.8,\n",
    "                             n_estimators=NUM_ESTIMATORS)"
   ]
  },
  {
   "cell_type": "code",
   "execution_count": 52,
   "metadata": {},
   "outputs": [
    {
     "data": {
      "text/plain": [
       "GradientBoostingClassifier(criterion='friedman_mse', init=None,\n",
       "                           learning_rate=0.8, loss='deviance', max_depth=3,\n",
       "                           max_features=None, max_leaf_nodes=None,\n",
       "                           min_impurity_decrease=0.0, min_impurity_split=None,\n",
       "                           min_samples_leaf=1, min_samples_split=2,\n",
       "                           min_weight_fraction_leaf=0.0, n_estimators=100,\n",
       "                           n_iter_no_change=None, presort='auto',\n",
       "                           random_state=42, subsample=1.0, tol=0.0001,\n",
       "                           validation_fraction=0.1, verbose=0,\n",
       "                           warm_start=False)"
      ]
     },
     "execution_count": 52,
     "metadata": {},
     "output_type": "execute_result"
    }
   ],
   "source": [
    "clf1.fit(X_train, y_train)"
   ]
  },
  {
   "cell_type": "code",
   "execution_count": 53,
   "metadata": {},
   "outputs": [],
   "source": [
    "preds1 = clf1.predict(X_test)"
   ]
  },
  {
   "cell_type": "code",
   "execution_count": 54,
   "metadata": {},
   "outputs": [
    {
     "data": {
      "image/png": "[encoded data removed]",
      "text/plain": [
       "<Figure size 504x288 with 1 Axes>"
      ]
     },
     "metadata": {
      "needs_background": "light"
     },
     "output_type": "display_data"
    }
   ],
   "source": [
    "tmp1 = pd.DataFrame({'Feature': X, 'Feature importance': clf1.feature_importances_})\n",
    "tmp1 = tmp.sort_values(by='Feature importance',ascending=False)\n",
    "plt.figure(figsize = (7,4))\n",
    "plt.title('Features importance',fontsize=14)\n",
    "s = sns.barplot(x='Feature',y='Feature importance',data=tmp)\n",
    "s.set_xticklabels(s.get_xticklabels(),rotation=90)\n",
    "plt.show()   "
   ]
  },
  {
   "cell_type": "code",
   "execution_count": 55,
   "metadata": {},
   "outputs": [
    {
     "data": {
      "text/plain": [
       "0.8276562897446498"
      ]
     },
     "execution_count": 55,
     "metadata": {},
     "output_type": "execute_result"
    }
   ],
   "source": [
    "roc_auc_score(y_test, preds)"
   ]
  },
  {
   "cell_type": "code",
   "execution_count": 56,
   "metadata": {},
   "outputs": [
    {
     "data": {
      "text/plain": [
       "0.9990754069964772"
      ]
     },
     "execution_count": 56,
     "metadata": {},
     "output_type": "execute_result"
    }
   ],
   "source": [
    "accuracy_score(y_test, preds)"
   ]
  },
  {
   "cell_type": "markdown",
   "metadata": {},
   "source": [
    "### Clustering"
   ]
  },
  {
   "cell_type": "code",
   "execution_count": 57,
   "metadata": {},
   "outputs": [],
   "source": [
    "from scipy.stats import zscore"
   ]
  },
  {
   "cell_type": "markdown",
   "metadata": {},
   "source": [
    "### K-means"
   ]
  },
  {
   "cell_type": "code",
   "execution_count": 58,
   "metadata": {},
   "outputs": [
    {
     "data": {
      "image/png": "[encoded data removed]",
      "text/plain": [
       "<Figure size 432x288 with 1 Axes>"
      ]
     },
     "metadata": {
      "needs_background": "light"
     },
     "output_type": "display_data"
    }
   ],
   "source": [
    "from sklearn.cluster import KMeans\n",
    "cluster_range = range( 1, 10)\n",
    "errors = []\n",
    "for num_clusters in cluster_range:\n",
    "  clusters = KMeans( num_clusters, n_init = 10 )\n",
    "  clusters.fit(stats.zscore(data_df))\n",
    "  labels = clusters.labels_\n",
    "  centroids = clusters.cluster_centers_\n",
    "  errors.append( clusters.inertia_ )\n",
    "    \n",
    "# Visualization of k values:\n",
    "plt.plot(range(1,10), errors, color='red')\n",
    "plt.title('Graph of k values and error')\n",
    "plt.xlabel('k values')\n",
    "plt.ylabel('error values')\n",
    "plt.show()"
   ]
  },
  {
   "cell_type": "markdown",
   "metadata": {},
   "source": [
    "We already know that our data set has three classes. \n",
    "\n",
    "Bu if we didn't know how many classes we have in our data set, we sould use this method. \n",
    "\n",
    "And according to the graph; it's elbow (where it bends) is the best k value for our K Means algorithm"
   ]
  },
  {
   "cell_type": "markdown",
   "metadata": {},
   "source": [
    "**Comparing Original Classes and K-Means Algorithm Classes:**\n",
    "\n",
    "For visualization I will use only two features (age and duration) for the original and predicted datasets. Different classes will have seperate color and styles."
   ]
  },
  {
   "cell_type": "code",
   "execution_count": 59,
   "metadata": {},
   "outputs": [],
   "source": [
    "# Now we know our best k value is 3, I am creating a new kmeans model:\n",
    "kmeans2 = KMeans(n_clusters=3)\n",
    "\n",
    "# Training the model:\n",
    "clusters = kmeans2.fit_predict(data_df)\n",
    "\n",
    "# Adding a label feature with the predicted class values:\n",
    "df_k = data_df.copy(deep=True)\n",
    "df_k['label'] = clusters"
   ]
  },
  {
   "cell_type": "code",
   "execution_count": 60,
   "metadata": {},
   "outputs": [
    {
     "data": {
      "image/png": "[encoded data removed]",
      "text/plain": [
       "<Figure size 432x288 with 2 Axes>"
      ]
     },
     "metadata": {
      "needs_background": "light"
     },
     "output_type": "display_data"
    }
   ],
   "source": [
    "fig, (ax1, ax2) = plt.subplots(1,2)\n",
    "\n",
    "ax1 = plt.subplot(1,2,1)\n",
    "plt.title('Original Classes')\n",
    "sns.scatterplot(y='Amount', x='Time', hue='Class', style='Class', data=data_df, ax=ax1)\n",
    "\n",
    "ax2 = plt.subplot(1,2,2)\n",
    "plt.title('Predicted Classes')\n",
    "sns.scatterplot(y='Amount', x='Time', hue='label', style='label', data=df_k, ax=ax2)\n",
    "plt.show()"
   ]
  },
  {
   "cell_type": "code",
   "execution_count": 61,
   "metadata": {},
   "outputs": [
    {
     "name": "stdout",
     "output_type": "stream",
     "text": [
      "Original Data Classes:\n",
      "0    284315\n",
      "1       492\n",
      "Name: Class, dtype: int64\n",
      "------------------------------\n",
      "Predicted Data Classes:\n",
      "0    272698\n",
      "2     11493\n",
      "1       616\n",
      "Name: label, dtype: int64\n"
     ]
    }
   ],
   "source": [
    "print('Original Data Classes:')\n",
    "print(data_df.Class.value_counts())\n",
    "print('-' * 30)\n",
    "print('Predicted Data Classes:')\n",
    "print(df_k.label.value_counts())"
   ]
  },
  {
   "cell_type": "markdown",
   "metadata": {},
   "source": [
    "### PCA\n",
    "#### Dimensionality Reduction"
   ]
  },
  {
   "cell_type": "code",
   "execution_count": 62,
   "metadata": {},
   "outputs": [],
   "source": [
    "from sklearn.decomposition import PCA\n",
    "from sklearn.preprocessing import StandardScaler"
   ]
  },
  {
   "cell_type": "code",
   "execution_count": 63,
   "metadata": {},
   "outputs": [],
   "source": [
    "X_std = StandardScaler().fit_transform(X)"
   ]
  },
  {
   "cell_type": "code",
   "execution_count": 64,
   "metadata": {},
   "outputs": [
    {
     "name": "stdout",
     "output_type": "stream",
     "text": [
      "Covariance Matrix \n",
      "%s [[ 1.00000351e+00  1.17396718e-01 -1.05933643e-02 -4.19619646e-01\n",
      "  -1.05260575e-01  1.73072731e-01 -6.30166916e-02  8.47146723e-02\n",
      "  -3.69495644e-02 -8.66046411e-03  3.06167361e-02 -2.47690307e-01\n",
      "   1.24348505e-01 -6.59022551e-02 -9.87571660e-02  1.19029095e-02\n",
      "  -7.32974707e-02  9.04384501e-02  2.89754043e-02  4.47358834e-02\n",
      "   1.44059561e-01  5.11425445e-02 -1.61819253e-02 -2.33083609e-01\n",
      "  -4.14072460e-02 -5.13460915e-03 -9.41272123e-03 -1.05964106e-02]\n",
      " [ 1.17396718e-01  1.00000351e+00 -4.38092261e-17 -6.25903111e-16\n",
      "  -2.58664041e-16  3.09758172e-16  1.59669161e-16  1.27735329e-17\n",
      "  -5.42875148e-17  5.10941315e-17  3.91189445e-17  3.27321780e-16\n",
      "   1.77232769e-16 -5.21419604e-17  4.34300118e-16  3.32111855e-16\n",
      "  -3.19338322e-18  1.46895628e-16  1.65257582e-16 -1.02986609e-16\n",
      "   9.73981883e-17  1.85216227e-16 -5.90775896e-17 -3.32111855e-16\n",
      "  -1.25739464e-16  9.12110083e-17  3.95979519e-16 -2.27709452e-01]\n",
      " [-1.05933643e-02 -4.38092261e-17  1.00000351e+00  6.38676644e-18\n",
      "  -1.69249311e-16  1.14961796e-16  3.87996061e-16 -1.62862544e-16\n",
      "   1.63660890e-17 -9.81965341e-17 -1.56475778e-16  3.40095313e-16\n",
      "  -3.65442792e-16 -3.83205987e-17 -3.71729766e-16  4.47073651e-17\n",
      "  -6.00356046e-16  2.23536826e-16  7.18511225e-18  5.10941315e-17\n",
      "   1.72442694e-16  1.18155179e-16 -1.06978338e-16  5.10941315e-17\n",
      "   2.45890508e-16 -5.24513194e-16 -3.52868846e-16 -5.31410805e-01]\n",
      " [-4.19619646e-01 -6.25903111e-16  6.38676644e-18  1.00000351e+00\n",
      "  -2.29923592e-16 -6.06742812e-16  1.43382907e-15  2.55470658e-16\n",
      "  -2.55470658e-17  3.19338322e-17  2.04376526e-16  1.46895628e-16\n",
      "   2.10763293e-16 -7.02544309e-17  6.35483261e-16  5.30101615e-16\n",
      "   7.02544309e-17  2.61857424e-16  3.70432454e-16 -1.56475778e-16\n",
      "  -1.46895628e-16 -7.70403702e-17  6.38676644e-18  1.06978338e-16\n",
      "  -2.52277274e-16  5.20521465e-16  7.58428515e-16 -2.10881216e-01]\n",
      " [-1.05260575e-01 -2.58664041e-16 -1.69249311e-16 -2.29923592e-16\n",
      "   1.00000351e+00 -1.84737219e-15 -4.19929894e-16 -8.94147302e-17\n",
      "   6.64223710e-16  5.92372588e-16 -3.19338322e-17 -2.96984640e-16\n",
      "  -2.26730209e-16  9.58014966e-18 -1.14961796e-16 -6.38676644e-18\n",
      "  -3.92786136e-16 -2.55470658e-17 -2.93791256e-16 -5.90775896e-17\n",
      "   2.21940134e-16  2.06771564e-16  1.55315682e-16  6.51450177e-16\n",
      "  -3.94382828e-16 -1.37315479e-16 -1.51685703e-17  9.87320130e-02]\n",
      " [ 1.73072731e-01  3.09758172e-16  1.14961796e-16 -6.06742812e-16\n",
      "  -1.84737219e-15  1.00000351e+00  6.64223710e-16 -2.71437574e-17\n",
      "   5.02957857e-16  4.94974399e-16  6.06742812e-17  7.05737692e-16\n",
      "   3.84004332e-16 -2.90597873e-16  2.43495471e-16  6.70610477e-16\n",
      "   4.40686885e-16  4.94974399e-16 -1.10171721e-16 -9.42048050e-17\n",
      "   2.87404490e-17  1.18155179e-16 -9.42048050e-16 -1.91602993e-16\n",
      "   3.41692005e-16  4.68628988e-16 -1.59669161e-16 -3.86357613e-01]\n",
      " [-6.30166916e-02  1.59669161e-16  3.87996061e-16  1.43382907e-15\n",
      "  -4.19929894e-16  6.64223710e-16  1.00000351e+00 -3.67239070e-17\n",
      "  -3.32111855e-16 -1.24541946e-16  1.40508862e-16  8.55826703e-16\n",
      "   2.76227649e-16 -1.66055928e-16  3.35305238e-16 -8.94147302e-17\n",
      "   1.34321682e-16  5.42875148e-17  9.58014966e-17 -7.82378889e-17\n",
      "  -1.02188263e-16  2.71437574e-17 -1.06339661e-15  5.07747932e-16\n",
      "  -2.41898779e-16 -1.39710516e-16  4.17934029e-16  2.15981939e-01]\n",
      " [ 8.47146723e-02  1.27735329e-17 -1.62862544e-16  2.55470658e-16\n",
      "  -8.94147302e-17 -2.71437574e-17 -3.67239070e-17  1.00000351e+00\n",
      "   2.87404490e-17  4.79007483e-17  3.73625837e-16 -3.14548247e-16\n",
      "   5.90775896e-16 -6.38676644e-17  9.28076999e-18  5.42875148e-16\n",
      "   5.30101615e-16  2.07569909e-16 -7.98345805e-17  1.75636077e-17\n",
      "  -6.67417093e-16 -3.19338322e-16 -3.39296967e-18  1.08575030e-16\n",
      "  -8.01539189e-16 -2.61857424e-16  9.58014966e-17  3.97312673e-01]\n",
      " [-3.69495644e-02 -5.42875148e-17  1.63660890e-17 -2.55470658e-17\n",
      "   6.64223710e-16  5.02957857e-16 -3.32111855e-16  2.87404490e-17\n",
      "   1.00000351e+00  4.15538992e-16  1.11768413e-17  1.40109689e-16\n",
      "   0.00000000e+00 -2.87404490e-16 -2.95387948e-16  1.69249311e-16\n",
      "  -3.43288696e-16 -3.04968098e-16 -3.06564789e-16 -6.38676644e-18\n",
      "   6.78593935e-18  1.91602993e-16 -2.05174872e-16 -1.59669161e-16\n",
      "   7.18511225e-18  3.14548247e-16 -5.62833793e-16 -1.03079458e-01]\n",
      " [-8.66046411e-03  5.10941315e-17 -9.81965341e-17  3.19338322e-17\n",
      "   5.92372588e-16  4.94974399e-16 -1.24541946e-16  4.79007483e-17\n",
      "   4.15538992e-16  1.00000351e+00 -2.77824340e-16  3.16144939e-16\n",
      "  -1.23798486e-15  9.89948799e-16  1.00950827e-15 -4.47073651e-16\n",
      "   6.38676644e-16  1.30928712e-16  9.10114218e-17  2.53873966e-16\n",
      "  -1.91602993e-16 -1.05381646e-16 -2.85009453e-16  3.12951556e-16\n",
      "  -5.10941315e-17 -1.53282395e-16  7.72798740e-16 -4.42457573e-02]\n",
      " [ 3.06167361e-02  3.91189445e-17 -1.56475778e-16  2.04376526e-16\n",
      "  -3.19338322e-17  6.06742812e-17  1.40508862e-16  3.73625837e-16\n",
      "   1.11768413e-17 -2.77824340e-16  1.00000351e+00 -3.62448996e-16\n",
      "   8.11518511e-16 -4.24570279e-16  6.57836944e-16  1.85216227e-16\n",
      "   5.74808980e-16  5.23714848e-16  1.27735329e-17  1.05221977e-15\n",
      "  -2.74630957e-16  2.33116975e-16 -8.30279638e-17 -3.40095313e-16\n",
      "  -3.85601024e-16 -3.95979519e-16  2.20343442e-16 -1.01502497e-01]\n",
      " [-2.47690307e-01  3.27321780e-16  3.40095313e-16  1.46895628e-16\n",
      "  -2.96984640e-16  7.05737692e-16  8.55826703e-16 -3.14548247e-16\n",
      "   1.40109689e-16  3.16144939e-16 -3.62448996e-16  1.00000351e+00\n",
      "  -5.88380859e-16  4.11148090e-16 -9.26081134e-17  1.82022844e-16\n",
      "   6.43466719e-16  1.14961796e-16 -1.06020323e-15  3.19338322e-18\n",
      "  -1.59669161e-18  1.26138637e-16  1.67333281e-15 -5.90775896e-16\n",
      "  -1.24042980e-16 -1.67652619e-16 -3.39895727e-16  1.03977387e-04]\n",
      " [ 1.24348505e-01  1.77232769e-16 -3.65442792e-16  2.10763293e-16\n",
      "  -2.26730209e-16  3.84004332e-16  2.76227649e-16  5.90775896e-16\n",
      "   0.00000000e+00 -1.23798486e-15  8.11518511e-16 -5.88380859e-16\n",
      "   1.00000351e+00 -2.29668121e-14  3.80012603e-16  4.94974399e-16\n",
      "  -2.87404490e-16 -6.57836944e-16  1.90006302e-16  5.89179204e-16\n",
      "  -1.27735329e-17  2.79421032e-16  4.45476959e-16 -9.58014966e-18\n",
      "   1.72442694e-16 -3.25725089e-16  7.00149271e-16 -9.54183566e-03]\n",
      " [-6.59022551e-02 -5.21419604e-17 -3.83205987e-17 -7.02544309e-17\n",
      "   9.58014966e-18 -2.90597873e-16 -1.66055928e-16 -6.38676644e-17\n",
      "  -2.87404490e-16  9.89948799e-16 -4.24570279e-16  4.11148090e-16\n",
      "  -2.29668121e-14  1.00000351e+00  1.46496455e-15  4.69427334e-16\n",
      "   3.27321780e-17  2.66647499e-16 -1.10171721e-16  1.47294801e-16\n",
      "  -4.94974399e-17 -6.82585664e-16 -6.54643560e-16 -1.21348562e-16\n",
      "  -1.43702245e-16 -4.86392182e-16  1.08255691e-15  5.29342762e-03]\n",
      " [-9.87571660e-02  4.34300118e-16 -3.71729766e-16  6.35483261e-16\n",
      "  -1.14961796e-16  2.43495471e-16  3.35305238e-16  9.28076999e-18\n",
      "  -2.95387948e-16  1.00950827e-15  6.57836944e-16 -9.26081134e-17\n",
      "   3.80012603e-16  1.46496455e-15  1.00000351e+00 -7.91959039e-16\n",
      "   1.18793856e-15 -1.66055928e-16  2.33116975e-16 -1.91602993e-16\n",
      "   6.35483261e-16  2.21940134e-16  1.91602993e-17 -5.74808980e-17\n",
      "  -2.71437574e-17  4.31106735e-17  2.39184403e-15  3.37512903e-02]\n",
      " [ 1.19029095e-02  3.32111855e-16  4.47073651e-17  5.30101615e-16\n",
      "  -6.38676644e-18  6.70610477e-16 -8.94147302e-17  5.42875148e-16\n",
      "   1.69249311e-16 -4.47073651e-16  1.85216227e-16  1.82022844e-16\n",
      "   4.94974399e-16  4.69427334e-16 -7.91959039e-16  1.00000351e+00\n",
      "   1.67093777e-15 -2.73992280e-15  1.12726428e-15 -4.27913352e-16\n",
      "   2.65050807e-16  7.04141000e-16 -3.63247341e-16 -3.19338322e-16\n",
      "  -4.77410792e-16  8.20699488e-16  6.76997243e-16 -3.90954044e-03]\n",
      " [-7.32974707e-02 -3.19338322e-18 -6.00356046e-16  7.02544309e-17\n",
      "  -3.92786136e-16  4.40686885e-16  1.34321682e-16  5.30101615e-16\n",
      "  -3.43288696e-16  6.38676644e-16  5.74808980e-16  6.43466719e-16\n",
      "  -2.87404490e-16  3.27321780e-17  1.18793856e-15  1.67093777e-15\n",
      "   1.00000351e+00 -5.21479480e-15  3.51272154e-16 -9.70788499e-16\n",
      "  -2.49083891e-16  4.21526585e-16 -1.58072469e-16  8.30279638e-17\n",
      "   2.74630957e-16  6.97355061e-16 -9.58014966e-17  7.30906774e-03]\n",
      " [ 9.04384501e-02  1.46895628e-16  2.23536826e-16  2.61857424e-16\n",
      "  -2.55470658e-17  4.94974399e-16  5.42875148e-17  2.07569909e-16\n",
      "  -3.04968098e-16  1.30928712e-16  5.23714848e-16  1.14961796e-16\n",
      "  -6.57836944e-16  2.66647499e-16 -1.66055928e-16 -2.73992280e-15\n",
      "  -5.21479480e-15  1.00000351e+00 -2.66966837e-15 -1.19751871e-15\n",
      "  -5.42875148e-16 -3.01774714e-16 -1.96393068e-16 -2.45491335e-16\n",
      "   2.79620618e-16  2.18746751e-16  7.99643117e-16  3.56504659e-02]\n",
      " [ 2.89754043e-02  1.65257582e-16  7.18511225e-18  3.70432454e-16\n",
      "  -2.93791256e-16 -1.10171721e-16  9.58014966e-17 -7.98345805e-17\n",
      "  -3.06564789e-16  9.10114218e-17  1.27735329e-17 -1.06020323e-15\n",
      "   1.90006302e-16 -1.10171721e-16  2.33116975e-16  1.12726428e-15\n",
      "   3.51272154e-16 -2.66966837e-15  1.00000351e+00  5.68422213e-16\n",
      "  -9.99528948e-16  6.73803860e-16 -8.94147302e-17  8.17506105e-16\n",
      "   5.50060260e-16 -1.55677432e-16 -1.36517133e-15 -5.61509844e-02]\n",
      " [ 4.47358834e-02 -1.02986609e-16  5.10941315e-17 -1.56475778e-16\n",
      "  -5.90775896e-17 -9.42048050e-17 -7.82378889e-17  1.75636077e-17\n",
      "  -6.38676644e-18  2.53873966e-16  1.05221977e-15  3.19338322e-18\n",
      "   5.89179204e-16  1.47294801e-16 -1.91602993e-16 -4.27913352e-16\n",
      "  -9.70788499e-16 -1.19751871e-15  5.68422213e-16  1.00000351e+00\n",
      "   3.48078771e-15  6.48655967e-16  1.42105553e-16 -1.14961796e-16\n",
      "  -4.37493501e-16 -1.42903899e-15  2.39503742e-16  1.05999300e-01]\n",
      " [ 1.44059561e-01  9.73981883e-17  1.72442694e-16 -1.46895628e-16\n",
      "   2.21940134e-16  2.87404490e-17 -1.02188263e-16 -6.67417093e-16\n",
      "   6.78593935e-18 -1.91602993e-16 -2.74630957e-16 -1.59669161e-18\n",
      "  -1.27735329e-17 -4.94974399e-17  6.35483261e-16  2.65050807e-16\n",
      "  -2.49083891e-16 -5.42875148e-16 -9.99528948e-16  3.48078771e-15\n",
      "   1.00000351e+00  2.77824340e-16  3.15346593e-17 -9.67595116e-16\n",
      "  -1.02188263e-16  1.62064198e-16 -5.17328082e-16 -6.48008739e-02]\n",
      " [ 5.11425445e-02  1.85216227e-16  1.18155179e-16 -7.70403702e-17\n",
      "   2.06771564e-16  1.18155179e-16  2.71437574e-17 -3.19338322e-16\n",
      "   1.91602993e-16 -1.05381646e-16  2.33116975e-16  1.26138637e-16\n",
      "   2.79421032e-16 -6.82585664e-16  2.21940134e-16  7.04141000e-16\n",
      "   4.21526585e-16 -3.01774714e-16  6.73803860e-16  6.48655967e-16\n",
      "   2.77824340e-16  1.00000351e+00  5.58842064e-17 -7.24897991e-16\n",
      "   1.27096652e-15  4.32703427e-16  1.37315479e-15 -1.12632949e-01]\n",
      " [-1.61819253e-02 -5.90775896e-17 -1.06978338e-16  6.38676644e-18\n",
      "   1.55315682e-16 -9.42048050e-16 -1.06339661e-15 -3.39296967e-18\n",
      "  -2.05174872e-16 -2.85009453e-16 -8.30279638e-17  1.67333281e-15\n",
      "   4.45476959e-16 -6.54643560e-16  1.91602993e-17 -3.63247341e-16\n",
      "  -1.58072469e-16 -1.96393068e-16 -8.94147302e-17  1.42105553e-16\n",
      "   3.15346593e-17  5.58842064e-17  1.00000351e+00  1.23583931e-15\n",
      "   1.90405475e-16 -3.02573060e-16 -2.81017723e-16  5.14623550e-03]\n",
      " [-2.33083609e-01 -3.32111855e-16  5.10941315e-17  1.06978338e-16\n",
      "   6.51450177e-16 -1.91602993e-16  5.07747932e-16  1.08575030e-16\n",
      "  -1.59669161e-16  3.12951556e-16 -3.40095313e-16 -5.90775896e-16\n",
      "  -9.58014966e-18 -1.21348562e-16 -5.74808980e-17 -3.19338322e-16\n",
      "   8.30279638e-17 -2.45491335e-16  8.17506105e-16 -1.14961796e-16\n",
      "  -9.67595116e-16 -7.24897991e-16  1.23583931e-15  1.00000351e+00\n",
      "   2.44613155e-15 -5.55648681e-16  3.60852304e-16 -4.78370311e-02]\n",
      " [-4.14072460e-02 -1.25739464e-16  2.45890508e-16 -2.52277274e-16\n",
      "  -3.94382828e-16  3.41692005e-16 -2.41898779e-16 -8.01539189e-16\n",
      "   7.18511225e-18 -5.10941315e-17 -3.85601024e-16 -1.24042980e-16\n",
      "   1.72442694e-16 -1.43702245e-16 -2.71437574e-17 -4.77410792e-16\n",
      "   2.74630957e-16  2.79620618e-16  5.50060260e-16 -4.37493501e-16\n",
      "  -1.02188263e-16  1.27096652e-15  1.90405475e-16  2.44613155e-15\n",
      "   1.00000351e+00 -2.77325374e-16 -2.95387948e-16 -3.20804841e-03]\n",
      " [-5.13460915e-03  9.12110083e-17 -5.24513194e-16  5.20521465e-16\n",
      "  -1.37315479e-16  4.68628988e-16 -1.39710516e-16 -2.61857424e-16\n",
      "   3.14548247e-16 -1.53282395e-16 -3.95979519e-16 -1.67652619e-16\n",
      "  -3.25725089e-16 -4.86392182e-16  4.31106735e-17  8.20699488e-16\n",
      "   6.97355061e-16  2.18746751e-16 -1.55677432e-16 -1.42903899e-15\n",
      "   1.62064198e-16  4.32703427e-16 -3.02573060e-16 -5.55648681e-16\n",
      "  -2.77325374e-16  1.00000351e+00 -9.58014966e-18  2.88255646e-02]\n",
      " [-9.41272123e-03  3.95979519e-16 -3.52868846e-16  7.58428515e-16\n",
      "  -1.51685703e-17 -1.59669161e-16  4.17934029e-16  9.58014966e-17\n",
      "  -5.62833793e-16  7.72798740e-16  2.20343442e-16 -3.39895727e-16\n",
      "   7.00149271e-16  1.08255691e-15  2.39184403e-15  6.76997243e-16\n",
      "  -9.58014966e-17  7.99643117e-16 -1.36517133e-15  2.39503742e-16\n",
      "  -5.17328082e-16  1.37315479e-15 -2.81017723e-16  3.60852304e-16\n",
      "  -2.95387948e-16 -9.58014966e-18  1.00000351e+00  1.02582519e-02]\n",
      " [-1.05964106e-02 -2.27709452e-01 -5.31410805e-01 -2.10881216e-01\n",
      "   9.87320130e-02 -3.86357613e-01  2.15981939e-01  3.97312673e-01\n",
      "  -1.03079458e-01 -4.42457573e-02 -1.01502497e-01  1.03977387e-04\n",
      "  -9.54183566e-03  5.29342762e-03  3.37512903e-02 -3.90954044e-03\n",
      "   7.30906774e-03  3.56504659e-02 -5.61509844e-02  1.05999300e-01\n",
      "  -6.48008739e-02 -1.12632949e-01  5.14623550e-03 -4.78370311e-02\n",
      "  -3.20804841e-03  2.88255646e-02  1.02582519e-02  1.00000351e+00]]\n"
     ]
    }
   ],
   "source": [
    "# covariance matrix\n",
    "cov_matrix = np.cov(X_std.T)\n",
    "print('Covariance Matrix \\n%s', cov_matrix)"
   ]
  },
  {
   "cell_type": "code",
   "execution_count": 65,
   "metadata": {},
   "outputs": [],
   "source": [
    "eig_vals, eig_vecs = np.linalg.eig(cov_matrix)"
   ]
  },
  {
   "cell_type": "code",
   "execution_count": 66,
   "metadata": {},
   "outputs": [
    {
     "name": "stdout",
     "output_type": "stream",
     "text": [
      "Eigen Vectors \n",
      "%s [[-7.06305570e-01 -3.32528666e-02  7.07119776e-01  2.88310734e-03\n",
      "   7.25655445e-15 -2.23028365e-15 -1.59036968e-15 -1.92001748e-15\n",
      "  -9.37623286e-16  1.64300312e-15 -3.89332783e-16  8.18525151e-16\n",
      "   2.18829729e-15 -1.71531239e-15 -8.26547076e-17 -1.05103005e-15\n",
      "   4.87539875e-16 -4.39212034e-16 -6.14074948e-16  3.00368425e-16\n",
      "   8.98946296e-16 -5.78033300e-17  1.52180578e-16 -4.56185634e-16\n",
      "  -1.51137383e-15  1.22975698e-16  8.17214704e-17 -8.24317341e-16]\n",
      " [ 1.36137621e-01 -1.75168781e-01  1.27008916e-01  1.80145880e-01\n",
      "   4.00260717e-02  1.65151554e-02 -5.23215806e-02 -1.08831637e-01\n",
      "   9.44370308e-03 -2.13404770e-02 -1.30177993e-01  1.27989043e-01\n",
      "  -6.33197080e-02  2.02319603e-02 -5.07398705e-02  3.36342819e-01\n",
      "  -1.14190386e-01 -6.58449821e-02 -2.81159258e-01 -8.34419630e-02\n",
      "  -7.94496385e-03  9.64853102e-02  7.78864856e-02  2.42146203e-01\n",
      "   8.06211454e-02  8.27431487e-02  2.98155944e-01  3.24210483e-01]\n",
      " [ 1.16151691e-02 -4.19354576e-01 -9.82907195e-03  4.19494628e-01\n",
      "   1.44900596e-02  4.23607520e-03  7.04885206e-02  7.60538207e-02\n",
      "  -7.77625723e-02  1.20898275e-01  7.32185383e-02 -1.38240972e-01\n",
      "  -3.87846334e-04  4.41589325e-02  1.13439592e-01 -4.29463139e-01\n",
      "  -2.88169377e-01 -4.08612605e-01 -1.36686831e-01  9.34486906e-02\n",
      "   3.51271828e-01 -1.04088648e-01  2.99507711e-01 -2.18961828e-01\n",
      "   4.39040971e-02 -4.99588742e-02  1.81651495e-01 -3.79866657e-01]\n",
      " [-4.42233099e-01 -1.81828180e-01 -4.50947794e-01  1.65132051e-01\n",
      "  -1.46515660e-01 -3.79318924e-02  5.82845409e-02  1.26784692e-01\n",
      "  -2.90129945e-02  1.51386329e-01 -1.69214492e-01 -1.04823168e-01\n",
      "   1.17042608e-01 -1.55310541e-01  1.27892411e-01  2.74820103e-01\n",
      "   1.97414694e-01  3.36612223e-02  1.40400970e-01  3.22134572e-02\n",
      "  -9.61619208e-02 -3.13154515e-01 -1.87498909e-01 -2.29705389e-03\n",
      "   6.26786104e-02  2.00834757e-01 -8.74537466e-02  9.82642646e-02]\n",
      " [-1.17498685e-01  7.39339710e-02 -1.13567405e-01 -7.82840067e-02\n",
      "  -4.20442867e-02 -2.05870863e-02  6.92970479e-02  1.32539151e-01\n",
      "  -2.27746658e-02  6.20581266e-02  1.69332208e-01  5.76537819e-02\n",
      "  -1.68323652e-01 -2.22803408e-01 -5.74540278e-01 -1.75004129e-01\n",
      "   2.35006329e-01 -1.28487075e-01 -2.72668262e-01  2.41939615e-01\n",
      "   9.78952464e-02  2.20728089e-01  2.77609373e-01 -1.22194318e-01\n",
      "   2.46281450e-01 -1.74671383e-01 -6.72747476e-02 -1.62100470e-01]\n",
      " [ 2.02894985e-01 -2.98180229e-01  1.87393309e-01  3.05571813e-01\n",
      "   4.51244545e-02  3.19395168e-02 -7.33142390e-02 -1.77762173e-01\n",
      "   8.74425244e-02  3.90320363e-02 -1.48147111e-01  3.09510836e-02\n",
      "  -1.83484964e-01 -1.38451966e-01  1.88356254e-01  9.15454212e-02\n",
      "   4.79827519e-01  3.08644048e-01 -1.96265207e-01  3.04365839e-02\n",
      "   4.10733625e-02 -1.35680058e-02 -1.66831974e-01 -1.96046799e-01\n",
      "   1.03508863e-01 -1.70093436e-02 -1.57320704e-01 -1.56969731e-01]\n",
      " [-7.71359062e-02  1.67940713e-01 -6.84535061e-02 -1.70712411e-01\n",
      "  -4.17446775e-02 -2.92568534e-03 -3.69589391e-03 -1.01568066e-02\n",
      "  -5.85182508e-02  2.93317040e-01 -1.70152811e-01 -6.72085433e-02\n",
      "   3.31470001e-01 -1.10535057e-01  3.41495084e-01  5.84397553e-02\n",
      "   6.28220196e-02  2.21255055e-01 -3.05177178e-01 -7.11082910e-02\n",
      "   1.16526575e-01 -1.98298537e-01  4.49428489e-01 -5.45556511e-02\n",
      "  -2.76216355e-01 -7.58145608e-02 -2.13468407e-01 -1.33476334e-03]\n",
      " [ 7.39198817e-02  3.16382679e-01  8.99906864e-02 -3.13390641e-01\n",
      "  -2.33885916e-03  1.89583675e-02 -1.08162677e-01 -1.58870346e-01\n",
      "   1.08904422e-01 -8.61557198e-02 -1.63127823e-01 -3.88672512e-03\n",
      "  -1.05148250e-01 -1.31074615e-01  1.33198228e-01  2.54947762e-03\n",
      "   4.23006211e-02 -1.92910875e-01 -1.07522737e-01  5.05463159e-02\n",
      "   2.49030102e-01 -2.03455929e-01  3.15321584e-02 -3.29008964e-01\n",
      "   1.33002938e-01  2.32844275e-01  2.72947565e-01 -4.30585666e-01]\n",
      " [-3.52815175e-02 -8.26383662e-02 -3.94583386e-02  8.12583971e-02\n",
      "  -1.67765104e-02 -1.02419620e-02  3.32866510e-02  1.87652226e-02\n",
      "  -1.33951403e-01 -2.76544356e-02  6.74718865e-02 -4.86260701e-02\n",
      "   5.90688568e-02 -1.04589973e-01 -2.97539383e-01  3.66361470e-01\n",
      "  -2.13391617e-01  3.23527576e-01  1.40538454e-01 -3.96396509e-03\n",
      "  -3.07025861e-01  1.85571124e-01  1.16097536e-01 -3.37265021e-01\n",
      "  -4.38153226e-01 -3.63102239e-02 -3.36236534e-01 -2.12034993e-01]\n",
      " [-7.39980673e-03 -3.52044811e-02 -9.18911114e-03  3.49024748e-02\n",
      "   6.62952299e-02 -2.58317198e-03 -1.57909415e-02 -7.04932506e-02\n",
      "   6.57610814e-02  1.77622386e-01 -1.74098383e-01  2.19586335e-01\n",
      "   3.22193800e-01  5.08919604e-02 -2.04365237e-01 -5.56332208e-02\n",
      "  -4.72558399e-02  9.07808409e-02 -5.37434029e-02 -1.71587667e-01\n",
      "  -1.94331933e-01  1.76898488e-01  4.76892179e-02 -4.73642730e-01\n",
      "   2.55809947e-01  2.41732344e-01 -1.36589982e-01 -2.86155310e-01]\n",
      " [ 3.73279435e-02 -7.88879632e-02  3.32480718e-02  8.02309321e-02\n",
      "  -2.66541039e-02  1.16138284e-02 -2.34809577e-02  9.86806413e-02\n",
      "   1.12411509e-01 -4.89123614e-02 -1.78774990e-01  1.69088791e-01\n",
      "   6.99151813e-02 -6.29902800e-02 -2.91378118e-01  2.93510614e-01\n",
      "  -4.55478906e-02  5.36578050e-01  2.74236555e-01 -6.53625314e-02\n",
      "  -3.27953901e-02 -3.49416508e-01  4.61581763e-02  4.82702381e-01\n",
      "   4.41211793e-02 -9.67109621e-02  3.28690046e-01  3.63874498e-01]\n",
      " [-2.66432771e-01 -9.10889647e-03 -2.66550757e-01 -8.79363294e-04\n",
      "  -4.94503446e-02 -3.62430544e-02  6.57590062e-02  1.53786858e-01\n",
      "   8.49663012e-02 -4.02060958e-01 -3.56922038e-03 -1.86447222e-01\n",
      "  -3.65337678e-01 -3.15266961e-02  2.55054735e-01 -1.25448937e-01\n",
      "  -2.56881913e-01  8.78171167e-02 -1.37763060e-01  8.87837942e-02\n",
      "  -4.04847971e-02  2.68932087e-01  1.53530183e-01  4.88271197e-02\n",
      "   2.36280222e-01  1.58461963e-01  2.41344839e-01 -1.31910369e-01]\n",
      " [ 1.34168723e-01 -2.90861989e-03  1.33845110e-01  7.93317702e-03\n",
      "  -6.85947181e-01 -6.94099466e-01  1.86221479e-02  1.78205152e-03\n",
      "  -4.04137964e-03  7.16367949e-03 -5.83566957e-02  2.92106490e-02\n",
      "  -2.68667160e-03  1.31464910e-02  9.58168434e-03 -3.49581569e-02\n",
      "  -4.07979187e-02 -1.98757864e-02 -1.67506957e-02  3.02081779e-02\n",
      "  -9.66332926e-03  7.14663208e-03 -1.61118336e-02 -2.77368370e-02\n",
      "   8.65160726e-03 -1.79956428e-02  3.21491702e-03 -1.89541825e-02]\n",
      " [-7.11170150e-02  1.72792153e-03 -7.09359675e-02 -4.39109009e-03\n",
      "   6.87272125e-01 -7.10560081e-01 -5.02747552e-02 -8.75095544e-03\n",
      "   1.01680583e-02  3.33109707e-02 -1.66173863e-02  3.32406530e-02\n",
      "   1.94454804e-02 -2.45780998e-02  8.04181775e-03  4.16166633e-03\n",
      "   1.90364334e-02  8.25653567e-03 -5.77905455e-03  1.54806870e-02\n",
      "   1.57241702e-02 -4.71076146e-02 -1.27871993e-02  3.04182586e-02\n",
      "  -4.19267461e-02 -1.82139424e-02  2.26452625e-02  3.38997266e-03]\n",
      " [-1.07689642e-01  2.29448271e-02 -1.06376709e-01 -2.69632509e-02\n",
      "  -1.33169839e-03  4.34859585e-02 -5.78580495e-02 -1.27087762e-02\n",
      "   2.80818289e-02  1.90726644e-01 -4.63297410e-01  4.18947575e-01\n",
      "   4.53088540e-02  3.13526802e-01 -1.16833687e-01 -1.28697703e-01\n",
      "  -2.02170110e-01 -7.25058135e-02 -1.79224396e-01  5.45441615e-01\n",
      "   2.47039918e-01  1.09380997e-01 -3.36193291e-02 -1.11927906e-01\n",
      "  -2.66286805e-01  1.18227886e-01  3.92192031e-02  2.20865052e-02]\n",
      " [ 1.29726557e-02 -2.64058823e-03  1.28208023e-02  3.12474791e-03\n",
      "  -1.09920061e-02  3.61185088e-02 -4.01743069e-01 -7.78685357e-02\n",
      "  -1.51382558e-01  1.38025690e-01 -7.26478606e-02 -1.51392792e-01\n",
      "   2.37187312e-01  3.19965870e-01 -1.55901622e-02 -9.70190496e-02\n",
      "  -2.04370916e-01  6.99422117e-02 -2.06617865e-01  3.33166793e-01\n",
      "  -6.48942168e-03 -1.16435604e-01 -2.70150185e-01  1.20248641e-01\n",
      "  -3.74950222e-02 -3.32836179e-01 -7.77615168e-03 -1.79323510e-01]\n",
      " [-7.91589609e-02  3.04263253e-03 -7.89002432e-02 -6.00616577e-03\n",
      "  -3.42569863e-02 -9.02859569e-03 -5.31418507e-01 -1.56819452e-01\n",
      "  -6.14120728e-01 -7.63197395e-02 -1.46110530e-01  1.62680426e-02\n",
      "  -1.09088485e-01 -7.91672489e-02  5.72282454e-02  1.04084863e-01\n",
      "   1.35647877e-01 -2.60414241e-02  2.05186180e-01 -1.62150225e-01\n",
      "   5.78133294e-03  2.34641838e-01  6.26180972e-02  9.62487892e-02\n",
      "   1.28529523e-01 -9.54429769e-02  9.88657112e-02  1.71200912e-01]\n",
      " [ 9.57365335e-02  3.14624771e-02  9.72194127e-02 -2.78535866e-02\n",
      "   7.04261810e-02 -5.58690591e-03  6.10690102e-01 -3.78814260e-02\n",
      "  -6.65719290e-01 -1.34211247e-01 -1.10303542e-01  3.45131502e-02\n",
      "  -4.67979140e-02  1.06348892e-01 -3.17193990e-02  5.47955089e-02\n",
      "  -6.24203747e-02  1.22970388e-01 -6.23122426e-02  1.23775101e-01\n",
      "   2.19487397e-02 -7.23306122e-02 -5.09159912e-02 -8.23044087e-03\n",
      "   7.63713051e-02  1.11303764e-01 -4.56545321e-02 -5.24742186e-02]\n",
      " [ 3.35987367e-02 -4.31939718e-02  3.13476979e-02  4.44223452e-02\n",
      "  -1.69348152e-02  1.74199709e-02 -3.38917273e-01 -1.08259377e-01\n",
      "  -1.79781763e-01 -2.67880323e-01  1.95260150e-01  1.19661438e-01\n",
      "  -1.55209604e-01 -2.71266760e-01 -9.95805090e-02 -1.84745673e-01\n",
      "  -1.91878573e-01 -6.90249739e-03 -2.19229080e-01  9.05339495e-02\n",
      "   9.81680328e-03 -4.10371687e-01  1.30837401e-01 -2.44227271e-01\n",
      "  -2.91169569e-02  4.42951608e-01 -6.55712472e-02 -1.67922167e-01]\n",
      " [ 4.35304491e-02  8.52292760e-02  4.78289080e-02 -8.35384391e-02\n",
      "   5.15551668e-03  8.60982648e-03  5.16345698e-03  6.08549655e-01\n",
      "  -1.62305373e-01  1.25535589e-01  9.22293597e-02  2.09260604e-01\n",
      "  -3.01473994e-01  2.53165169e-01  1.09993171e-01  5.23057015e-02\n",
      "   2.87265052e-02  1.19107456e-01 -5.27793933e-02 -2.25415647e-01\n",
      "  -3.71911232e-02 -1.62546526e-01 -3.26453720e-02 -7.47039495e-02\n",
      "   2.64869725e-01  4.73604765e-02 -4.06875060e-02 -1.01173306e-01]\n",
      " [ 1.57763635e-01 -4.57431518e-02  1.55220398e-01  5.16215440e-02\n",
      "   5.34361989e-02  4.71858421e-03 -6.32572225e-03  5.63657706e-01\n",
      "   8.79746880e-03 -2.90697962e-01 -8.40033584e-03  4.60976030e-02\n",
      "   1.32365631e-01 -2.46386294e-01  5.53579925e-02  2.57527347e-02\n",
      "  -8.61827363e-02 -9.55694357e-03 -1.56717968e-01  1.69077782e-01\n",
      "   2.84042469e-01  2.26463583e-01 -2.33461263e-01 -3.78845507e-02\n",
      "  -8.17677974e-02 -5.39984155e-02 -2.11599483e-01  4.30586574e-03]\n",
      " [ 5.98884903e-02 -8.69015163e-02  5.53697013e-02  8.90840722e-02\n",
      "  -1.28572022e-02 -8.34232159e-03 -1.12941009e-01 -5.42205464e-03\n",
      "   5.38807765e-02 -4.69475525e-02 -1.63181457e-01  2.75254450e-01\n",
      "   9.97379225e-02  2.54329651e-01 -4.20402600e-02 -5.19156319e-03\n",
      "   3.13225629e-01 -1.36064085e-01  2.08971717e-01 -1.27935901e-01\n",
      "  -1.28908026e-01  1.14737683e-01  4.53620394e-01 -1.17856550e-02\n",
      "  -1.10824747e-01  3.78489206e-01 -1.34226369e-01 -1.81185954e-01]\n",
      " [-1.76289308e-02  3.45681368e-03 -1.74292955e-02 -4.11484537e-03\n",
      "  -4.32518089e-02  2.64410549e-03  3.30746542e-02  9.68662096e-02\n",
      "  -1.20609664e-01  5.02493694e-01  2.36985157e-01  7.06933069e-03\n",
      "   5.26295893e-01 -2.10186109e-01 -7.69579912e-02 -1.85601772e-01\n",
      "   2.01420238e-01 -1.13838405e-01 -2.20553143e-01  3.55261170e-02\n",
      "   3.00417562e-01  2.43059882e-01 -2.42224314e-01  1.49051554e-01\n",
      "  -4.88220456e-01  2.90008478e-01  4.11858954e-01 -7.87056952e-02]\n",
      " [-2.48645233e-01 -4.63633359e-02 -2.50690126e-01  3.70152660e-02\n",
      "  -8.94162640e-02 -2.44466759e-02  2.55086376e-02 -1.53950210e-01\n",
      "   7.64993331e-03 -3.50660655e-01  1.51771214e-01  3.75261106e-01\n",
      "  -5.72164302e-02  2.59779091e-01 -1.18829731e-01 -6.99724295e-02\n",
      "   1.79522704e-01  3.37052522e-02 -3.39280586e-01 -3.64947116e-01\n",
      "   3.11457550e-01  2.16667639e-02 -2.24406681e-01 -8.65823719e-02\n",
      "  -8.47103375e-02 -2.12696444e-01 -1.72917359e-02 -1.48141528e-01]\n",
      " [-4.44008283e-02 -4.06567840e-03 -4.45506779e-02  2.39934929e-03\n",
      "  -3.01615523e-02  5.76783965e-03 -7.85165354e-03 -2.26726686e-01\n",
      "   4.22779827e-02  1.80088914e-01  2.18850952e-01  4.43139608e-01\n",
      "   2.55047534e-02 -2.09161358e-01  1.52606880e-01  3.36119737e-01\n",
      "  -3.25057773e-01  2.82790326e-01  2.16693277e-01  3.64677825e-01\n",
      "  -9.26374862e-02  1.17428646e-01 -1.05017977e-02  1.43481874e-01\n",
      "   1.92153471e-01 -9.85089744e-02 -2.01790232e-01  1.07804145e-01]\n",
      " [-6.77118463e-03  2.25353978e-02 -5.61079090e-03 -2.27732203e-02\n",
      "  -6.98029687e-03 -2.55123561e-02 -8.21463541e-02 -1.78094706e-01\n",
      "   7.25116182e-02 -6.73159006e-04 -1.08703700e-01 -1.42283848e-01\n",
      "  -2.00150866e-01  2.83120394e-02 -3.14147550e-01 -4.77634928e-02\n",
      "  -1.58144162e-01  8.78245646e-02 -3.10285427e-01 -1.05781759e-01\n",
      "   5.36925754e-01  2.67073267e-01 -1.92132419e-01 -1.15450576e-02\n",
      "   1.90841858e-01  2.55583582e-01 -3.59787311e-01 -7.46536935e-02]\n",
      " [-1.05689800e-02  7.73828078e-03 -1.01597685e-02 -8.12879990e-03\n",
      "   7.46805061e-03  5.62343459e-02  3.95590524e-02 -6.89037211e-02\n",
      "  -1.55895101e-03 -6.53322317e-02 -5.53787313e-01  3.68010980e-01\n",
      "  -1.32296690e-01 -4.67446839e-01 -2.86032172e-02 -3.34765638e-01\n",
      "  -6.55841085e-02 -2.45070744e-01 -3.15032620e-02 -2.01787523e-01\n",
      "  -2.92834794e-02 -7.63024602e-04 -1.19054721e-01  1.03479935e-02\n",
      "  -4.18092429e-02 -2.63517061e-01  1.72284410e-02 -2.15098806e-01]\n",
      " [ 2.84319240e-02 -7.06521087e-01 -1.94242655e-03 -7.07117958e-01\n",
      "  -3.07945315e-16  6.06521035e-16 -3.39550385e-16 -2.39305365e-16\n",
      "  -3.59833285e-16  2.73423382e-16 -1.52756957e-17  1.92414730e-16\n",
      "   1.03280422e-18  4.90172746e-16  8.60396074e-16  4.27358503e-16\n",
      "  -1.13510200e-15  8.80983214e-16 -2.55745570e-16  5.88196160e-16\n",
      "  -1.85471895e-16  2.27904312e-16  5.88292400e-16 -3.53905683e-19\n",
      "  -3.81100644e-18  1.57877510e-16 -7.29560483e-16 -1.12749907e-16]]\n",
      "\n",
      " Eigen Values \n",
      "%s [0.34337257 0.10385209 1.65709006 1.89569932 1.00000351 1.00000351\n",
      " 1.00000351 1.00000351 1.00000351 1.00000351 1.00000351 1.00000351\n",
      " 1.00000351 1.00000351 1.00000351 1.00000351 1.00000351 1.00000351\n",
      " 1.00000351 1.00000351 1.00000351 1.00000351 1.00000351 1.00000351\n",
      " 1.00000351 1.00000351 1.00000351 1.00000351]\n"
     ]
    }
   ],
   "source": [
    "print('Eigen Vectors \\n%s', eig_vecs)\n",
    "print('\\n Eigen Values \\n%s', eig_vals)"
   ]
  },
  {
   "cell_type": "code",
   "execution_count": 67,
   "metadata": {},
   "outputs": [
    {
     "name": "stdout",
     "output_type": "stream",
     "text": [
      "Cumulative Variance Explained [  6.77033095  12.68848895  16.25991752  19.83134609  23.40277467\n",
      "  26.97420324  30.54563181  34.11706038  37.68848895  41.25991752\n",
      "  44.83134609  48.40277467  51.97420324  55.54563181  59.11706038\n",
      "  62.68848895  66.25991752  69.83134609  73.40277467  76.97420324\n",
      "  80.54563181  84.11706038  87.68848895  91.25991752  94.83134609\n",
      "  98.40277467  99.62910098 100.        ]\n"
     ]
    }
   ],
   "source": [
    "tot = sum(eig_vals)\n",
    "var_exp = [( i /tot ) * 100 for i in sorted(eig_vals, reverse=True)]\n",
    "cum_var_exp = np.cumsum(var_exp)\n",
    "print(\"Cumulative Variance Explained\", cum_var_exp)"
   ]
  },
  {
   "cell_type": "code",
   "execution_count": 93,
   "metadata": {},
   "outputs": [
    {
     "data": {
      "text/plain": [
       "28"
      ]
     },
     "execution_count": 93,
     "metadata": {},
     "output_type": "execute_result"
    }
   ],
   "source": [
    "len(cum_var_exp>90)"
   ]
  },
  {
   "cell_type": "markdown",
   "metadata": {},
   "source": [
    "Thus we can see that 95% of the variance is explained by the first 3 principal components"
   ]
  },
  {
   "cell_type": "code",
   "execution_count": 99,
   "metadata": {},
   "outputs": [],
   "source": [
    "pca = PCA(n_components=5).fit_transform(X)"
   ]
  },
  {
   "cell_type": "code",
   "execution_count": 100,
   "metadata": {},
   "outputs": [
    {
     "name": "stderr",
     "output_type": "stream",
     "text": [
      "/home/aswath/anaconda3/lib/python3.7/site-packages/sklearn/ensemble/forest.py:245: FutureWarning:\n",
      "\n",
      "The default value of n_estimators will change from 10 in version 0.20 to 100 in 0.22.\n",
      "\n"
     ]
    }
   ],
   "source": [
    "model_pca = RandomForestClassifier()\n",
    "model_pca = model_pca.fit(pca, y)"
   ]
  },
  {
   "cell_type": "code",
   "execution_count": 101,
   "metadata": {},
   "outputs": [],
   "source": [
    "y_pred = model_pca.predict(pca)"
   ]
  },
  {
   "cell_type": "code",
   "execution_count": 102,
   "metadata": {},
   "outputs": [
    {
     "name": "stdout",
     "output_type": "stream",
     "text": [
      "Classification Report\n",
      "              precision    recall  f1-score   support\n",
      "\n",
      "           0       1.00      1.00      1.00    284315\n",
      "           1       1.00      0.88      0.94       492\n",
      "\n",
      "    accuracy                           1.00    284807\n",
      "   macro avg       1.00      0.94      0.97    284807\n",
      "weighted avg       1.00      1.00      1.00    284807\n",
      "\n"
     ]
    }
   ],
   "source": [
    "print('Classification Report')\n",
    "print(classification_report(y, y_pred))"
   ]
  },
  {
   "cell_type": "code",
   "execution_count": 103,
   "metadata": {},
   "outputs": [
    {
     "data": {
      "text/plain": [
       "0.9997928421703118"
      ]
     },
     "execution_count": 103,
     "metadata": {},
     "output_type": "execute_result"
    }
   ],
   "source": [
    "accuracy_score(y, y_pred)"
   ]
  },
  {
   "cell_type": "markdown",
   "metadata": {
    "_uuid": "c281bff3a66a72421dd66976494080839fdead29"
   },
   "source": [
    "# <a id=\"7\">Conclusions</a>"
   ]
  },
  {
   "cell_type": "markdown",
   "metadata": {
    "_uuid": "ac803cb42c6211a6b96b1f30075b82092a50e5d2"
   },
   "source": [
    "We investigated the data, checking for data unbalancing, visualizing the features and understanding the relationship between different features. \n",
    "\n",
    "* we build a **Linear Regression**,for which we obtained the influencing factors of the target columns.\n",
    "\n",
    "* We then investigated predictive models. The data was split into, a train set and a test set.\n",
    "\n",
    "* We started with **Logistic Regression**, for which we obtained an ROC-AUC score of **0.82** when predicting the target for the test set,the accuracy score is **0.9992**.  \n",
    "\n",
    "* We followed with an **Decision tree classifier** model, with criterion as **entropy** ROC-AUC score of **0.914** and the accuracy score for prediction of the test set target values is **0.9996**. \n",
    "\n",
    "* We followed with an **RandomForestClassifier** model, with ROC-AUC score **0.914** and the accuracy score for prediction of the test set target values is **0.9996**. \n",
    "\n",
    "* We followed with an **AdaBoostClassifier** model, with ROC-AUC score **0.872** and the accuracy score for prediction of the test set target values is **0.9993**. \n",
    "\n",
    "* We then followed with an **GradientBoostClassifier**, with ROC-AUC score **0.872** and the accuracy score for prediction of the test set target values is **0.9993**. \n",
    "\n",
    "* We then followed with an **K-means clustering**, with elbow method getting an K-value as **3**. \n",
    "\n",
    "* We then experimented with a **PCA** model. In this case, we used the training model.  The best validation score obtained was   **1.0**.\n"
   ]
  },
  {
   "cell_type": "markdown",
   "metadata": {
    "_uuid": "04ae7944c90114df8e14e6f53f5884d72dc7a304"
   },
   "source": [
    "# <a id=\"8\">References</a>\n",
    "\n",
    "[1] Credit Card Fraud Detection Database, Anonymized credit card transactions labeled as fraudulent or genuine, https://www.kaggle.com/mlg-ulb/creditcardfraud  \n",
    "[2] Principal Component Analysis, Wikipedia Page, https://en.wikipedia.org/wiki/Principal_component_analysis  \n",
    "[3] RandomForrestClassifier, http://scikit-learn.org/stable/modules/generated/sklearn.ensemble.RandomForestClassifier.html  \n",
    "[4] ROC-AUC characteristic, https://en.wikipedia.org/wiki/Receiver_operating_characteristic#Area_under_the_curve   \n",
    "[5] AdaBoostClassifier, http://scikit-learn.org/stable/modules/generated/sklearn.ensemble.AdaBoostClassifier.html  \n",
    "[6] XGBoost Python API Reference, http://xgboost.readthedocs.io/en/latest/python/python_api.html  \n"
   ]
  },
  {
   "cell_type": "code",
   "execution_count": null,
   "metadata": {},
   "outputs": [],
   "source": []
  }
 ],
 "metadata": {
  "kernelspec": {
   "display_name": "Python 3",
   "language": "python",
   "name": "python3"
  },
  "language_info": {
   "codemirror_mode": {
    "name": "ipython",
    "version": 3
   },
   "file_extension": ".py",
   "mimetype": "text/x-python",
   "name": "python",
   "nbconvert_exporter": "python",
   "pygments_lexer": "ipython3",
   "version": "3.7.3"
  }
 },
 "nbformat": 4,
 "nbformat_minor": 1
}
